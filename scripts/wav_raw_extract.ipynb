{
 "cells": [
  {
   "cell_type": "code",
   "execution_count": 1,
   "metadata": {},
   "outputs": [],
   "source": [
    "from scipy.io import wavfile\n",
    "import os\n",
    "import numpy as np\n",
    "import pandas as pd"
   ]
  },
  {
   "cell_type": "markdown",
   "metadata": {},
   "source": [
    "SETUP"
   ]
  },
  {
   "cell_type": "code",
   "execution_count": 2,
   "metadata": {},
   "outputs": [],
   "source": [
    "#open directory with the samples in it.\n",
    "os.chdir('./Training_data/')\n",
    "\n",
    "# next, make a NP array of every wav file in the directory\n",
    "SampleList = np.array(os.listdir())\n",
    "SampleList = SampleList[ np.char.endswith(SampleList, '.wav') ] #ignore everything that's not a .wav file.\n",
    "\n",
    "#make a fresh blank series.\n",
    "WavData = pd.DataFrame()"
   ]
  },
  {
   "cell_type": "markdown",
   "metadata": {},
   "source": [
    "THE LOOP"
   ]
  },
  {
   "cell_type": "code",
   "execution_count": 3,
   "metadata": {},
   "outputs": [],
   "source": [
    "for SampleName in SampleList:\n",
    "    SampleRate, Audiodata = wavfile.read(SampleName)\n",
    "    Audio = [np.array(Audiodata)[:,0]]\n",
    "    # Write these magnitudes/dBs to the Pandas array! (Index = SampleName)\n",
    "    SampleRow = pd.DataFrame(Audio, index = [SampleName], columns = np.arange(0,35280))\n",
    "    WavData = pd.concat([WavData, SampleRow])"
   ]
  },
  {
   "cell_type": "markdown",
   "metadata": {},
   "source": [
    "CSV FILE OUTPUT"
   ]
  },
  {
   "cell_type": "code",
   "execution_count": 4,
   "metadata": {},
   "outputs": [
    {
     "name": "stdout",
     "output_type": "stream",
     "text": [
      "The first few samples' raw data for your viewing pleasure:\n",
      "                           0      1      2      3      4      5      6      \\\n",
      "01 - Circle of Life_0.wav      0     62    530   1146   1685   2091   2368   \n",
      "01 - Circle of Life_1.wav      0      0      0      0      0      0      0   \n",
      "01 - Circle of Life_2.wav      0      0      0      0      0      0      0   \n",
      "01 - Circle of Life_3.wav      0      0      0      0      0      0      0   \n",
      "01 - Circle of Life_4.wav      0      9    104    191    273    351    420   \n",
      "\n",
      "                           7      8      9      ...  35270  35271  35272  \\\n",
      "01 - Circle of Life_0.wav   2480   2449   2314  ...  -1249  -1258  -1267   \n",
      "01 - Circle of Life_1.wav      0      0      0  ...   -618   -614   -614   \n",
      "01 - Circle of Life_2.wav      0      0      0  ...      0      0      0   \n",
      "01 - Circle of Life_3.wav      0      0      0  ...    -37    -41    -43   \n",
      "01 - Circle of Life_4.wav    480    530    567  ...    273     65   -166   \n",
      "\n",
      "                           35273  35274  35275  35276  35277  35278  35279  \n",
      "01 - Circle of Life_0.wav  -1269  -1268  -1261  -1250  -1239  -1217  -1191  \n",
      "01 - Circle of Life_1.wav   -615   -612   -614   -613   -614   -614   -615  \n",
      "01 - Circle of Life_2.wav      0      0      0      0      0      0      0  \n",
      "01 - Circle of Life_3.wav    -47    -49    -51    -53    -55    -56    -56  \n",
      "01 - Circle of Life_4.wav   -415   -661   -866   -963   -827   -331    413  \n",
      "\n",
      "[5 rows x 35280 columns]\n"
     ]
    }
   ],
   "source": [
    "WavData.to_csv('000SampleWav.csv')\n",
    "\n",
    "print('The first few samples\\' raw data for your viewing pleasure:')\n",
    "print(WavData.head())"
   ]
  },
  {
   "cell_type": "code",
   "execution_count": null,
   "metadata": {},
   "outputs": [],
   "source": []
  }
 ],
 "metadata": {
  "kernelspec": {
   "display_name": "Python 3",
   "language": "python",
   "name": "python3"
  },
  "language_info": {
   "codemirror_mode": {
    "name": "ipython",
    "version": 3
   },
   "file_extension": ".py",
   "mimetype": "text/x-python",
   "name": "python",
   "nbconvert_exporter": "python",
   "pygments_lexer": "ipython3",
   "version": "3.8.3"
  }
 },
 "nbformat": 4,
 "nbformat_minor": 2
}
