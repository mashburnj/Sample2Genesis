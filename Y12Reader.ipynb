{
 "cells": [
  {
   "cell_type": "code",
   "execution_count": 1,
   "metadata": {},
   "outputs": [],
   "source": [
    "import os\n",
    "import numpy as np\n",
    "import pandas as pd"
   ]
  },
  {
   "cell_type": "markdown",
   "metadata": {},
   "source": [
    "SETUP"
   ]
  },
  {
   "cell_type": "code",
   "execution_count": 2,
   "metadata": {},
   "outputs": [],
   "source": [
    "#open directory with the samples in it.\n",
    "os.chdir('./Training_data/')\n",
    "\n",
    "# next, make a NP array of every y12 file in the directory\n",
    "SampleList = np.array(os.listdir())\n",
    "SampleList = SampleList[ np.char.endswith(SampleList, '.y12') ] #ignore everything that's not a .y12 file.\n",
    "\n",
    "#make a fresh blank series.\n",
    "SampleRegisters = pd.DataFrame(columns = ['Ratio1', 'TL1', 'Attack1', 'Decay1', 'Sustain1','Release1', 'Ratio2', 'TL2', 'Attack2', 'Decay2', 'Sustain2','Release2', 'Ratio3', 'TL3', 'Attack3', 'Decay3', 'Sustain3','Release3', 'Ratio4', 'TL4', 'Attack4', 'Decay4', 'Sustain4','Release4', 'Algorithm','Feedback'])"
   ]
  },
  {
   "cell_type": "markdown",
   "metadata": {},
   "source": [
    ".Y12 INPUT LOOP"
   ]
  },
  {
   "cell_type": "code",
   "execution_count": 3,
   "metadata": {},
   "outputs": [],
   "source": [
    "for SampleName in SampleList:\n",
    "    with open(SampleName, 'rb') as y12File:\n",
    "        registers = y12File.read(66) #only first 66 bytes are used\n",
    "    #mask = np.array([1,1,1,1,1,1,0,0,0,0,0,0,0,0,0,0,\n",
    "    #        1,1,1,1,1,1,0,0,0,0,0,0,0,0,0,0,\n",
    "    #        1,1,1,1,1,1,0,0,0,0,0,0,0,0,0,0,\n",
    "    #        1,1,1,1,1,1,0,0,0,0,0,0,0,0,0,0,\n",
    "    #        1,1], dtype=bool)\n",
    "    #registersUsed = registers[mask]\n",
    "    #print(registersUsed)\n",
    "    #rough programming, I know, but NumPy doesn't seem to like converting byte arrays to int arrays.\n",
    "    registersUsed = np.zeros(26)\n",
    "    registersUsed[0] = registers[0]\n",
    "    registersUsed[1] = registers[1]\n",
    "    registersUsed[2] = registers[2]\n",
    "    registersUsed[3] = registers[3]\n",
    "    registersUsed[4] = registers[4]\n",
    "    registersUsed[5] = registers[5]\n",
    "    registersUsed[6] = registers[16]\n",
    "    registersUsed[7] = registers[17]\n",
    "    registersUsed[8] = registers[18]\n",
    "    registersUsed[9] = registers[19]\n",
    "    registersUsed[10] = registers[20]\n",
    "    registersUsed[11] = registers[21]\n",
    "    registersUsed[12] = registers[32]\n",
    "    registersUsed[13] = registers[33]\n",
    "    registersUsed[14] = registers[34]\n",
    "    registersUsed[15] = registers[35]\n",
    "    registersUsed[16] = registers[36]\n",
    "    registersUsed[17] = registers[37]\n",
    "    registersUsed[18] = registers[48]\n",
    "    registersUsed[19] = registers[49]\n",
    "    registersUsed[20] = registers[50]\n",
    "    registersUsed[21] = registers[51]\n",
    "    registersUsed[22] = registers[52]\n",
    "    registersUsed[23] = registers[53]\n",
    "    registersUsed[24] = registers[64]\n",
    "    registersUsed[25] = registers[65]\n",
    "    SampleRow = pd.DataFrame([registersUsed], index = [SampleName], columns = ['Ratio1', 'TL1', 'Attack1', 'Decay1', 'Sustain1','Release1', 'Ratio2', 'TL2', 'Attack2', 'Decay2', 'Sustain2','Release2', 'Ratio3', 'TL3', 'Attack3', 'Decay3', 'Sustain3','Release3', 'Ratio4', 'TL4', 'Attack4', 'Decay4', 'Sustain4','Release4', 'Algorithm','Feedback'])\n",
    "    SampleRegisters = pd.concat([SampleRegisters, SampleRow])"
   ]
  },
  {
   "cell_type": "markdown",
   "metadata": {},
   "source": [
    "CSV FILE OUTPUT"
   ]
  },
  {
   "cell_type": "code",
   "execution_count": 4,
   "metadata": {},
   "outputs": [
    {
     "name": "stdout",
     "output_type": "stream",
     "text": [
      "The first few samples' registers for your viewing pleasure:\n",
      "                           Ratio1   TL1  Attack1  Decay1  Sustain1  Release1  \\\n",
      "01 - Circle of Life_0.y12   113.0  15.0     31.0     0.0      20.0       0.0   \n",
      "01 - Circle of Life_1.y12     0.0  25.0     31.0   128.0       0.0       0.0   \n",
      "01 - Circle of Life_2.y12    15.0   0.0     31.0     0.0       0.0       0.0   \n",
      "01 - Circle of Life_3.y12   114.0  10.0     16.0   146.0       0.0     160.0   \n",
      "01 - Circle of Life_4.y12   114.0  24.0     18.0   138.0       1.0      16.0   \n",
      "\n",
      "                           Ratio2   TL2  Attack2  Decay2  ...  Sustain3  \\\n",
      "01 - Circle of Life_0.y12    48.0  34.0     31.0     0.0  ...       2.0   \n",
      "01 - Circle of Life_1.y12   112.0  40.0     31.0     0.0  ...       0.0   \n",
      "01 - Circle of Life_2.y12    15.0   0.0     31.0     0.0  ...       0.0   \n",
      "01 - Circle of Life_3.y12    54.0  45.0     31.0     0.0  ...      17.0   \n",
      "01 - Circle of Life_4.y12   116.0  30.0     31.0   128.0  ...       0.0   \n",
      "\n",
      "                           Release3  Ratio4   TL4  Attack4  Decay4  Sustain4  \\\n",
      "01 - Circle of Life_0.y12      48.0   113.0  12.0     31.0    11.0       2.0   \n",
      "01 - Circle of Life_1.y12       0.0     0.0  27.0     21.0   128.0       4.0   \n",
      "01 - Circle of Life_2.y12       0.0     1.0  21.0    147.0   128.0      17.0   \n",
      "01 - Circle of Life_3.y12       0.0     2.0  17.0     17.0   138.0      13.0   \n",
      "01 - Circle of Life_4.y12      48.0    83.0  19.0     19.0   140.0       0.0   \n",
      "\n",
      "                           Release4  Algorithm  Feedback  \n",
      "01 - Circle of Life_0.y12      48.0        4.0       0.0  \n",
      "01 - Circle of Life_1.y12       0.0        0.0       7.0  \n",
      "01 - Circle of Life_2.y12       0.0        0.0       0.0  \n",
      "01 - Circle of Life_3.y12      32.0        3.0       7.0  \n",
      "01 - Circle of Life_4.y12      32.0        5.0       7.0  \n",
      "\n",
      "[5 rows x 26 columns]\n"
     ]
    }
   ],
   "source": [
    "SampleRegisters.to_csv('000SampleRegisters.csv')\n",
    "\n",
    "print('The first few samples\\' registers for your viewing pleasure:')\n",
    "print(SampleRegisters.head())"
   ]
  }
 ],
 "metadata": {
  "kernelspec": {
   "display_name": "Python 3",
   "language": "python",
   "name": "python3"
  },
  "language_info": {
   "codemirror_mode": {
    "name": "ipython",
    "version": 3
   },
   "file_extension": ".py",
   "mimetype": "text/x-python",
   "name": "python",
   "nbconvert_exporter": "python",
   "pygments_lexer": "ipython3",
   "version": "3.8.3"
  }
 },
 "nbformat": 4,
 "nbformat_minor": 2
}
