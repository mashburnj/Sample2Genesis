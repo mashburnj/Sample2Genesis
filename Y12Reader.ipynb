{
 "cells": [
  {
   "cell_type": "code",
   "execution_count": 1,
   "metadata": {},
   "outputs": [],
   "source": [
    "import os\n",
    "import numpy as np\n",
    "import pandas as pd"
   ]
  },
  {
   "cell_type": "markdown",
   "metadata": {},
   "source": [
    "SETUP"
   ]
  },
  {
   "cell_type": "code",
   "execution_count": 2,
   "metadata": {},
   "outputs": [],
   "source": [
    "#open directory with the samples in it.\n",
    "os.chdir('./Training_data/')\n",
    "\n",
    "# next, make a NP array of every y12 file in the directory\n",
    "SampleList = np.array(os.listdir())\n",
    "SampleList = SampleList[ np.char.endswith(SampleList, '.y12') ] #ignore everything that's not a .y12 file.\n",
    "\n",
    "#make a fresh blank series.\n",
    "SampleRegisters = pd.DataFrame(columns = ['Ratio1', 'TL1', 'Attack1', 'Decay1', 'Sustain1','Release1', 'Ratio2', 'TL2', 'Attack2', 'Decay2', 'Sustain2','Release2', 'Ratio3', 'TL3', 'Attack3', 'Decay3', 'Sustain3','Release3', 'Ratio4', 'TL4', 'Attack4', 'Decay4', 'Sustain4','Release4', 'Algorithm','Feedback'])"
   ]
  },
  {
   "cell_type": "markdown",
   "metadata": {},
   "source": [
    ".Y12 INPUT LOOP"
   ]
  },
  {
   "cell_type": "code",
   "execution_count": 3,
   "metadata": {},
   "outputs": [
    {
     "ename": "ValueError",
     "evalue": "Shape of passed values is (26, 1), indices imply (1, 26)",
     "output_type": "error",
     "traceback": [
      "\u001b[1;31m---------------------------------------------------------------------------\u001b[0m",
      "\u001b[1;31mValueError\u001b[0m                                Traceback (most recent call last)",
      "\u001b[1;32m~\\Anaconda3\\lib\\site-packages\\pandas\\core\\internals\\managers.py\u001b[0m in \u001b[0;36mcreate_block_manager_from_blocks\u001b[1;34m(blocks, axes)\u001b[0m\n\u001b[0;32m   1650\u001b[0m                 blocks = [make_block(values=blocks[0],\n\u001b[1;32m-> 1651\u001b[1;33m                                      placement=slice(0, len(axes[0])))]\n\u001b[0m\u001b[0;32m   1652\u001b[0m \u001b[1;33m\u001b[0m\u001b[0m\n",
      "\u001b[1;32m~\\Anaconda3\\lib\\site-packages\\pandas\\core\\internals\\blocks.py\u001b[0m in \u001b[0;36mmake_block\u001b[1;34m(values, placement, klass, ndim, dtype, fastpath)\u001b[0m\n\u001b[0;32m   3094\u001b[0m \u001b[1;33m\u001b[0m\u001b[0m\n\u001b[1;32m-> 3095\u001b[1;33m     \u001b[1;32mreturn\u001b[0m \u001b[0mklass\u001b[0m\u001b[1;33m(\u001b[0m\u001b[0mvalues\u001b[0m\u001b[1;33m,\u001b[0m \u001b[0mndim\u001b[0m\u001b[1;33m=\u001b[0m\u001b[0mndim\u001b[0m\u001b[1;33m,\u001b[0m \u001b[0mplacement\u001b[0m\u001b[1;33m=\u001b[0m\u001b[0mplacement\u001b[0m\u001b[1;33m)\u001b[0m\u001b[1;33m\u001b[0m\u001b[1;33m\u001b[0m\u001b[0m\n\u001b[0m\u001b[0;32m   3096\u001b[0m \u001b[1;33m\u001b[0m\u001b[0m\n",
      "\u001b[1;32m~\\Anaconda3\\lib\\site-packages\\pandas\\core\\internals\\blocks.py\u001b[0m in \u001b[0;36m__init__\u001b[1;34m(self, values, placement, ndim)\u001b[0m\n\u001b[0;32m     86\u001b[0m                 \u001b[1;34m'Wrong number of items passed {val}, placement implies '\u001b[0m\u001b[1;33m\u001b[0m\u001b[1;33m\u001b[0m\u001b[0m\n\u001b[1;32m---> 87\u001b[1;33m                 '{mgr}'.format(val=len(self.values), mgr=len(self.mgr_locs)))\n\u001b[0m\u001b[0;32m     88\u001b[0m \u001b[1;33m\u001b[0m\u001b[0m\n",
      "\u001b[1;31mValueError\u001b[0m: Wrong number of items passed 1, placement implies 26",
      "\nDuring handling of the above exception, another exception occurred:\n",
      "\u001b[1;31mValueError\u001b[0m                                Traceback (most recent call last)",
      "\u001b[1;32m<ipython-input-3-c482b2890a6c>\u001b[0m in \u001b[0;36m<module>\u001b[1;34m\u001b[0m\n\u001b[0;32m     37\u001b[0m     \u001b[0mregistersUsed\u001b[0m\u001b[1;33m[\u001b[0m\u001b[1;36m24\u001b[0m\u001b[1;33m]\u001b[0m \u001b[1;33m=\u001b[0m \u001b[0mregisters\u001b[0m\u001b[1;33m[\u001b[0m\u001b[1;36m64\u001b[0m\u001b[1;33m]\u001b[0m\u001b[1;33m\u001b[0m\u001b[1;33m\u001b[0m\u001b[0m\n\u001b[0;32m     38\u001b[0m     \u001b[0mregistersUsed\u001b[0m\u001b[1;33m[\u001b[0m\u001b[1;36m25\u001b[0m\u001b[1;33m]\u001b[0m \u001b[1;33m=\u001b[0m \u001b[0mregisters\u001b[0m\u001b[1;33m[\u001b[0m\u001b[1;36m65\u001b[0m\u001b[1;33m]\u001b[0m\u001b[1;33m\u001b[0m\u001b[1;33m\u001b[0m\u001b[0m\n\u001b[1;32m---> 39\u001b[1;33m     \u001b[0mSampleRow\u001b[0m \u001b[1;33m=\u001b[0m \u001b[0mpd\u001b[0m\u001b[1;33m.\u001b[0m\u001b[0mDataFrame\u001b[0m\u001b[1;33m(\u001b[0m\u001b[0mnp\u001b[0m\u001b[1;33m.\u001b[0m\u001b[0mtranspose\u001b[0m\u001b[1;33m(\u001b[0m\u001b[1;33m[\u001b[0m\u001b[0mregistersUsed\u001b[0m\u001b[1;33m]\u001b[0m\u001b[1;33m)\u001b[0m\u001b[1;33m,\u001b[0m \u001b[0mindex\u001b[0m \u001b[1;33m=\u001b[0m \u001b[1;33m[\u001b[0m\u001b[0mSampleName\u001b[0m\u001b[1;33m]\u001b[0m\u001b[1;33m,\u001b[0m \u001b[0mcolumns\u001b[0m \u001b[1;33m=\u001b[0m \u001b[1;33m[\u001b[0m\u001b[1;34m'Ratio1'\u001b[0m\u001b[1;33m,\u001b[0m \u001b[1;34m'TL1'\u001b[0m\u001b[1;33m,\u001b[0m \u001b[1;34m'Attack1'\u001b[0m\u001b[1;33m,\u001b[0m \u001b[1;34m'Decay1'\u001b[0m\u001b[1;33m,\u001b[0m \u001b[1;34m'Sustain1'\u001b[0m\u001b[1;33m,\u001b[0m\u001b[1;34m'Release1'\u001b[0m\u001b[1;33m,\u001b[0m \u001b[1;34m'Ratio2'\u001b[0m\u001b[1;33m,\u001b[0m \u001b[1;34m'TL2'\u001b[0m\u001b[1;33m,\u001b[0m \u001b[1;34m'Attack2'\u001b[0m\u001b[1;33m,\u001b[0m \u001b[1;34m'Decay2'\u001b[0m\u001b[1;33m,\u001b[0m \u001b[1;34m'Sustain2'\u001b[0m\u001b[1;33m,\u001b[0m\u001b[1;34m'Release2'\u001b[0m\u001b[1;33m,\u001b[0m \u001b[1;34m'Ratio3'\u001b[0m\u001b[1;33m,\u001b[0m \u001b[1;34m'TL3'\u001b[0m\u001b[1;33m,\u001b[0m \u001b[1;34m'Attack3'\u001b[0m\u001b[1;33m,\u001b[0m \u001b[1;34m'Decay3'\u001b[0m\u001b[1;33m,\u001b[0m \u001b[1;34m'Sustain3'\u001b[0m\u001b[1;33m,\u001b[0m\u001b[1;34m'Release3'\u001b[0m\u001b[1;33m,\u001b[0m \u001b[1;34m'Ratio4'\u001b[0m\u001b[1;33m,\u001b[0m \u001b[1;34m'TL4'\u001b[0m\u001b[1;33m,\u001b[0m \u001b[1;34m'Attack4'\u001b[0m\u001b[1;33m,\u001b[0m \u001b[1;34m'Decay4'\u001b[0m\u001b[1;33m,\u001b[0m \u001b[1;34m'Sustain4'\u001b[0m\u001b[1;33m,\u001b[0m\u001b[1;34m'Release4'\u001b[0m\u001b[1;33m,\u001b[0m \u001b[1;34m'Algorithm'\u001b[0m\u001b[1;33m,\u001b[0m\u001b[1;34m'Feedback'\u001b[0m\u001b[1;33m]\u001b[0m\u001b[1;33m)\u001b[0m\u001b[1;33m\u001b[0m\u001b[1;33m\u001b[0m\u001b[0m\n\u001b[0m\u001b[0;32m     40\u001b[0m     \u001b[0mSampleRegisters\u001b[0m \u001b[1;33m=\u001b[0m \u001b[0mpd\u001b[0m\u001b[1;33m.\u001b[0m\u001b[0mconcat\u001b[0m\u001b[1;33m(\u001b[0m\u001b[1;33m[\u001b[0m\u001b[0mSampleRegisters\u001b[0m\u001b[1;33m,\u001b[0m \u001b[0mSampleRow\u001b[0m\u001b[1;33m]\u001b[0m\u001b[1;33m)\u001b[0m\u001b[1;33m\u001b[0m\u001b[1;33m\u001b[0m\u001b[0m\n",
      "\u001b[1;32m~\\Anaconda3\\lib\\site-packages\\pandas\\core\\frame.py\u001b[0m in \u001b[0;36m__init__\u001b[1;34m(self, data, index, columns, dtype, copy)\u001b[0m\n\u001b[0;32m    422\u001b[0m             \u001b[1;32melse\u001b[0m\u001b[1;33m:\u001b[0m\u001b[1;33m\u001b[0m\u001b[1;33m\u001b[0m\u001b[0m\n\u001b[0;32m    423\u001b[0m                 mgr = init_ndarray(data, index, columns, dtype=dtype,\n\u001b[1;32m--> 424\u001b[1;33m                                    copy=copy)\n\u001b[0m\u001b[0;32m    425\u001b[0m \u001b[1;33m\u001b[0m\u001b[0m\n\u001b[0;32m    426\u001b[0m         \u001b[1;31m# For data is list-like, or Iterable (will consume into list)\u001b[0m\u001b[1;33m\u001b[0m\u001b[1;33m\u001b[0m\u001b[1;33m\u001b[0m\u001b[0m\n",
      "\u001b[1;32m~\\Anaconda3\\lib\\site-packages\\pandas\\core\\internals\\construction.py\u001b[0m in \u001b[0;36minit_ndarray\u001b[1;34m(values, index, columns, dtype, copy)\u001b[0m\n\u001b[0;32m    165\u001b[0m         \u001b[0mvalues\u001b[0m \u001b[1;33m=\u001b[0m \u001b[0mmaybe_infer_to_datetimelike\u001b[0m\u001b[1;33m(\u001b[0m\u001b[0mvalues\u001b[0m\u001b[1;33m)\u001b[0m\u001b[1;33m\u001b[0m\u001b[1;33m\u001b[0m\u001b[0m\n\u001b[0;32m    166\u001b[0m \u001b[1;33m\u001b[0m\u001b[0m\n\u001b[1;32m--> 167\u001b[1;33m     \u001b[1;32mreturn\u001b[0m \u001b[0mcreate_block_manager_from_blocks\u001b[0m\u001b[1;33m(\u001b[0m\u001b[1;33m[\u001b[0m\u001b[0mvalues\u001b[0m\u001b[1;33m]\u001b[0m\u001b[1;33m,\u001b[0m \u001b[1;33m[\u001b[0m\u001b[0mcolumns\u001b[0m\u001b[1;33m,\u001b[0m \u001b[0mindex\u001b[0m\u001b[1;33m]\u001b[0m\u001b[1;33m)\u001b[0m\u001b[1;33m\u001b[0m\u001b[1;33m\u001b[0m\u001b[0m\n\u001b[0m\u001b[0;32m    168\u001b[0m \u001b[1;33m\u001b[0m\u001b[0m\n\u001b[0;32m    169\u001b[0m \u001b[1;33m\u001b[0m\u001b[0m\n",
      "\u001b[1;32m~\\Anaconda3\\lib\\site-packages\\pandas\\core\\internals\\managers.py\u001b[0m in \u001b[0;36mcreate_block_manager_from_blocks\u001b[1;34m(blocks, axes)\u001b[0m\n\u001b[0;32m   1658\u001b[0m         \u001b[0mblocks\u001b[0m \u001b[1;33m=\u001b[0m \u001b[1;33m[\u001b[0m\u001b[0mgetattr\u001b[0m\u001b[1;33m(\u001b[0m\u001b[0mb\u001b[0m\u001b[1;33m,\u001b[0m \u001b[1;34m'values'\u001b[0m\u001b[1;33m,\u001b[0m \u001b[0mb\u001b[0m\u001b[1;33m)\u001b[0m \u001b[1;32mfor\u001b[0m \u001b[0mb\u001b[0m \u001b[1;32min\u001b[0m \u001b[0mblocks\u001b[0m\u001b[1;33m]\u001b[0m\u001b[1;33m\u001b[0m\u001b[1;33m\u001b[0m\u001b[0m\n\u001b[0;32m   1659\u001b[0m         \u001b[0mtot_items\u001b[0m \u001b[1;33m=\u001b[0m \u001b[0msum\u001b[0m\u001b[1;33m(\u001b[0m\u001b[0mb\u001b[0m\u001b[1;33m.\u001b[0m\u001b[0mshape\u001b[0m\u001b[1;33m[\u001b[0m\u001b[1;36m0\u001b[0m\u001b[1;33m]\u001b[0m \u001b[1;32mfor\u001b[0m \u001b[0mb\u001b[0m \u001b[1;32min\u001b[0m \u001b[0mblocks\u001b[0m\u001b[1;33m)\u001b[0m\u001b[1;33m\u001b[0m\u001b[1;33m\u001b[0m\u001b[0m\n\u001b[1;32m-> 1660\u001b[1;33m         \u001b[0mconstruction_error\u001b[0m\u001b[1;33m(\u001b[0m\u001b[0mtot_items\u001b[0m\u001b[1;33m,\u001b[0m \u001b[0mblocks\u001b[0m\u001b[1;33m[\u001b[0m\u001b[1;36m0\u001b[0m\u001b[1;33m]\u001b[0m\u001b[1;33m.\u001b[0m\u001b[0mshape\u001b[0m\u001b[1;33m[\u001b[0m\u001b[1;36m1\u001b[0m\u001b[1;33m:\u001b[0m\u001b[1;33m]\u001b[0m\u001b[1;33m,\u001b[0m \u001b[0maxes\u001b[0m\u001b[1;33m,\u001b[0m \u001b[0me\u001b[0m\u001b[1;33m)\u001b[0m\u001b[1;33m\u001b[0m\u001b[1;33m\u001b[0m\u001b[0m\n\u001b[0m\u001b[0;32m   1661\u001b[0m \u001b[1;33m\u001b[0m\u001b[0m\n\u001b[0;32m   1662\u001b[0m \u001b[1;33m\u001b[0m\u001b[0m\n",
      "\u001b[1;32m~\\Anaconda3\\lib\\site-packages\\pandas\\core\\internals\\managers.py\u001b[0m in \u001b[0;36mconstruction_error\u001b[1;34m(tot_items, block_shape, axes, e)\u001b[0m\n\u001b[0;32m   1689\u001b[0m         \u001b[1;32mraise\u001b[0m \u001b[0mValueError\u001b[0m\u001b[1;33m(\u001b[0m\u001b[1;34m\"Empty data passed with indices specified.\"\u001b[0m\u001b[1;33m)\u001b[0m\u001b[1;33m\u001b[0m\u001b[1;33m\u001b[0m\u001b[0m\n\u001b[0;32m   1690\u001b[0m     raise ValueError(\"Shape of passed values is {0}, indices imply {1}\".format(\n\u001b[1;32m-> 1691\u001b[1;33m         passed, implied))\n\u001b[0m\u001b[0;32m   1692\u001b[0m \u001b[1;33m\u001b[0m\u001b[0m\n\u001b[0;32m   1693\u001b[0m \u001b[1;33m\u001b[0m\u001b[0m\n",
      "\u001b[1;31mValueError\u001b[0m: Shape of passed values is (26, 1), indices imply (1, 26)"
     ]
    }
   ],
   "source": [
    "for SampleName in SampleList:\n",
    "    with open(SampleName, 'rb') as y12File:\n",
    "        registers = y12File.read(66) #only first 66 bytes are used\n",
    "    #mask = np.array([1,1,1,1,1,1,0,0,0,0,0,0,0,0,0,0,\n",
    "    #        1,1,1,1,1,1,0,0,0,0,0,0,0,0,0,0,\n",
    "    #        1,1,1,1,1,1,0,0,0,0,0,0,0,0,0,0,\n",
    "    #        1,1,1,1,1,1,0,0,0,0,0,0,0,0,0,0,\n",
    "    #        1,1], dtype=bool)\n",
    "    #registersUsed = registers[mask]\n",
    "    #print(registersUsed)\n",
    "    #rough programming, I know, but NumPy doesn't seem to like converting byte arrays to int arrays.\n",
    "    registersUsed = np.zeros(26)\n",
    "    registersUsed[0] = registers[0]\n",
    "    registersUsed[1] = registers[1]\n",
    "    registersUsed[2] = registers[2]\n",
    "    registersUsed[3] = registers[3]\n",
    "    registersUsed[4] = registers[4]\n",
    "    registersUsed[5] = registers[5]\n",
    "    registersUsed[6] = registers[16]\n",
    "    registersUsed[7] = registers[17]\n",
    "    registersUsed[8] = registers[18]\n",
    "    registersUsed[9] = registers[19]\n",
    "    registersUsed[10] = registers[20]\n",
    "    registersUsed[11] = registers[21]\n",
    "    registersUsed[12] = registers[32]\n",
    "    registersUsed[13] = registers[33]\n",
    "    registersUsed[14] = registers[34]\n",
    "    registersUsed[15] = registers[35]\n",
    "    registersUsed[16] = registers[36]\n",
    "    registersUsed[17] = registers[37]\n",
    "    registersUsed[18] = registers[48]\n",
    "    registersUsed[19] = registers[49]\n",
    "    registersUsed[20] = registers[50]\n",
    "    registersUsed[21] = registers[51]\n",
    "    registersUsed[22] = registers[52]\n",
    "    registersUsed[23] = registers[53]\n",
    "    registersUsed[24] = registers[64]\n",
    "    registersUsed[25] = registers[65]\n",
    "    SampleRow = pd.DataFrame(np.transpose([registersUsed]), index = [SampleName], columns = ['Ratio1', 'TL1', 'Attack1', 'Decay1', 'Sustain1','Release1', 'Ratio2', 'TL2', 'Attack2', 'Decay2', 'Sustain2','Release2', 'Ratio3', 'TL3', 'Attack3', 'Decay3', 'Sustain3','Release3', 'Ratio4', 'TL4', 'Attack4', 'Decay4', 'Sustain4','Release4', 'Algorithm','Feedback'])\n",
    "    SampleRegisters = pd.concat([SampleRegisters, SampleRow])"
   ]
  },
  {
   "cell_type": "markdown",
   "metadata": {},
   "source": [
    "CSV FILE OUTPUT"
   ]
  },
  {
   "cell_type": "code",
   "execution_count": null,
   "metadata": {},
   "outputs": [],
   "source": [
    "SampleRegisters.to_csv('000SampleRegisters.csv')\n",
    "\n",
    "print('The first few samples\\' registers for your viewing pleasure:')\n",
    "print(SampleRegisters.head())"
   ]
  },
  {
   "cell_type": "code",
   "execution_count": null,
   "metadata": {},
   "outputs": [],
   "source": [
    "# for testing\n",
    "\n",
    "with open('01 - [Prologue]_0.y12', 'rb') as y12File:\n",
    "    registers = y12File.read(66) #only first 66 bytes are used\n",
    "\n",
    "#mask = np.array([1,1,1,1,1,1,0,0,0,0,0,0,0,0,0,0,\n",
    "#        1,1,1,1,1,1,0,0,0,0,0,0,0,0,0,0,\n",
    "#        1,1,1,1,1,1,0,0,0,0,0,0,0,0,0,0,\n",
    "#        1,1,1,1,1,1,0,0,0,0,0,0,0,0,0,0,\n",
    "#        1,1], dtype=bool)\n",
    "#registersUsed = registers[mask]\n",
    "#print(registersUsed)\n",
    "\n",
    "#rough programming, I know, but NumPy doesn't seem to like converting byte arrays to int arrays.\n",
    "registersUsed = np.zeros(26)\n",
    "registersUsed[0] = registers[0]\n",
    "registersUsed[1] = registers[1]\n",
    "registersUsed[2] = registers[2]\n",
    "registersUsed[3] = registers[3]\n",
    "registersUsed[4] = registers[4]\n",
    "registersUsed[5] = registers[5]\n",
    "registersUsed[6] = registers[16]\n",
    "registersUsed[7] = registers[17]\n",
    "registersUsed[8] = registers[18]\n",
    "registersUsed[9] = registers[19]\n",
    "registersUsed[10] = registers[20]\n",
    "registersUsed[11] = registers[21]\n",
    "registersUsed[12] = registers[32]\n",
    "registersUsed[13] = registers[33]\n",
    "registersUsed[14] = registers[34]\n",
    "registersUsed[15] = registers[35]\n",
    "registersUsed[16] = registers[36]\n",
    "registersUsed[17] = registers[37]\n",
    "registersUsed[18] = registers[48]\n",
    "registersUsed[19] = registers[49]\n",
    "registersUsed[20] = registers[50]\n",
    "registersUsed[21] = registers[51]\n",
    "registersUsed[22] = registers[52]\n",
    "registersUsed[23] = registers[53]\n",
    "registersUsed[24] = registers[64]\n",
    "registersUsed[25] = registers[65]\n",
    "\n",
    "print(registersUsed)"
   ]
  },
  {
   "cell_type": "code",
   "execution_count": null,
   "metadata": {},
   "outputs": [],
   "source": []
  }
 ],
 "metadata": {
  "kernelspec": {
   "display_name": "Python 3",
   "language": "python",
   "name": "python3"
  },
  "language_info": {
   "codemirror_mode": {
    "name": "ipython",
    "version": 3
   },
   "file_extension": ".py",
   "mimetype": "text/x-python",
   "name": "python",
   "nbconvert_exporter": "python",
   "pygments_lexer": "ipython3",
   "version": "3.7.3"
  }
 },
 "nbformat": 4,
 "nbformat_minor": 2
}
