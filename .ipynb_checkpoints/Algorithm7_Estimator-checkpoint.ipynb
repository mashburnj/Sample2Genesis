{
 "cells": [
  {
   "cell_type": "code",
   "execution_count": 1,
   "metadata": {},
   "outputs": [],
   "source": [
    "import os\n",
    "import numpy as np\n",
    "import pandas as pd\n",
    "# from sklearn import     # Not sure yet... I don't want a simple multilinear regression, though.\n"
   ]
  },
  {
   "cell_type": "markdown",
   "metadata": {},
   "source": [
    "SETUP"
   ]
  },
  {
   "cell_type": "code",
   "execution_count": 2,
   "metadata": {},
   "outputs": [
    {
     "name": "stdout",
     "output_type": "stream",
     "text": [
      "                                              0            1             2  \\\n",
      "('01 - Circle of Life_0.wav', 'Pwr')  61.014667  1112.303713  1.220439e-02   \n",
      "('01 - Circle of Life_0.wav', 'dB')   17.854342    30.462234 -1.913484e+01   \n",
      "('01 - Circle of Life_1.wav', 'Pwr')   0.044072   101.640445  1.006199e+01   \n",
      "('01 - Circle of Life_1.wav', 'dB')  -13.558345    20.070666  1.002684e+01   \n",
      "('01 - Circle of Life_2.wav', 'Pwr')   0.000002     0.000109  7.362571e-07   \n",
      "\n",
      "                                              3          4          5  \\\n",
      "('01 - Circle of Life_0.wav', 'Pwr')   0.003119   0.001861   0.001438   \n",
      "('01 - Circle of Life_0.wav', 'dB')  -25.059827 -27.301782 -28.422371   \n",
      "('01 - Circle of Life_1.wav', 'Pwr')  14.333925   3.912804   0.825094   \n",
      "('01 - Circle of Life_1.wav', 'dB')   11.563651   5.924881  -0.834964   \n",
      "('01 - Circle of Life_2.wav', 'Pwr')   0.000005   0.000005   0.000005   \n",
      "\n",
      "                                              6          7          8  \\\n",
      "('01 - Circle of Life_0.wav', 'Pwr')   0.001008   0.000720   0.000493   \n",
      "('01 - Circle of Life_0.wav', 'dB')  -29.965447 -31.425729 -33.067284   \n",
      "('01 - Circle of Life_1.wav', 'Pwr')   0.333062   0.229630   0.017765   \n",
      "('01 - Circle of Life_1.wav', 'dB')   -4.774746  -6.389716 -17.504418   \n",
      "('01 - Circle of Life_2.wav', 'Pwr')   0.000005   0.000005   0.000005   \n",
      "\n",
      "                                              9         10         11  \\\n",
      "('01 - Circle of Life_0.wav', 'Pwr')   0.000491   0.000305   0.000285   \n",
      "('01 - Circle of Life_0.wav', 'dB')  -33.085120 -35.162764 -35.448045   \n",
      "('01 - Circle of Life_1.wav', 'Pwr')   0.036129   0.049534   0.025347   \n",
      "('01 - Circle of Life_1.wav', 'dB')  -14.421382 -13.051004 -15.960742   \n",
      "('01 - Circle of Life_2.wav', 'Pwr')   0.000005   0.000005   0.000005   \n",
      "\n",
      "                                             12         13         14  \\\n",
      "('01 - Circle of Life_0.wav', 'Pwr')   0.000264   0.000136   0.000180   \n",
      "('01 - Circle of Life_0.wav', 'dB')  -35.781558 -38.663565 -37.442895   \n",
      "('01 - Circle of Life_1.wav', 'Pwr')   0.004416   0.005315   0.011200   \n",
      "('01 - Circle of Life_1.wav', 'dB')  -23.549640 -22.744624 -19.507762   \n",
      "('01 - Circle of Life_2.wav', 'Pwr')   0.000005   0.000005   0.000005   \n",
      "\n",
      "                                             15         16         17  \\\n",
      "('01 - Circle of Life_0.wav', 'Pwr')   0.000150   0.000101   0.000129   \n",
      "('01 - Circle of Life_0.wav', 'dB')  -38.251978 -39.964678 -38.882823   \n",
      "('01 - Circle of Life_1.wav', 'Pwr')   0.005717   0.000277   0.001223   \n",
      "('01 - Circle of Life_1.wav', 'dB')  -22.428188 -35.569343 -29.124085   \n",
      "('01 - Circle of Life_2.wav', 'Pwr')   0.000005   0.000005   0.000005   \n",
      "\n",
      "                                             18         19  \n",
      "('01 - Circle of Life_0.wav', 'Pwr')   0.000111   0.000124  \n",
      "('01 - Circle of Life_0.wav', 'dB')  -39.541836 -39.081343  \n",
      "('01 - Circle of Life_1.wav', 'Pwr')   0.002693   0.001722  \n",
      "('01 - Circle of Life_1.wav', 'dB')  -25.697097 -27.639339  \n",
      "('01 - Circle of Life_2.wav', 'Pwr')   0.000005   0.000005  \n",
      "                                      0             1             2  \\\n",
      "01 - Circle of Life_0.wav  65656.865274 -40802.336995  10656.586469   \n",
      "01 - Circle of Life_1.wav -75940.443454  25638.366218   5508.601057   \n",
      "01 - Circle of Life_2.wav -27388.471181 -18204.622653  -1536.929597   \n",
      "01 - Circle of Life_3.wav  -4340.292097 -32201.806546  -6914.336635   \n",
      "01 - Circle of Life_4.wav -64384.042143 -56953.287114  24288.579599   \n",
      "\n",
      "                                      3             4             5  \\\n",
      "01 - Circle of Life_0.wav  63352.512737 -15769.999790  -1283.423245   \n",
      "01 - Circle of Life_1.wav -10661.000054  -3398.709512  -4948.133943   \n",
      "01 - Circle of Life_2.wav -11722.765642  -3852.580258  -6630.731739   \n",
      "01 - Circle of Life_3.wav  19835.487678 -37445.355486  20900.194649   \n",
      "01 - Circle of Life_4.wav  48664.128138  15468.825415 -31730.187974   \n",
      "\n",
      "                                      6             7             8  \\\n",
      "01 - Circle of Life_0.wav  56511.815661 -70337.413841 -21311.985980   \n",
      "01 - Circle of Life_1.wav  -1194.513445  -2239.250910 -14237.177699   \n",
      "01 - Circle of Life_2.wav -11638.770597   2459.678081  -4615.044227   \n",
      "01 - Circle of Life_3.wav  71758.947596  -8605.656759 -18432.851179   \n",
      "01 - Circle of Life_4.wav -12447.972833  18023.326946  18668.990791   \n",
      "\n",
      "                                      9  ...            54           55  \\\n",
      "01 - Circle of Life_0.wav  35033.873195  ...  26243.623649 -3058.595292   \n",
      "01 - Circle of Life_1.wav  -4249.006476  ...   6136.844136 -3076.844142   \n",
      "01 - Circle of Life_2.wav  -8041.720817  ...    -76.649481    17.372739   \n",
      "01 - Circle of Life_3.wav   9056.133980  ...   -103.105712 -1950.275232   \n",
      "01 - Circle of Life_4.wav -42412.943342  ...   4861.735039  4240.195601   \n",
      "\n",
      "                                     56            57           58  \\\n",
      "01 - Circle of Life_0.wav  14267.556188 -13291.191995   187.619903   \n",
      "01 - Circle of Life_1.wav   2361.478502  -4939.599395   589.577968   \n",
      "01 - Circle of Life_2.wav  -3339.984045  -3135.834931 -1016.589186   \n",
      "01 - Circle of Life_3.wav  -3500.537031  -2672.831269  1713.199227   \n",
      "01 - Circle of Life_4.wav  -5972.532470  -1409.720740 -3760.712425   \n",
      "\n",
      "                                    59            60           61  \\\n",
      "01 - Circle of Life_0.wav -2541.221599  11712.477644 -7708.263305   \n",
      "01 - Circle of Life_1.wav  3486.196776   -292.994677  2895.499113   \n",
      "01 - Circle of Life_2.wav  -401.690891    256.299059   145.407019   \n",
      "01 - Circle of Life_3.wav -2196.487653   1724.027204  4182.590424   \n",
      "01 - Circle of Life_4.wav  3184.106333  -1633.223336   455.224398   \n",
      "\n",
      "                                    62           63  \n",
      "01 - Circle of Life_0.wav -3567.294580  4101.579125  \n",
      "01 - Circle of Life_1.wav  6100.082894 -3037.000314  \n",
      "01 - Circle of Life_2.wav  -130.054318 -1046.723738  \n",
      "01 - Circle of Life_3.wav   343.594705  -563.026832  \n",
      "01 - Circle of Life_4.wav  -634.943440 -2079.716263  \n",
      "\n",
      "[5 rows x 64 columns]\n"
     ]
    },
    {
     "ename": "ValueError",
     "evalue": "columns overlap but no suffix specified: Index(['0', '1', '2', '3', '4', '5', '6', '7', '8', '9', '10', '11', '12',\n       '13', '14', '15', '16', '17', '18', '19'],\n      dtype='object')",
     "output_type": "error",
     "traceback": [
      "\u001b[1;31m---------------------------------------------------------------------------\u001b[0m",
      "\u001b[1;31mValueError\u001b[0m                                Traceback (most recent call last)",
      "\u001b[1;32m<ipython-input-2-89618d45c328>\u001b[0m in \u001b[0;36m<module>\u001b[1;34m\u001b[0m\n\u001b[0;32m      9\u001b[0m \u001b[1;33m\u001b[0m\u001b[0m\n\u001b[0;32m     10\u001b[0m \u001b[1;31m# Should combine SpectrumFeatures with WavFeatures to make one big feature array.\u001b[0m\u001b[1;33m\u001b[0m\u001b[1;33m\u001b[0m\u001b[1;33m\u001b[0m\u001b[0m\n\u001b[1;32m---> 11\u001b[1;33m \u001b[0mFeatures\u001b[0m \u001b[1;33m=\u001b[0m \u001b[0mSpectrumFeatures\u001b[0m\u001b[1;33m.\u001b[0m\u001b[0mjoin\u001b[0m\u001b[1;33m(\u001b[0m\u001b[0mWavFeatures\u001b[0m\u001b[1;33m)\u001b[0m\u001b[1;33m\u001b[0m\u001b[1;33m\u001b[0m\u001b[0m\n\u001b[0m\u001b[0;32m     12\u001b[0m \u001b[0mprint\u001b[0m\u001b[1;33m(\u001b[0m\u001b[0mFeatures\u001b[0m\u001b[1;33m.\u001b[0m\u001b[0mhead\u001b[0m\u001b[1;33m(\u001b[0m\u001b[1;33m)\u001b[0m\u001b[1;33m)\u001b[0m\u001b[1;33m\u001b[0m\u001b[1;33m\u001b[0m\u001b[0m\n\u001b[0;32m     13\u001b[0m \u001b[1;33m\u001b[0m\u001b[0m\n",
      "\u001b[1;32m~\\anaconda3\\lib\\site-packages\\pandas\\core\\frame.py\u001b[0m in \u001b[0;36mjoin\u001b[1;34m(self, other, on, how, lsuffix, rsuffix, sort)\u001b[0m\n\u001b[0;32m   7206\u001b[0m         \u001b[1;36m5\u001b[0m  \u001b[0mK5\u001b[0m  \u001b[0mA5\u001b[0m  \u001b[0mNaN\u001b[0m\u001b[1;33m\u001b[0m\u001b[1;33m\u001b[0m\u001b[0m\n\u001b[0;32m   7207\u001b[0m         \"\"\"\n\u001b[1;32m-> 7208\u001b[1;33m         return self._join_compat(\n\u001b[0m\u001b[0;32m   7209\u001b[0m             \u001b[0mother\u001b[0m\u001b[1;33m,\u001b[0m \u001b[0mon\u001b[0m\u001b[1;33m=\u001b[0m\u001b[0mon\u001b[0m\u001b[1;33m,\u001b[0m \u001b[0mhow\u001b[0m\u001b[1;33m=\u001b[0m\u001b[0mhow\u001b[0m\u001b[1;33m,\u001b[0m \u001b[0mlsuffix\u001b[0m\u001b[1;33m=\u001b[0m\u001b[0mlsuffix\u001b[0m\u001b[1;33m,\u001b[0m \u001b[0mrsuffix\u001b[0m\u001b[1;33m=\u001b[0m\u001b[0mrsuffix\u001b[0m\u001b[1;33m,\u001b[0m \u001b[0msort\u001b[0m\u001b[1;33m=\u001b[0m\u001b[0msort\u001b[0m\u001b[1;33m\u001b[0m\u001b[1;33m\u001b[0m\u001b[0m\n\u001b[0;32m   7210\u001b[0m         )\n",
      "\u001b[1;32m~\\anaconda3\\lib\\site-packages\\pandas\\core\\frame.py\u001b[0m in \u001b[0;36m_join_compat\u001b[1;34m(self, other, on, how, lsuffix, rsuffix, sort)\u001b[0m\n\u001b[0;32m   7222\u001b[0m \u001b[1;33m\u001b[0m\u001b[0m\n\u001b[0;32m   7223\u001b[0m         \u001b[1;32mif\u001b[0m \u001b[0misinstance\u001b[0m\u001b[1;33m(\u001b[0m\u001b[0mother\u001b[0m\u001b[1;33m,\u001b[0m \u001b[0mDataFrame\u001b[0m\u001b[1;33m)\u001b[0m\u001b[1;33m:\u001b[0m\u001b[1;33m\u001b[0m\u001b[1;33m\u001b[0m\u001b[0m\n\u001b[1;32m-> 7224\u001b[1;33m             return merge(\n\u001b[0m\u001b[0;32m   7225\u001b[0m                 \u001b[0mself\u001b[0m\u001b[1;33m,\u001b[0m\u001b[1;33m\u001b[0m\u001b[1;33m\u001b[0m\u001b[0m\n\u001b[0;32m   7226\u001b[0m                 \u001b[0mother\u001b[0m\u001b[1;33m,\u001b[0m\u001b[1;33m\u001b[0m\u001b[1;33m\u001b[0m\u001b[0m\n",
      "\u001b[1;32m~\\anaconda3\\lib\\site-packages\\pandas\\core\\reshape\\merge.py\u001b[0m in \u001b[0;36mmerge\u001b[1;34m(left, right, how, on, left_on, right_on, left_index, right_index, sort, suffixes, copy, indicator, validate)\u001b[0m\n\u001b[0;32m     86\u001b[0m         \u001b[0mvalidate\u001b[0m\u001b[1;33m=\u001b[0m\u001b[0mvalidate\u001b[0m\u001b[1;33m,\u001b[0m\u001b[1;33m\u001b[0m\u001b[1;33m\u001b[0m\u001b[0m\n\u001b[0;32m     87\u001b[0m     )\n\u001b[1;32m---> 88\u001b[1;33m     \u001b[1;32mreturn\u001b[0m \u001b[0mop\u001b[0m\u001b[1;33m.\u001b[0m\u001b[0mget_result\u001b[0m\u001b[1;33m(\u001b[0m\u001b[1;33m)\u001b[0m\u001b[1;33m\u001b[0m\u001b[1;33m\u001b[0m\u001b[0m\n\u001b[0m\u001b[0;32m     89\u001b[0m \u001b[1;33m\u001b[0m\u001b[0m\n\u001b[0;32m     90\u001b[0m \u001b[1;33m\u001b[0m\u001b[0m\n",
      "\u001b[1;32m~\\anaconda3\\lib\\site-packages\\pandas\\core\\reshape\\merge.py\u001b[0m in \u001b[0;36mget_result\u001b[1;34m(self)\u001b[0m\n\u001b[0;32m    646\u001b[0m         \u001b[0mlsuf\u001b[0m\u001b[1;33m,\u001b[0m \u001b[0mrsuf\u001b[0m \u001b[1;33m=\u001b[0m \u001b[0mself\u001b[0m\u001b[1;33m.\u001b[0m\u001b[0msuffixes\u001b[0m\u001b[1;33m\u001b[0m\u001b[1;33m\u001b[0m\u001b[0m\n\u001b[0;32m    647\u001b[0m \u001b[1;33m\u001b[0m\u001b[0m\n\u001b[1;32m--> 648\u001b[1;33m         llabels, rlabels = _items_overlap_with_suffix(\n\u001b[0m\u001b[0;32m    649\u001b[0m             \u001b[0mldata\u001b[0m\u001b[1;33m.\u001b[0m\u001b[0mitems\u001b[0m\u001b[1;33m,\u001b[0m \u001b[0mlsuf\u001b[0m\u001b[1;33m,\u001b[0m \u001b[0mrdata\u001b[0m\u001b[1;33m.\u001b[0m\u001b[0mitems\u001b[0m\u001b[1;33m,\u001b[0m \u001b[0mrsuf\u001b[0m\u001b[1;33m\u001b[0m\u001b[1;33m\u001b[0m\u001b[0m\n\u001b[0;32m    650\u001b[0m         )\n",
      "\u001b[1;32m~\\anaconda3\\lib\\site-packages\\pandas\\core\\reshape\\merge.py\u001b[0m in \u001b[0;36m_items_overlap_with_suffix\u001b[1;34m(left, lsuffix, right, rsuffix)\u001b[0m\n\u001b[0;32m   2022\u001b[0m \u001b[1;33m\u001b[0m\u001b[0m\n\u001b[0;32m   2023\u001b[0m     \u001b[1;32mif\u001b[0m \u001b[1;32mnot\u001b[0m \u001b[0mlsuffix\u001b[0m \u001b[1;32mand\u001b[0m \u001b[1;32mnot\u001b[0m \u001b[0mrsuffix\u001b[0m\u001b[1;33m:\u001b[0m\u001b[1;33m\u001b[0m\u001b[1;33m\u001b[0m\u001b[0m\n\u001b[1;32m-> 2024\u001b[1;33m         raise ValueError(\n\u001b[0m\u001b[0;32m   2025\u001b[0m             \u001b[1;34m\"columns overlap but no suffix specified: \"\u001b[0m\u001b[1;33m\u001b[0m\u001b[1;33m\u001b[0m\u001b[0m\n\u001b[0;32m   2026\u001b[0m             \u001b[1;34m\"{rename}\"\u001b[0m\u001b[1;33m.\u001b[0m\u001b[0mformat\u001b[0m\u001b[1;33m(\u001b[0m\u001b[0mrename\u001b[0m\u001b[1;33m=\u001b[0m\u001b[0mto_rename\u001b[0m\u001b[1;33m)\u001b[0m\u001b[1;33m\u001b[0m\u001b[1;33m\u001b[0m\u001b[0m\n",
      "\u001b[1;31mValueError\u001b[0m: columns overlap but no suffix specified: Index(['0', '1', '2', '3', '4', '5', '6', '7', '8', '9', '10', '11', '12',\n       '13', '14', '15', '16', '17', '18', '19'],\n      dtype='object')"
     ]
    }
   ],
   "source": [
    "#open directory with the spectra, PCA-reduced audio data, and register data in it.\n",
    "os.chdir('./Training_data/')\n",
    "\n",
    "SpectrumFeatures = pd.read_csv('000SampleSpectra.csv', index_col = 0) # Should either unstack, or decide which to use.\n",
    "print(SpectrumFeatures.head())\n",
    "\n",
    "WavFeatures = pd.read_csv('000PcaReducedWav.csv', index_col = 0)\n",
    "print(WavFeatures.head())\n",
    "\n",
    "# Should combine SpectrumFeatures with WavFeatures to make one big feature array.\n",
    "# Need to relabel the 20 spectrum columns.\n",
    "#Features = SpectrumFeatures.join(WavFeatures)\n",
    "#print(Features.head())\n",
    "\n",
    "RegisterTargets = pd.read_csv('000SampleRegisters.csv', index_col = 0)\n",
    "RegisterTargets = RegisterTargets.drop(['Ratio1', 'Attack1', 'Decay1', 'Sustain1',\n",
    "                        'Ratio2', 'Attack2', 'Decay2', 'Sustain2',\n",
    "                        'Ratio3', 'Attack3', 'Decay3', 'Sustain3',\n",
    "                        'Ratio4', 'Attack4', 'Decay4', 'Sustain4'], axis = 'columns') # Not needed here.\n",
    "print(RegisterTargets.head())"
   ]
  },
  {
   "cell_type": "markdown",
   "metadata": {},
   "source": [
    "TESTING AN ESTIMATOR MODEL"
   ]
  },
  {
   "cell_type": "code",
   "execution_count": null,
   "metadata": {},
   "outputs": [],
   "source": []
  }
 ],
 "metadata": {
  "kernelspec": {
   "display_name": "Python 3",
   "language": "python",
   "name": "python3"
  },
  "language_info": {
   "codemirror_mode": {
    "name": "ipython",
    "version": 3
   },
   "file_extension": ".py",
   "mimetype": "text/x-python",
   "name": "python",
   "nbconvert_exporter": "python",
   "pygments_lexer": "ipython3",
   "version": "3.8.3"
  }
 },
 "nbformat": 4,
 "nbformat_minor": 4
}
