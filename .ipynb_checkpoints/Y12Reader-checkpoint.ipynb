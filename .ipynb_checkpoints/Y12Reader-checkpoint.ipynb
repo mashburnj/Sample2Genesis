{
 "cells": [
  {
   "cell_type": "code",
   "execution_count": 1,
   "metadata": {},
   "outputs": [],
   "source": [
    "import os\n",
    "import numpy as np\n",
    "import pandas as pd"
   ]
  },
  {
   "cell_type": "markdown",
   "metadata": {},
   "source": [
    "SETUP"
   ]
  },
  {
   "cell_type": "code",
   "execution_count": 2,
   "metadata": {},
   "outputs": [],
   "source": [
    "#open directory with the samples in it.\n",
    "os.chdir('./Training_data/')\n",
    "\n",
    "# next, make a NP array of every y12 file in the directory\n",
    "SampleList = np.array(os.listdir())\n",
    "SampleList = SampleList[ np.char.endswith(SampleList, '.y12') ] #ignore everything that's not a .wav file.\n",
    "\n",
    "#make a fresh blank series.\n",
    "SampleRegisters = pd.DataFrame(columns = ['Ratio1', 'TL1', 'Attack1', 'Decay1', 'Sustain1','Release1', 'Ratio2', 'TL2', 'Attack2', 'Decay2', 'Sustain2','Release2', 'Ratio3', 'TL3', 'Attack3', 'Decay3', 'Sustain3','Release3', 'Ratio4', 'TL4', 'Attack4', 'Decay4', 'Sustain4','Release4', 'Algorithm','Feedback'])"
   ]
  },
  {
   "cell_type": "markdown",
   "metadata": {},
   "source": [
    ".Y12 INPUT LOOP"
   ]
  },
  {
   "cell_type": "code",
   "execution_count": null,
   "metadata": {},
   "outputs": [],
   "source": [
    "for SampleName in SampleList:\n",
    "    with open(SampleName, 'rb') as y12File:\n",
    "        registers = y12File.read(66) #only first 66 bytes are used\n",
    "mask = [1,1,1,1,1,1,0,0,0,0,0,0,0,0,0,0,\n",
    "        1,1,1,1,1,1,0,0,0,0,0,0,0,0,0,0,\n",
    "        1,1,1,1,1,1,0,0,0,0,0,0,0,0,0,0,\n",
    "        1,1,1,1,1,1,0,0,0,0,0,0,0,0,0,0,\n",
    "        1,1]\n",
    "registersUsed = registers[mask]"
   ]
  },
  {
   "cell_type": "markdown",
   "metadata": {},
   "source": [
    "CSV FILE OUTPUT"
   ]
  },
  {
   "cell_type": "code",
   "execution_count": null,
   "metadata": {},
   "outputs": [],
   "source": [
    "SampleRegisters.to_csv('000SampleRegisters.csv')\n",
    "\n",
    "print('The first few samples\\' registers for your viewing pleasure:')\n",
    "print(SampleRegisters.head())"
   ]
  },
  {
   "cell_type": "code",
   "execution_count": 37,
   "metadata": {},
   "outputs": [
    {
     "name": "stdout",
     "output_type": "stream",
     "text": [
      "[  0.  10. 159.   4.  13. 120.   0.   0.   0.   0.   0.   0.   0.   0.\n",
      "   0.   0.   0.   0.   0.   0.   0.   0.   0.   0.   0.   0.]\n"
     ]
    }
   ],
   "source": [
    "with open('01 - [Prologue]_0.y12', 'rb') as y12File:\n",
    "    registers = y12File.read(66) #only first 66 bytes are used\n",
    "\n",
    "#mask = np.array([1,1,1,1,1,1,0,0,0,0,0,0,0,0,0,0,\n",
    "#        1,1,1,1,1,1,0,0,0,0,0,0,0,0,0,0,\n",
    "#        1,1,1,1,1,1,0,0,0,0,0,0,0,0,0,0,\n",
    "#        1,1,1,1,1,1,0,0,0,0,0,0,0,0,0,0,\n",
    "#        1,1], dtype=bool)\n",
    "#registersUsed = registers[mask]\n",
    "#print(registersUsed)\n",
    "\n",
    "#rough programming, I know, but NumPy doesn't seem to like converting byte arrays to int arrays.\n",
    "registersUsed = np.zeros(26)\n",
    "registersUsed[0] = registers[0]\n",
    "registersUsed[1] = registers[1]\n",
    "registersUsed[2] = registers[2]\n",
    "registersUsed[3] = registers[3]\n",
    "registersUsed[4] = registers[4]\n",
    "registersUsed[5] = registers[5]\n",
    "registersUsed[6] = registers[]\n",
    "registersUsed[7] = registers[]\n",
    "registersUsed[8] = registers[]\n",
    "registersUsed[9] = registers[]\n",
    "registersUsed[10] = registers[]\n",
    "registersUsed[11] = registers[]\n",
    "registersUsed[12] = registers[]\n",
    "registersUsed[13] = registers[]\n",
    "registersUsed[14] = registers[]\n",
    "registersUsed[15] = registers[]\n",
    "registersUsed[16] = registers[]\n",
    "registersUsed[17] = registers[]\n",
    "registersUsed[18] = registers[]\n",
    "registersUsed[19] = registers[]\n",
    "registersUsed[20] = registers[]\n",
    "registersUsed[21] = registers[]\n",
    "registersUsed[22] = registers[]\n",
    "registersUsed[23] = registers[]\n",
    "registersUsed[24] = registers[64]\n",
    "registersUsed[25] = registers[65]\n",
    "\n",
    "\n",
    "print(registersUsed)"
   ]
  },
  {
   "cell_type": "code",
   "execution_count": null,
   "metadata": {},
   "outputs": [],
   "source": []
  }
 ],
 "metadata": {
  "kernelspec": {
   "display_name": "Python 3",
   "language": "python",
   "name": "python3"
  },
  "language_info": {
   "codemirror_mode": {
    "name": "ipython",
    "version": 3
   },
   "file_extension": ".py",
   "mimetype": "text/x-python",
   "name": "python",
   "nbconvert_exporter": "python",
   "pygments_lexer": "ipython3",
   "version": "3.7.3"
  }
 },
 "nbformat": 4,
 "nbformat_minor": 2
}
