{
 "cells": [
  {
   "cell_type": "code",
   "execution_count": null,
   "metadata": {},
   "outputs": [],
   "source": [
    "%matplotlib inline\n",
    "import matplotlib.pyplot as plt\n",
    "import seaborn as sns; sns.set()\n",
    "from scipy.io import wavfile\n",
    "import os\n",
    "import numpy as np"
   ]
  },
  {
   "cell_type": "code",
   "execution_count": null,
   "metadata": {},
   "outputs": [],
   "source": [
    "# Pseudocode\n",
    "\n",
    "# Import training dataset (will take a while to put together)\n",
    "# Pull spectra from each training sample\n",
    "# Features: spectra\n",
    "# Targets: Frequency ratios, amplitudes\n",
    "# Use dimension reduction (maybe PCA?) or perhaps something similar to determine:\n",
    "#      1. the sound's fundamental frequency\n",
    "#      2. the other important spikes in terms of multiples of the fundamental frequency\n",
    "# So the \"clean\" dataset consists of numbers 1 through 8 (or 10, but 8 is more realistic for 4-op FM synth) corresponding\n",
    "#   to multiples of the fundamental frequency (not sure if I should just do integers or fractions as well), along with the\n",
    "#   registers used to make that sound in the YM2612.\n",
    "# Separately run the fit algorithm on the sounds made by algorithms 0 through 7\n",
    "# For predict, predict 8 times\n",
    "# For final choice, allow an option to see all 8, or just pick the \"best\" one according to some metric, TBD (maybe L2?)\n",
    "# May leave out algorithm 0 for now (things get complex insanely fast with it, with little benefit)"
   ]
  }
 ],
 "metadata": {
  "kernelspec": {
   "display_name": "Python 3",
   "language": "python",
   "name": "python3"
  },
  "language_info": {
   "codemirror_mode": {
    "name": "ipython",
    "version": 3
   },
   "file_extension": ".py",
   "mimetype": "text/x-python",
   "name": "python",
   "nbconvert_exporter": "python",
   "pygments_lexer": "ipython3",
   "version": "3.8.3"
  }
 },
 "nbformat": 4,
 "nbformat_minor": 4
}
