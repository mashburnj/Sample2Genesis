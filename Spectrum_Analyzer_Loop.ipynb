{
 "cells": [
  {
   "cell_type": "code",
   "execution_count": 1,
   "metadata": {},
   "outputs": [],
   "source": [
    "from scipy.io import wavfile\n",
    "import os\n",
    "import numpy as np\n",
    "import pandas as pd"
   ]
  },
  {
   "cell_type": "markdown",
   "metadata": {},
   "source": [
    "SETUP"
   ]
  },
  {
   "cell_type": "code",
   "execution_count": 2,
   "metadata": {},
   "outputs": [],
   "source": [
    "# Variables you may change. Note: number of spikes hard-limited to 32. Also limited by sample rate, anyway (see Nyquist's theorem).\n",
    "numberSpikes = 20 # number of integer multiples of the fundamental frequency to record (including 0, i.e. 1/2 the FF).\n",
    "FFTSize = 8192 # have to use a multiple of 2 for optimal speed.\n",
    "\n",
    "#open directory with the samples in it.\n",
    "os.chdir('./Training_data/')\n",
    "\n",
    "# next, make a NP array of every wav file in the directory\n",
    "SampleList = np.array(os.listdir())\n",
    "SampleList = SampleList[ np.char.endswith(SampleList, '.wav') ] #ignore everything that's not a .wav file.\n",
    "\n",
    "#make a fresh blank series.\n",
    "SampleSpectra = pd.DataFrame(columns = np.arange(numberSpikes))"
   ]
  },
  {
   "cell_type": "markdown",
   "metadata": {},
   "source": [
    "CORE LOOP"
   ]
  },
  {
   "cell_type": "code",
   "execution_count": 3,
   "metadata": {},
   "outputs": [],
   "source": [
    "for SampleName in SampleList:\n",
    "    SampleRate, Audiodata = wavfile.read(SampleName)\n",
    "    # spectrum\n",
    "    from scipy.fft import fft # fourier transform\n",
    "    m = len(Audiodata) \n",
    "    #AudioFreq = fft(Audiodata,n=FFTSize,axis=0)\n",
    "    AudioFreq = fft(Audiodata[:,1]*np.hanning(np.shape(Audiodata)[0]),n=FFTSize,axis=0) #with a Hanning window\n",
    "    AudioFreq = AudioFreq[0:int(np.ceil((np.shape(AudioFreq)[0])/2.0))] #Left half of the spectrum\n",
    "    MagFreq = np.abs(AudioFreq) # Magnitude\n",
    "    MagFreq = MagFreq / float(m)\n",
    "    # power spectrum\n",
    "    MagFreq = MagFreq**2\n",
    "    if m % 2 > 0: # ffte odd \n",
    "        MagFreq[1:len(MagFreq)] = MagFreq[1:len(MagFreq)] * 2\n",
    "    else:# fft even\n",
    "        MagFreq[1:len(MagFreq) -1] = MagFreq[1:len(MagFreq) - 1] * 2 \n",
    "    # HPS (Harmonic Product Spectrum) Algorithm to determine fundamental frequency\n",
    "    HPSSize = int(np.ceil(len(MagFreq))/3.0 + 1)\n",
    "    MagFreq2 = MagFreq.copy().reshape(int(np.ceil(len(MagFreq))/2.0),2).mean(1)[0:HPSSize]\n",
    "    MagFreq3 = np.concatenate([MagFreq.copy(),np.zeros(3 - int(len(MagFreq)) % 3)]).reshape(int(np.ceil(len(MagFreq))/3.0 + 1),3).mean(1)[0:HPSSize]\n",
    "    HPS = MagFreq[0:HPSSize]*MagFreq2*MagFreq3\n",
    "    freqAxis = np.arange(0,int(np.ceil((m+1)/2.0)), int(np.ceil((m+1)/2.0))*2/FFTSize) * (SampleRate / m);\n",
    "    freqAxisDownscaled = np.arange(0,int(np.ceil((m+1)/2.0)), int(np.ceil((m+1)/2.0))*6/FFTSize) * (SampleRate / m);\n",
    "    FFLocHPS = np.argmax(HPS[freqAxisDownscaled >= 50]) + int(len(HPS[freqAxisDownscaled < 50])) # don't look below 50 Hz for it, due to noise.\n",
    "    FFLocation = FFLocHPS*3 - 1 # FFLocHPS uses an index that is scaled down by 1/3. Have to reverse that.\n",
    "    # Have to ensure the fundamental frequency is accurate. Take loudest spike, get its approximate ratio, round to nearest int.\n",
    "    MaxLoc = np.argmax(MagFreq[freqAxis >= 50]) + int(len(MagFreq[freqAxis < 50])) # don't look below 50 Hz for it, due to noise.\n",
    "    MaxRatio = np.max([np.round(freqAxis[MaxLoc]/freqAxis[FFLocation]), 1]) \n",
    "    FFreq = freqAxis[MaxLoc]/MaxRatio\n",
    "    MagFreqLog = 10*np.log10(MagFreq)\n",
    "    FFreqLoc = np.argmin(np.abs(freqAxis - FFreq))\n",
    "    # If the frequency on either side of the \"spike\" is actually louder, make that the new spike.\n",
    "    FFreqLoc = FFreqLoc - ((MagFreqLog <= np.roll(MagFreqLog,1)) & (np.roll(MagFreqLog,-1) <= np.roll(MagFreqLog,1))) #if the left entry is >= the entry and the right entry, then make the left entry the new spike location\n",
    "    FFreqLoc = FFreqLoc + ((MagFreqLog <= np.roll(MagFreqLog,-1)) & (np.roll(MagFreqLog,1) <= np.roll(MagFreqLog,-1)))  #if the right entry is >= the entry and the left entry, then make the right entry the new spike location\n",
    "    Multiples = [FFreq*i for i in np.arange(0,numberSpikes)]\n",
    "    Multiples[0] = FFreq/2 # It turns out, telling the YM2612 to use the \"0th\" multiple means 1/2 the FF.\n",
    "    MultiplesLoc = [np.argmin(np.abs(freqAxis - i)) for i in Multiples]\n",
    "    # Next, make an integer ratio-indexed list of the amplitudes!\n",
    "    MultiplesMag = MagFreq[MultiplesLoc]\n",
    "    MultiplesdB = MagFreqLog[MultiplesLoc]\n",
    "    # Write these magnitudes/dBs to the Pandas array! (Index = SampleName)\n",
    "    #tempIndex = pd.MultiIndex.from_product([[SampleName],['Pwr','dB']])\n",
    "    #SampleRow = pd.DataFrame(np.vstack([MultiplesMag, MultiplesdB]), index = tempIndex, columns = np.arange(0,numberSpikes))\n",
    "    #SampleSpectra = pd.concat([SampleSpectra, SampleRow])\n",
    "    SampleRow = pd.DataFrame([MultiplesdB], index = [SampleName], columns = np.arange(0,numberSpikes))\n",
    "    SampleSpectra = pd.concat([SampleSpectra, SampleRow])\n",
    "\n",
    "# Had to choose between Pwr and dB measures. Can easily replace MultiplesdB with MultiplesMag."
   ]
  },
  {
   "cell_type": "markdown",
   "metadata": {},
   "source": [
    "CSV FILE OUTPUT"
   ]
  },
  {
   "cell_type": "code",
   "execution_count": 4,
   "metadata": {},
   "outputs": [
    {
     "name": "stdout",
     "output_type": "stream",
     "text": [
      "The first few samples' spectra for your viewing pleasure:\n",
      "                              HalfFF        1FF        2FF        3FF  \\\n",
      "01 - Circle of Life_0.wav  27.345405  30.462234 -19.134841 -25.059827   \n",
      "01 - Circle of Life_1.wav -10.175424  20.070666  10.026839  11.563651   \n",
      "01 - Circle of Life_2.wav -57.000795 -39.625398 -61.329705 -53.079755   \n",
      "01 - Circle of Life_3.wav -13.490103  31.465241 -11.517152  -8.075195   \n",
      "01 - Circle of Life_4.wav -13.608143  26.469035  17.800095   6.472096   \n",
      "\n",
      "                                 4FF        5FF        6FF        7FF  \\\n",
      "01 - Circle of Life_0.wav -27.301782 -28.422371 -29.965447 -31.425729   \n",
      "01 - Circle of Life_1.wav   5.924881  -0.834964  -4.774746  -6.389716   \n",
      "01 - Circle of Life_2.wav -53.079755 -53.079755 -53.079755 -53.079755   \n",
      "01 - Circle of Life_3.wav -13.541514 -23.127384 -28.912905 -30.748610   \n",
      "01 - Circle of Life_4.wav   9.908368  -0.080632 -15.172361  -4.412612   \n",
      "\n",
      "                                 8FF        9FF       10FF       11FF  \\\n",
      "01 - Circle of Life_0.wav -33.067284 -33.085120 -35.162764 -35.448045   \n",
      "01 - Circle of Life_1.wav -17.504418 -14.421382 -13.051004 -15.960742   \n",
      "01 - Circle of Life_2.wav -53.079755 -53.079755 -53.079755 -53.079755   \n",
      "01 - Circle of Life_3.wav -27.849467 -34.539612 -29.646354 -28.939268   \n",
      "01 - Circle of Life_4.wav -24.986496  -7.832176 -27.767920 -11.067755   \n",
      "\n",
      "                                12FF       13FF       14FF       15FF  \\\n",
      "01 - Circle of Life_0.wav -35.781558 -38.663565 -37.442895 -38.251978   \n",
      "01 - Circle of Life_1.wav -23.549640 -22.744624 -19.507762 -22.428188   \n",
      "01 - Circle of Life_2.wav -53.079755 -53.079755 -53.079755 -53.079755   \n",
      "01 - Circle of Life_3.wav -31.218453 -31.395788 -34.674027 -31.857849   \n",
      "01 - Circle of Life_4.wav -27.124990 -13.713199 -26.467737 -15.415387   \n",
      "\n",
      "                                16FF       17FF       18FF       19FF  \n",
      "01 - Circle of Life_0.wav -39.964678 -38.882823 -39.541836 -39.081343  \n",
      "01 - Circle of Life_1.wav -35.569343 -29.124085 -25.697097 -27.639339  \n",
      "01 - Circle of Life_2.wav -53.079755 -53.079755 -53.079755 -53.079755  \n",
      "01 - Circle of Life_3.wav -30.224520 -36.660767 -28.874496 -36.090757  \n",
      "01 - Circle of Life_4.wav -27.615909 -18.075714 -27.836707 -20.602930  \n"
     ]
    }
   ],
   "source": [
    "# To avoid a column label conflict with the reduced audio dataset.\n",
    "MultipleLabels = ['HalfFF','1FF','2FF','3FF','4FF','5FF','6FF','7FF','8FF','9FF','10FF','11FF','12FF','13FF','14FF','15FF','16FF','17FF','18FF','19FF','20FF','21FF','22FF','23FF','24FF','25FF','26FF','27FF','28FF','29FF','30FF','31FF',]\n",
    "for i in np.arange(0,numberSpikes):\n",
    "    SampleSpectra = SampleSpectra.rename(columns={i: MultipleLabels[i]})\n",
    "\n",
    "SampleSpectra.to_csv('000SampleSpectra.csv')\n",
    "\n",
    "\n",
    "print('The first few samples\\' spectra for your viewing pleasure:')\n",
    "print(SampleSpectra.head())"
   ]
  },
  {
   "cell_type": "code",
   "execution_count": null,
   "metadata": {},
   "outputs": [],
   "source": []
  },
  {
   "cell_type": "code",
   "execution_count": null,
   "metadata": {},
   "outputs": [],
   "source": []
  }
 ],
 "metadata": {
  "kernelspec": {
   "display_name": "Python 3",
   "language": "python",
   "name": "python3"
  },
  "language_info": {
   "codemirror_mode": {
    "name": "ipython",
    "version": 3
   },
   "file_extension": ".py",
   "mimetype": "text/x-python",
   "name": "python",
   "nbconvert_exporter": "python",
   "pygments_lexer": "ipython3",
   "version": "3.8.3"
  }
 },
 "nbformat": 4,
 "nbformat_minor": 4
}
