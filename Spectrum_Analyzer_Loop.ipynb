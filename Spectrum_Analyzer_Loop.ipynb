{
 "cells": [
  {
   "cell_type": "code",
   "execution_count": null,
   "metadata": {},
   "outputs": [],
   "source": [
    "from scipy.io import wavfile\n",
    "import os\n",
    "import numpy as np\n",
    "import pandas as pd"
   ]
  },
  {
   "cell_type": "markdown",
   "metadata": {},
   "source": [
    "SETUP"
   ]
  },
  {
   "cell_type": "code",
   "execution_count": null,
   "metadata": {},
   "outputs": [],
   "source": []
  },
  {
   "cell_type": "markdown",
   "metadata": {},
   "source": [
    "CORE LOOP"
   ]
  },
  {
   "cell_type": "code",
   "execution_count": null,
   "metadata": {},
   "outputs": [],
   "source": [
    "SampleName = \"01 - [Prologue]_1.wav\" # Audio File\n",
    "os.chdir('./Training_data/')\n",
    "SampleRate, Audiodata = wavfile.read(SampleName)\n",
    "\n",
    "# spectrum\n",
    "from scipy.fft import fft # fourier transform\n",
    "m = len(Audiodata) \n",
    "FFTSize = 8192 # have to use a multiple of 2 for optimal speed.\n",
    "#AudioFreq = fft(Audiodata,n=FFTSize,axis=0)\n",
    "AudioFreq = fft(Audiodata[:,1]*np.hanning(np.shape(Audiodata)[0]),n=FFTSize,axis=0) #with a Hanning window\n",
    "AudioFreq = AudioFreq[0:int(np.ceil((np.shape(AudioFreq)[0])/2.0))] #Left half of the spectrum\n",
    "MagFreq = np.abs(AudioFreq) # Magnitude\n",
    "MagFreq = MagFreq / float(m)\n",
    "\n",
    "# power spectrum\n",
    "MagFreq = MagFreq**2\n",
    "if m % 2 > 0: # ffte odd \n",
    "    MagFreq[1:len(MagFreq)] = MagFreq[1:len(MagFreq)] * 2\n",
    "else:# fft even\n",
    "    MagFreq[1:len(MagFreq) -1] = MagFreq[1:len(MagFreq) - 1] * 2 \n",
    "    \n",
    "# HPS (Harmonic Product Spectrum) Algorithm to determine fundamental frequency\n",
    "\n",
    "HPCSize = int(np.ceil(len(MagFreq))/5.0 + 1)\n",
    "\n",
    "MagFreq2 = MagFreq.copy().reshape(int(np.ceil(len(MagFreq))/2.0),2).mean(1)[0:HPCSize]\n",
    "print(np.shape(MagFreq2))\n",
    "MagFreq3 = np.concatenate([MagFreq.copy(),np.zeros(3 - int(len(MagFreq)) % 3)]).reshape(int(np.ceil(len(MagFreq))/3.0 + 1),3).mean(1)[0:HPCSize]\n",
    "print(np.shape(MagFreq3))\n",
    "\n",
    "HPC = MagFreq[0:HPCSize]*MagFreq2*MagFreq3\n",
    "HPCLog = np.log10(MagFreq[0:HPCSize])*np.log10(MagFreq2)*np.log10(MagFreq3)\n",
    "\n",
    "FFLocation = np.argmax(HPC)\n",
    "FFLocationLog = np.argmax(HPCLog)\n",
    "print('Fundamental frequency\\'s location is at index... ',FFLocation)\n",
    "print('Fundamental frequency is...',freqAxis[FFLocation],'Hz.')\n",
    "print('(Using power spectrum) Fundamental frequency\\'s location is at index... ',FFLocationLog)\n",
    "print('(Using power spectrum) Fundamental frequency is...',freqAxis[FFLocationLog],'Hz.')\n",
    "\n",
    "\n",
    "# Have to ensure the fundamental frequency is accurate. Take loudest spike, get its approximate ratio, round to nearest int\n",
    "MaxLoc = np.argmax(MagFreq)\n",
    "MaxRatio = np.round(freqAxis[MaxLoc]/freqAxis[FFLocation])\n",
    "#MaxRatioLog = np.round(freqAxis[MaxLoc]/freqAxis[FFLocationLog])\n",
    "print('The loudest ratio is ',MaxRatio)\n",
    "#print('(Using power spectrum) The loudest ratio is ',MaxRatioLog)\n",
    "\n",
    "FFreq = freqAxis[MaxLoc]/MaxRatio\n",
    "print('Corrected fundamental frequency is ',FFreq,' Hz.')\n",
    "\n",
    "MagFreqLog = 10*np.log10(MagFreq)\n",
    "FFreqLoc = np.argmin(np.abs(freqAxis - FFreq))\n",
    "print('Closest match found at index ',FFreqLoc)\n",
    "\n",
    "### HERE: TEST EITHER SIDE OF EACH. IF MAGNITUDE LARGER, CHANGE THE INDEX.\n",
    "\n",
    "FFreqLoc = FFreqLoc - ((MagFreqLog <= np.roll(MagFreqLog,1)) & (np.roll(MagFreqLog,-1) <= np.roll(MagFreqLog,1))) #if the left entry is >= the entry and the right entry, then make the left entry the new spike location\n",
    "FFreqLoc = FFreqLoc + ((MagFreqLog <= np.roll(MagFreqLog,-1)) & (np.roll(MagFreqLog,1) <= np.roll(MagFreqLog,-1)))  #if the right entry is >= the entry and the left entry, then make the right entry the new spike location\n",
    "\n",
    "numberSpikes = 20\n",
    "Multiples = [FFreq*i for i in np.arange(0,numberSpikes)]\n",
    "print(Multiples)\n",
    "\n",
    "MultiplesLoc = [np.argmin(np.abs(freqAxis - i)) for i in Multiples]\n",
    "print(MultiplesLoc)\n",
    "\n",
    "# Next, make an integer ratio-indexed list of the amplitudes!\n",
    "\n",
    "MultiplesMag = MagFreq[MultiplesLoc]\n",
    "\n",
    "MultiplesdB = MagFreqLog[MultiplesLoc]\n",
    "\n",
    "\n"
   ]
  },
  {
   "cell_type": "markdown",
   "metadata": {},
   "source": [
    "CSV FILE OUTPUT"
   ]
  },
  {
   "cell_type": "code",
   "execution_count": null,
   "metadata": {},
   "outputs": [],
   "source": []
  }
 ],
 "metadata": {
  "kernelspec": {
   "display_name": "Python 3",
   "language": "python",
   "name": "python3"
  },
  "language_info": {
   "codemirror_mode": {
    "name": "ipython",
    "version": 3
   },
   "file_extension": ".py",
   "mimetype": "text/x-python",
   "name": "python",
   "nbconvert_exporter": "python",
   "pygments_lexer": "ipython3",
   "version": "3.8.3"
  }
 },
 "nbformat": 4,
 "nbformat_minor": 4
}
