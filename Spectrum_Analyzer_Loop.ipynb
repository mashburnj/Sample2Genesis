{
 "cells": [
  {
   "cell_type": "code",
   "execution_count": 1,
   "metadata": {},
   "outputs": [],
   "source": [
    "from scipy.io import wavfile\n",
    "import os\n",
    "import numpy as np\n",
    "import pandas as pd"
   ]
  },
  {
   "cell_type": "markdown",
   "metadata": {},
   "source": [
    "SETUP"
   ]
  },
  {
   "cell_type": "code",
   "execution_count": 2,
   "metadata": {},
   "outputs": [],
   "source": [
    "# Variables you may change\n",
    "numberSpikes = 20 # number of integer multiples of the fundamental frequency to record (including 0 Hz).\n",
    "FFTSize = 8192 # have to use a multiple of 2 for optimal speed.\n",
    "\n",
    "#open directory with the samples in it.\n",
    "os.chdir('./Training_data/')\n",
    "\n",
    "# next, make a NP array of every wav file in the directory\n",
    "SampleList = np.array(os.listdir())\n",
    "SampleList = SampleList[ np.char.endswith(SampleList, '.wav') ] #ignore everything that's not a .wav file.\n",
    "\n",
    "#make a fresh blank series.\n",
    "SampleSpectra = pd.DataFrame(columns = np.arange(numberSpikes))"
   ]
  },
  {
   "cell_type": "markdown",
   "metadata": {},
   "source": [
    "CORE LOOP"
   ]
  },
  {
   "cell_type": "code",
   "execution_count": 3,
   "metadata": {},
   "outputs": [],
   "source": [
    "for SampleName in SampleList:\n",
    "    SampleRate, Audiodata = wavfile.read(SampleName)\n",
    "    # spectrum\n",
    "    from scipy.fft import fft # fourier transform\n",
    "    m = len(Audiodata) \n",
    "    #AudioFreq = fft(Audiodata,n=FFTSize,axis=0)\n",
    "    AudioFreq = fft(Audiodata[:,1]*np.hanning(np.shape(Audiodata)[0]),n=FFTSize,axis=0) #with a Hanning window\n",
    "    AudioFreq = AudioFreq[0:int(np.ceil((np.shape(AudioFreq)[0])/2.0))] #Left half of the spectrum\n",
    "    MagFreq = np.abs(AudioFreq) # Magnitude\n",
    "    MagFreq = MagFreq / float(m)\n",
    "    # power spectrum\n",
    "    MagFreq = MagFreq**2\n",
    "    if m % 2 > 0: # ffte odd \n",
    "        MagFreq[1:len(MagFreq)] = MagFreq[1:len(MagFreq)] * 2\n",
    "    else:# fft even\n",
    "        MagFreq[1:len(MagFreq) -1] = MagFreq[1:len(MagFreq) - 1] * 2 \n",
    "    # HPS (Harmonic Product Spectrum) Algorithm to determine fundamental frequency\n",
    "    HPSSize = int(np.ceil(len(MagFreq))/3.0 + 1)\n",
    "    MagFreq2 = MagFreq.copy().reshape(int(np.ceil(len(MagFreq))/2.0),2).mean(1)[0:HPSSize]\n",
    "    MagFreq3 = np.concatenate([MagFreq.copy(),np.zeros(3 - int(len(MagFreq)) % 3)]).reshape(int(np.ceil(len(MagFreq))/3.0 + 1),3).mean(1)[0:HPSSize]\n",
    "    HPS = MagFreq[0:HPSSize]*MagFreq2*MagFreq3\n",
    "    freqAxis = np.arange(0,int(np.ceil((m+1)/2.0)), int(np.ceil((m+1)/2.0))*2/FFTSize) * (SampleRate / m);\n",
    "    freqAxisDownscaled = np.arange(0,int(np.ceil((m+1)/2.0)), int(np.ceil((m+1)/2.0))*6/FFTSize) * (SampleRate / m);\n",
    "    FFLocHPS = np.argmax(HPS[freqAxisDownscaled >= 50]) + int(len(HPS[freqAxisDownscaled < 50])) # don't look below 50 Hz for it, due to noise.\n",
    "    FFLocation = FFLocHPS*3 - 1 # FFLocHPS uses an index that is scaled down by 1/3. Have to reverse that.\n",
    "    # Have to ensure the fundamental frequency is accurate. Take loudest spike, get its approximate ratio, round to nearest int.\n",
    "    MaxLoc = np.argmax(MagFreq[freqAxis >= 50]) + int(len(MagFreq[freqAxis < 50])) # don't look below 50 Hz for it, due to noise.\n",
    "    MaxRatio = np.max([np.round(freqAxis[MaxLoc]/freqAxis[FFLocation]), 1]) \n",
    "    FFreq = freqAxis[MaxLoc]/MaxRatio\n",
    "    MagFreqLog = 10*np.log10(MagFreq)\n",
    "    FFreqLoc = np.argmin(np.abs(freqAxis - FFreq))\n",
    "    # If the frequency on either side of the \"spike\" is actually louder, make that the new spike.\n",
    "    FFreqLoc = FFreqLoc - ((MagFreqLog <= np.roll(MagFreqLog,1)) & (np.roll(MagFreqLog,-1) <= np.roll(MagFreqLog,1))) #if the left entry is >= the entry and the right entry, then make the left entry the new spike location\n",
    "    FFreqLoc = FFreqLoc + ((MagFreqLog <= np.roll(MagFreqLog,-1)) & (np.roll(MagFreqLog,1) <= np.roll(MagFreqLog,-1)))  #if the right entry is >= the entry and the left entry, then make the right entry the new spike location\n",
    "    Multiples = [FFreq*i for i in np.arange(0,numberSpikes)]\n",
    "    MultiplesLoc = [np.argmin(np.abs(freqAxis - i)) for i in Multiples]\n",
    "    # Next, make an integer ratio-indexed list of the amplitudes!\n",
    "    MultiplesMag = MagFreq[MultiplesLoc]\n",
    "    MultiplesdB = MagFreqLog[MultiplesLoc]\n",
    "    # Write these magnitudes/dBs to the Pandas array! (Index = SampleName)\n",
    "    tempIndex = pd.MultiIndex.from_product([[SampleName],['Pwr','dB']])\n",
    "    SampleRow = pd.DataFrame(np.vstack([MultiplesMag, MultiplesdB]), index = tempIndex, columns = np.arange(0,numberSpikes))\n",
    "    SampleSpectra = pd.concat([SampleSpectra, SampleRow])"
   ]
  },
  {
   "cell_type": "markdown",
   "metadata": {},
   "source": [
    "CSV FILE OUTPUT"
   ]
  },
  {
   "cell_type": "code",
   "execution_count": 4,
   "metadata": {},
   "outputs": [
    {
     "name": "stdout",
     "output_type": "stream",
     "text": [
      "The first few samples' spectra for your viewing pleasure:\n",
      "                                         0            1             2   \\\n",
      "(01 - Circle of Life_0.wav, Pwr)  61.014667  1112.303713  1.220439e-02   \n",
      "(01 - Circle of Life_0.wav, dB)   17.854342    30.462234 -1.913484e+01   \n",
      "(01 - Circle of Life_1.wav, Pwr)   0.044072   101.640445  1.006199e+01   \n",
      "(01 - Circle of Life_1.wav, dB)  -13.558345    20.070666  1.002684e+01   \n",
      "(01 - Circle of Life_2.wav, Pwr)   0.000002     0.000109  7.362571e-07   \n",
      "\n",
      "                                         3          4          5          6   \\\n",
      "(01 - Circle of Life_0.wav, Pwr)   0.003119   0.001861   0.001438   0.001008   \n",
      "(01 - Circle of Life_0.wav, dB)  -25.059827 -27.301782 -28.422371 -29.965447   \n",
      "(01 - Circle of Life_1.wav, Pwr)  14.333925   3.912804   0.825094   0.333062   \n",
      "(01 - Circle of Life_1.wav, dB)   11.563651   5.924881  -0.834964  -4.774746   \n",
      "(01 - Circle of Life_2.wav, Pwr)   0.000005   0.000005   0.000005   0.000005   \n",
      "\n",
      "                                         7          8          9          10  \\\n",
      "(01 - Circle of Life_0.wav, Pwr)   0.000720   0.000493   0.000491   0.000305   \n",
      "(01 - Circle of Life_0.wav, dB)  -31.425729 -33.067284 -33.085120 -35.162764   \n",
      "(01 - Circle of Life_1.wav, Pwr)   0.229630   0.017765   0.036129   0.049534   \n",
      "(01 - Circle of Life_1.wav, dB)   -6.389716 -17.504418 -14.421382 -13.051004   \n",
      "(01 - Circle of Life_2.wav, Pwr)   0.000005   0.000005   0.000005   0.000005   \n",
      "\n",
      "                                         11         12         13         14  \\\n",
      "(01 - Circle of Life_0.wav, Pwr)   0.000285   0.000264   0.000136   0.000180   \n",
      "(01 - Circle of Life_0.wav, dB)  -35.448045 -35.781558 -38.663565 -37.442895   \n",
      "(01 - Circle of Life_1.wav, Pwr)   0.025347   0.004416   0.005315   0.011200   \n",
      "(01 - Circle of Life_1.wav, dB)  -15.960742 -23.549640 -22.744624 -19.507762   \n",
      "(01 - Circle of Life_2.wav, Pwr)   0.000005   0.000005   0.000005   0.000005   \n",
      "\n",
      "                                         15         16         17         18  \\\n",
      "(01 - Circle of Life_0.wav, Pwr)   0.000150   0.000101   0.000129   0.000111   \n",
      "(01 - Circle of Life_0.wav, dB)  -38.251978 -39.964678 -38.882823 -39.541836   \n",
      "(01 - Circle of Life_1.wav, Pwr)   0.005717   0.000277   0.001223   0.002693   \n",
      "(01 - Circle of Life_1.wav, dB)  -22.428188 -35.569343 -29.124085 -25.697097   \n",
      "(01 - Circle of Life_2.wav, Pwr)   0.000005   0.000005   0.000005   0.000005   \n",
      "\n",
      "                                         19  \n",
      "(01 - Circle of Life_0.wav, Pwr)   0.000124  \n",
      "(01 - Circle of Life_0.wav, dB)  -39.081343  \n",
      "(01 - Circle of Life_1.wav, Pwr)   0.001722  \n",
      "(01 - Circle of Life_1.wav, dB)  -27.639339  \n",
      "(01 - Circle of Life_2.wav, Pwr)   0.000005  \n"
     ]
    }
   ],
   "source": [
    "SampleSpectra.to_csv('000SampleSpectra.csv')\n",
    "\n",
    "print('The first few samples\\' spectra for your viewing pleasure:')\n",
    "print(SampleSpectra.head())"
   ]
  }
 ],
 "metadata": {
  "kernelspec": {
   "display_name": "Python 3",
   "language": "python",
   "name": "python3"
  },
  "language_info": {
   "codemirror_mode": {
    "name": "ipython",
    "version": 3
   },
   "file_extension": ".py",
   "mimetype": "text/x-python",
   "name": "python",
   "nbconvert_exporter": "python",
   "pygments_lexer": "ipython3",
   "version": "3.7.3"
  }
 },
 "nbformat": 4,
 "nbformat_minor": 4
}
