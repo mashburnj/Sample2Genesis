{
 "cells": [
  {
   "cell_type": "code",
   "execution_count": 1,
   "metadata": {},
   "outputs": [],
   "source": [
    "from scipy.io import wavfile\n",
    "import os\n",
    "import numpy as np\n",
    "import pandas as pd"
   ]
  },
  {
   "cell_type": "markdown",
   "metadata": {},
   "source": [
    "SETUP"
   ]
  },
  {
   "cell_type": "code",
   "execution_count": 2,
   "metadata": {},
   "outputs": [
    {
     "name": "stdout",
     "output_type": "stream",
     "text": [
      "['01 - [Prologue]_1.wav']\n",
      "SampleList size  (1,)\n",
      "Index size  (2,)\n",
      "1\n"
     ]
    }
   ],
   "source": [
    "# Variables you may change\n",
    "numberSpikes = 20 # number of integer multiples of the fundamental frequency to record (including 0 Hz).\n",
    "FFTSize = 8192 # have to use a multiple of 2 for optimal speed.\n",
    "\n",
    "#open directory with the samples in it.\n",
    "os.chdir('./Training_data/')\n",
    "\n",
    "# next, make a NP array of every wav file in the directory\n",
    "SampleList = np.array(os.listdir())\n",
    "SampleList = SampleList[ np.char.endswith(SampleList, '.wav') ] #ignore everything that's not a .wav file.\n",
    "print(SampleList)\n",
    "\n",
    "print('SampleList size ',np.shape(SampleList))\n",
    "print('Index size ', np.shape([ SampleList , ['Pwr','dB'] ]))\n",
    "print(int(len(SampleList)))\n",
    "\n",
    "#make a fresh blank series.\n",
    "SampleSpectra = pd.DataFrame(columns = np.arange(numberSpikes))"
   ]
  },
  {
   "cell_type": "markdown",
   "metadata": {},
   "source": [
    "CORE LOOP"
   ]
  },
  {
   "cell_type": "code",
   "execution_count": 3,
   "metadata": {},
   "outputs": [
    {
     "name": "stdout",
     "output_type": "stream",
     "text": [
      "[[ 8.24749141e-02  3.46080249e-01  1.24053034e+03  5.05324902e-01\n",
      "   3.55408349e-01  7.43261023e-02  8.41128443e-02  2.99093037e-02\n",
      "   2.22068712e-02  1.71220618e-02  1.35146583e-02  1.05372968e-02\n",
      "   7.97451996e-03  7.84191772e-03  5.42737697e-03  5.65548568e-03\n",
      "   4.38594088e-03  4.23322675e-03  3.19160452e-03  3.46324621e-03]\n",
      " [-1.08367813e+01 -4.60823185e+00  3.09360739e+01 -2.96429300e+00\n",
      "  -4.49272375e+00 -1.12885864e+01 -1.07513768e+01 -1.52419370e+01\n",
      "  -1.65351263e+01 -1.76644394e+01 -1.86919493e+01 -1.97727079e+01\n",
      "  -2.09829545e+01 -2.10557772e+01 -2.26541001e+01 -2.24753009e+01\n",
      "  -2.35793723e+01 -2.37332847e+01 -2.49599093e+01 -2.46051663e+01]]\n",
      "[['01 - [Prologue]_1.wav'], ['Pwr', 'dB']]\n"
     ]
    }
   ],
   "source": [
    "for SampleName in SampleList:\n",
    "    SampleRate, Audiodata = wavfile.read(SampleName)\n",
    "    # spectrum\n",
    "    from scipy.fft import fft # fourier transform\n",
    "    m = len(Audiodata) \n",
    "    #AudioFreq = fft(Audiodata,n=FFTSize,axis=0)\n",
    "    AudioFreq = fft(Audiodata[:,1]*np.hanning(np.shape(Audiodata)[0]),n=FFTSize,axis=0) #with a Hanning window\n",
    "    AudioFreq = AudioFreq[0:int(np.ceil((np.shape(AudioFreq)[0])/2.0))] #Left half of the spectrum\n",
    "    MagFreq = np.abs(AudioFreq) # Magnitude\n",
    "    MagFreq = MagFreq / float(m)\n",
    "    # power spectrum\n",
    "    MagFreq = MagFreq**2\n",
    "    if m % 2 > 0: # ffte odd \n",
    "        MagFreq[1:len(MagFreq)] = MagFreq[1:len(MagFreq)] * 2\n",
    "    else:# fft even\n",
    "        MagFreq[1:len(MagFreq) -1] = MagFreq[1:len(MagFreq) - 1] * 2 \n",
    "    # HPS (Harmonic Product Spectrum) Algorithm to determine fundamental frequency\n",
    "    HPCSize = int(np.ceil(len(MagFreq))/5.0 + 1)\n",
    "    MagFreq2 = MagFreq.copy().reshape(int(np.ceil(len(MagFreq))/2.0),2).mean(1)[0:HPCSize]\n",
    "    MagFreq3 = np.concatenate([MagFreq.copy(),np.zeros(3 - int(len(MagFreq)) % 3)]).reshape(int(np.ceil(len(MagFreq))/3.0 + 1),3).mean(1)[0:HPCSize]\n",
    "    HPC = MagFreq[0:HPCSize]*MagFreq2*MagFreq3\n",
    "    FFLocation = np.argmax(HPC)\n",
    "    # Have to ensure the fundamental frequency is accurate. Take loudest spike, get its approximate ratio, round to nearest int\n",
    "    MaxLoc = np.argmax(MagFreq)\n",
    "    freqAxis = np.arange(0,int(np.ceil((m+1)/2.0)), int(np.ceil((m+1)/2.0))*2/FFTSize) * (SampleRate / m);\n",
    "    MaxRatio = np.round(freqAxis[MaxLoc]/freqAxis[FFLocation])\n",
    "    FFreq = freqAxis[MaxLoc]/MaxRatio\n",
    "    MagFreqLog = 10*np.log10(MagFreq)\n",
    "    FFreqLoc = np.argmin(np.abs(freqAxis - FFreq))\n",
    "    # If the frequency on either side of the \"spike\" is actually louder, make that the new spike.\n",
    "    FFreqLoc = FFreqLoc - ((MagFreqLog <= np.roll(MagFreqLog,1)) & (np.roll(MagFreqLog,-1) <= np.roll(MagFreqLog,1))) #if the left entry is >= the entry and the right entry, then make the left entry the new spike location\n",
    "    FFreqLoc = FFreqLoc + ((MagFreqLog <= np.roll(MagFreqLog,-1)) & (np.roll(MagFreqLog,1) <= np.roll(MagFreqLog,-1)))  #if the right entry is >= the entry and the left entry, then make the right entry the new spike location\n",
    "    Multiples = [FFreq*i for i in np.arange(0,numberSpikes)]\n",
    "    MultiplesLoc = [np.argmin(np.abs(freqAxis - i)) for i in Multiples]\n",
    "    # Next, make an integer ratio-indexed list of the amplitudes!\n",
    "    MultiplesMag = MagFreq[MultiplesLoc]\n",
    "    MultiplesdB = MagFreqLog[MultiplesLoc]\n",
    "    # Write these magnitudes/dBs to the Pandas array! (Index = SampleName)\n",
    "    print(np.vstack([MultiplesMag, MultiplesdB]))\n",
    "    print([[SampleName],['Pwr','dB']])\n",
    "    tempIndex = pd.MultiIndex.from_product([[SampleName],['Pwr','dB']])\n",
    "    SampleRow = pd.DataFrame(np.vstack([MultiplesMag, MultiplesdB]), index = tempIndex, columns = np.arange(0,numberSpikes))\n",
    "    SampleSpectra = pd.concat([SampleSpectra, SampleRow])"
   ]
  },
  {
   "cell_type": "markdown",
   "metadata": {},
   "source": [
    "CSV FILE OUTPUT"
   ]
  },
  {
   "cell_type": "code",
   "execution_count": 4,
   "metadata": {},
   "outputs": [
    {
     "name": "stdout",
     "output_type": "stream",
     "text": [
      "The first few samples' spectra for your viewing pleasure:\n",
      "                                     0         1            2         3   \\\n",
      "(01 - [Prologue]_1.wav, Pwr)   0.082475  0.346080  1240.530344  0.505325   \n",
      "(01 - [Prologue]_1.wav, dB)  -10.836781 -4.608232    30.936074 -2.964293   \n",
      "\n",
      "                                    4          5          6          7   \\\n",
      "(01 - [Prologue]_1.wav, Pwr)  0.355408   0.074326   0.084113   0.029909   \n",
      "(01 - [Prologue]_1.wav, dB)  -4.492724 -11.288586 -10.751377 -15.241937   \n",
      "\n",
      "                                     8          9          10         11  \\\n",
      "(01 - [Prologue]_1.wav, Pwr)   0.022207   0.017122   0.013515   0.010537   \n",
      "(01 - [Prologue]_1.wav, dB)  -16.535126 -17.664439 -18.691949 -19.772708   \n",
      "\n",
      "                                     12         13         14         15  \\\n",
      "(01 - [Prologue]_1.wav, Pwr)   0.007975   0.007842   0.005427   0.005655   \n",
      "(01 - [Prologue]_1.wav, dB)  -20.982955 -21.055777 -22.654100 -22.475301   \n",
      "\n",
      "                                     16         17         18         19  \n",
      "(01 - [Prologue]_1.wav, Pwr)   0.004386   0.004233   0.003192   0.003463  \n",
      "(01 - [Prologue]_1.wav, dB)  -23.579372 -23.733285 -24.959909 -24.605166  \n"
     ]
    }
   ],
   "source": [
    "SampleSpectra.to_csv('SampleSpectra.csv')\n",
    "#with io.open('SampleSpectra.csv','w') as outputFile:\n",
    "#    outputFile.write(SampleSpectra)\n",
    "\n",
    "print('The first few samples\\' spectra for your viewing pleasure:')\n",
    "print(SampleSpectra.head())"
   ]
  }
 ],
 "metadata": {
  "kernelspec": {
   "display_name": "Python 3",
   "language": "python",
   "name": "python3"
  },
  "language_info": {
   "codemirror_mode": {
    "name": "ipython",
    "version": 3
   },
   "file_extension": ".py",
   "mimetype": "text/x-python",
   "name": "python",
   "nbconvert_exporter": "python",
   "pygments_lexer": "ipython3",
   "version": "3.8.3"
  }
 },
 "nbformat": 4,
 "nbformat_minor": 4
}
