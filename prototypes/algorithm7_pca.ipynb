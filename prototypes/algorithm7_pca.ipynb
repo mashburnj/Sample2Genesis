{
 "cells": [
  {
   "cell_type": "markdown",
   "metadata": {},
   "source": [
    "# Algorithm 7 Data Combiner / Dimension Reducer"
   ]
  },
  {
   "cell_type": "code",
   "execution_count": 2,
   "metadata": {},
   "outputs": [],
   "source": [
    "%matplotlib inline\n",
    "import os\n",
    "import numpy as np\n",
    "import pandas as pd\n",
    "import matplotlib.pyplot as plt\n",
    "from sklearn.decomposition import PCA"
   ]
  },
  {
   "cell_type": "markdown",
   "metadata": {},
   "source": [
    "SETUP"
   ]
  },
  {
   "cell_type": "code",
   "execution_count": 18,
   "metadata": {},
   "outputs": [
    {
     "name": "stdout",
     "output_type": "stream",
     "text": [
      "231 patches created with algorithm 7 loaded.\n",
      "                                 0         0.1        0.2        0.3  \\\n",
      "Frequency                                                              \n",
      "01 - Introduction_1.wav   0.000000    0.155585   0.181718   0.204740   \n",
      "01 - Introduction_3.wav   2.887008    4.359714   1.014037   1.452763   \n",
      "01 - Konami Music_0.wav  10.048917  191.869320  91.487510  13.409108   \n",
      "01 - Konami Music_1.wav   0.046697    1.849770   4.793641   0.111607   \n",
      "01 - Storyline_0.wav      8.807012  192.985410  89.900360  12.688002   \n",
      "\n",
      "                                0.4        0.5        0.6         0.7  \\\n",
      "Frequency                                                               \n",
      "01 - Introduction_1.wav    1.115037   0.900316  10.134888    6.486223   \n",
      "01 - Introduction_3.wav    4.167890   1.092701   0.452560    5.342824   \n",
      "01 - Konami Music_0.wav  147.273590  82.207920   5.908643  111.634540   \n",
      "01 - Konami Music_1.wav    3.710269   3.479036   0.052593    3.349345   \n",
      "01 - Storyline_0.wav     145.879490  81.690110   5.662919  108.697365   \n",
      "\n",
      "                               0.8        0.9  ...   116.195   116.196  \\\n",
      "Frequency                                      ...                       \n",
      "01 - Introduction_1.wav   6.118459  34.570380  ...  0.021259  0.020150   \n",
      "01 - Introduction_3.wav   1.356085   0.381865  ...  0.002582  0.156175   \n",
      "01 - Konami Music_0.wav  70.873245   2.422920  ...  0.012150  0.011784   \n",
      "01 - Konami Music_1.wav   3.722946   0.015535  ...  0.052827  0.007805   \n",
      "01 - Storyline_0.wav     69.978510   2.078027  ...  0.004919  0.011799   \n",
      "\n",
      "                          116.197   116.198   116.199   116.200   116.201  \\\n",
      "Frequency                                                                   \n",
      "01 - Introduction_1.wav  0.004997  0.203287  0.031435  0.025841  0.365254   \n",
      "01 - Introduction_3.wav  0.212544  0.094644  0.074794  0.081131  0.007933   \n",
      "01 - Konami Music_0.wav  0.006355  0.003368  0.012996  0.014286  0.012490   \n",
      "01 - Konami Music_1.wav  0.054681  0.045460  0.016733  0.017049  0.003676   \n",
      "01 - Storyline_0.wav     0.027525  0.002976  0.015165  0.005468  0.011289   \n",
      "\n",
      "                          116.202   116.203   116.204  \n",
      "Frequency                                              \n",
      "01 - Introduction_1.wav  0.006656  0.076234  0.196127  \n",
      "01 - Introduction_3.wav  0.002062  0.090098  0.133463  \n",
      "01 - Konami Music_0.wav  0.009897  0.053313  0.008613  \n",
      "01 - Konami Music_1.wav  0.013850  0.001025  0.056520  \n",
      "01 - Storyline_0.wav     0.015175  0.003719  0.009390  \n",
      "\n",
      "[5 rows x 73169 columns]\n",
      "False\n",
      "[1.75585734e+11 8.13351612e+10 3.07869246e+10 2.31978727e+10\n",
      " 2.15838635e+10 1.75229443e+10 8.11648585e+09 6.51993185e+09\n",
      " 5.03327431e+09 3.88503280e+09 3.35414478e+09 2.68420934e+09\n",
      " 1.94707829e+09 1.56527815e+09 1.26762900e+09 9.23997900e+08\n",
      " 7.22874281e+08 6.06932212e+08 5.16737044e+08 4.85490587e+08\n",
      " 4.67445352e+08 3.01945869e+08 2.93692296e+08 2.77973099e+08\n",
      " 2.67028040e+08 2.53439365e+08 1.97675015e+08 1.78119877e+08\n",
      " 1.52281994e+08 1.39255885e+08 1.14078440e+08 9.72448561e+07\n",
      " 8.58705827e+07 8.23463389e+07 7.88813250e+07 5.62416987e+07\n",
      " 5.49056711e+07 5.05678593e+07 4.43988161e+07 4.22575767e+07\n",
      " 3.99228246e+07 3.09342083e+07 2.95168926e+07 2.44136420e+07\n",
      " 2.30105478e+07 2.10571819e+07 2.08115799e+07 2.03265134e+07\n",
      " 1.89147389e+07 1.57869383e+07 1.46458875e+07 1.42269461e+07\n",
      " 1.32353029e+07 1.20012205e+07 1.09852264e+07 1.06890274e+07\n",
      " 9.89295005e+06 9.40280535e+06 8.93254983e+06 7.80824125e+06\n",
      " 6.66493640e+06 5.96387274e+06 5.64545857e+06 5.14075398e+06\n",
      " 4.71711855e+06 3.67457285e+06 3.62970260e+06 3.04414809e+06\n",
      " 2.92078302e+06 2.56326160e+06 2.52942493e+06 2.30753154e+06\n",
      " 2.03915927e+06 1.80005859e+06 1.72847146e+06 1.46791892e+06\n",
      " 1.40247968e+06 1.24573899e+06 1.12706784e+06 1.02772756e+06\n",
      " 9.67061113e+05 9.15196329e+05 8.35087768e+05 7.68984738e+05\n",
      " 7.11413850e+05 6.53649599e+05 6.30785992e+05 5.56982370e+05\n",
      " 5.13061755e+05 4.66521636e+05 4.38769687e+05 3.93962186e+05\n",
      " 3.64270446e+05 3.25758725e+05 2.77554610e+05 2.64752824e+05\n",
      " 2.52502946e+05 2.22888981e+05 1.97856120e+05 1.91111942e+05\n",
      " 1.37068551e+05 1.27308061e+05 1.11067367e+05 1.09579039e+05\n",
      " 9.89936060e+04 9.49558022e+04 7.92924347e+04 6.08389844e+04\n",
      " 5.83295764e+04 5.66112480e+04 5.18599715e+04 4.55163847e+04\n",
      " 3.91875109e+04 3.37221404e+04 3.08180148e+04 2.88923977e+04\n",
      " 2.76262595e+04 2.63728004e+04 2.36675732e+04 2.17800377e+04\n",
      " 1.72471022e+04 1.59009964e+04 1.41338767e+04 1.39875921e+04\n",
      " 1.26031162e+04 1.14556242e+04 1.11626844e+04 1.09707956e+04\n",
      " 1.05166717e+04 8.88633202e+03 8.49848403e+03 8.23184302e+03\n",
      " 7.97854442e+03 7.87165191e+03 6.89340278e+03 6.54424621e+03\n",
      " 6.13476388e+03 6.00087745e+03 5.02914120e+03 4.74568843e+03\n",
      " 4.40966346e+03 4.16765725e+03 3.92950094e+03 3.72867045e+03\n",
      " 3.47990322e+03 3.31310674e+03 3.09661291e+03 2.87823161e+03\n",
      " 2.50721687e+03 2.46688167e+03 2.33029730e+03 2.18394094e+03\n",
      " 2.17136855e+03 2.00506587e+03 1.86756834e+03 1.40554669e+03\n",
      " 1.35702732e+03 1.26201641e+03 1.15091448e+03 1.12821074e+03\n",
      " 1.07518699e+03 1.03138111e+03 9.31541307e+02 8.12260410e+02\n",
      " 7.74277935e+02 7.46177488e+02 6.74974778e+02 6.54649189e+02\n",
      " 6.15014753e+02 5.87419967e+02 5.40356150e+02 5.30982737e+02\n",
      " 4.44782216e+02 4.01523085e+02 3.74602605e+02 3.23495134e+02\n",
      " 2.83741610e+02 2.53402559e+02 2.25786447e+02 2.12797009e+02\n",
      " 1.87862545e+02 1.75881452e+02 1.74381746e+02 1.58291506e+02\n",
      " 1.46454672e+02 1.25717928e+02 1.18353421e+02 1.13424005e+02\n",
      " 1.00673004e+02 9.52263246e+01 8.80063434e+01 8.23134029e+01\n",
      " 7.09461382e+01 6.63775922e+01 6.23150431e+01 6.09503910e+01\n",
      " 5.06912680e+01 4.77052172e+01 4.52152562e+01 4.28251193e+01\n",
      " 3.50755047e+01 3.14563901e+01 3.11403919e+01 2.94234235e+01\n",
      " 2.46636410e+01 2.31904727e+01 2.15942975e+01 2.07125805e+01\n",
      " 1.93781717e+01 1.81403305e+01 1.31327120e+01 1.03262927e+01\n",
      " 9.65751105e+00 9.51546904e+00 8.85235465e+00 7.84987515e+00\n",
      " 4.89121206e+00 3.49533068e+00 3.29238091e+00 2.73383330e+00\n",
      " 2.36249378e+00 1.84511492e+00 1.65639245e+00 1.24840672e+00\n",
      " 9.42771191e-01 6.84873846e-01 4.24969327e-01 2.96873363e-01\n",
      " 1.68581583e-19 1.27160236e-21 1.27160236e-21]\n",
      "reduced shape  (231, 231)\n"
     ]
    },
    {
     "data": {
      "image/png": "[encoded data removed]",
      "text/plain": [
       "<Figure size 640x480 with 1 Axes>"
      ]
     },
     "metadata": {},
     "output_type": "display_data"
    }
   ],
   "source": [
    "#open directory with the spectrograms and audio data.\n",
    "used_raw_data = False\n",
    "\n",
    "os.chdir('..')\n",
    "os.chdir('./data/')\n",
    "\n",
    "SampleFeatures = pd.read_csv('SampleSpectra7.csv', index_col = 0).drop('Time') # No longer need the Time subcolumn names, as the main column labels incorporated this info just fine.\n",
    "SampleFeatures['116.204'] = SampleFeatures['116.204'].fillna(0) # For some reason, the last column had NaNs near the bottom.\n",
    "\n",
    "if used_raw_data:\n",
    "    SampleWav = pd.read_csv('SampleWav7.csv', index_col = 0)\n",
    "    SampleFeatures = pd.concat([SampleFeatures, SampleWav], axis = 1, join = 'inner')\n",
    "    del SampleWav\n",
    "\n",
    "print(len(SampleFeatures),'patches created with algorithm 7 loaded.')\n",
    "print(SampleFeatures.head())\n",
    "\n",
    "print(SampleFeatures.isnull().values.any())\n",
    "pca = PCA(n_components = 231) # Has to be <= min(# samples, # features)\n",
    "pca.fit(SampleFeatures)\n",
    "ReducedFeatures = pca.transform(SampleFeatures)\n",
    "print(pca.explained_variance_)\n",
    "print('reduced shape ', ReducedFeatures.shape)\n",
    "plt.plot(np.cumsum(pca.explained_variance_ratio_))\n",
    "plt.xlabel('number of components')\n",
    "plt.ylabel('cumulative explained variance');"
   ]
  },
  {
   "cell_type": "markdown",
   "metadata": {},
   "source": [
    "SAVING THIS PCA TO DISK"
   ]
  },
  {
   "cell_type": "code",
   "execution_count": null,
   "metadata": {},
   "outputs": [],
   "source": []
  }
 ],
 "metadata": {
  "kernelspec": {
   "display_name": "Python 3 (ipykernel)",
   "language": "python",
   "name": "python3"
  },
  "language_info": {
   "codemirror_mode": {
    "name": "ipython",
    "version": 3
   },
   "file_extension": ".py",
   "mimetype": "text/x-python",
   "name": "python",
   "nbconvert_exporter": "python",
   "pygments_lexer": "ipython3",
   "version": "3.9.16"
  }
 },
 "nbformat": 4,
 "nbformat_minor": 4
}
