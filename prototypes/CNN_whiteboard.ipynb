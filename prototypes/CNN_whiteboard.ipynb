{
 "cells": [
  {
   "cell_type": "code",
   "execution_count": 1,
   "id": "f30ac2b8",
   "metadata": {},
   "outputs": [
    {
     "name": "stderr",
     "output_type": "stream",
     "text": [
      "2023-02-27 22:54:21.832981: I tensorflow/core/platform/cpu_feature_guard.cc:193] This TensorFlow binary is optimized with oneAPI Deep Neural Network Library (oneDNN) to use the following CPU instructions in performance-critical operations:  AVX2 FMA\n",
      "To enable them in other operations, rebuild TensorFlow with the appropriate compiler flags.\n",
      "2023-02-27 22:54:22.498165: W tensorflow/compiler/xla/stream_executor/platform/default/dso_loader.cc:64] Could not load dynamic library 'libnvinfer.so.7'; dlerror: libnvinfer.so.7: cannot open shared object file: No such file or directory; LD_LIBRARY_PATH: :/home/jacob/anaconda3/envs/tf-cuda/lib/\n",
      "2023-02-27 22:54:22.498219: W tensorflow/compiler/xla/stream_executor/platform/default/dso_loader.cc:64] Could not load dynamic library 'libnvinfer_plugin.so.7'; dlerror: libnvinfer_plugin.so.7: cannot open shared object file: No such file or directory; LD_LIBRARY_PATH: :/home/jacob/anaconda3/envs/tf-cuda/lib/\n",
      "2023-02-27 22:54:22.498225: W tensorflow/compiler/tf2tensorrt/utils/py_utils.cc:38] TF-TRT Warning: Cannot dlopen some TensorRT libraries. If you would like to use Nvidia GPU with TensorRT, please make sure the missing libraries mentioned above are installed properly.\n"
     ]
    }
   ],
   "source": [
    "import tensorflow as tf\n",
    "from tensorflow.keras.models import Sequential, model_from_json # Will experiment with various architectures\n",
    "from tensorflow.keras import layers"
   ]
  },
  {
   "cell_type": "code",
   "execution_count": 8,
   "id": "17652123",
   "metadata": {},
   "outputs": [
    {
     "name": "stdout",
     "output_type": "stream",
     "text": [
      "Model: \"sequential_6\"\n",
      "_________________________________________________________________\n",
      " Layer (type)                Output Shape              Param #   \n",
      "=================================================================\n",
      " reshape_6 (Reshape)         (None, 129, 629, 1)       0         \n",
      "                                                                 \n",
      " resizing_5 (Resizing)       (None, 129, 129, 1)       0         \n",
      "                                                                 \n",
      " normalization_6 (Normalizat  (None, 129, 129, 1)      0         \n",
      " ion)                                                            \n",
      "                                                                 \n",
      " conv2d_9 (Conv2D)           (None, 127, 127, 4)       40        \n",
      "                                                                 \n",
      " max_pooling2d_6 (MaxPooling  (None, 63, 63, 4)        0         \n",
      " 2D)                                                             \n",
      "                                                                 \n",
      " conv2d_10 (Conv2D)          (None, 61, 61, 4)         148       \n",
      "                                                                 \n",
      " flatten_6 (Flatten)         (None, 14884)             0         \n",
      "                                                                 \n",
      " dense_10 (Dense)            (None, 200)               2977000   \n",
      "                                                                 \n",
      " dense_11 (Dense)            (None, 160)               32160     \n",
      "                                                                 \n",
      " dense_12 (Dense)            (None, 120)               19320     \n",
      "                                                                 \n",
      " dense_13 (Dense)            (None, 80)                9680      \n",
      "                                                                 \n",
      " dense_14 (Dense)            (None, 37)                2997      \n",
      "                                                                 \n",
      "=================================================================\n",
      "Total params: 3,041,345\n",
      "Trainable params: 3,041,345\n",
      "Non-trainable params: 0\n",
      "_________________________________________________________________\n"
     ]
    }
   ],
   "source": [
    "model = Sequential([\n",
    "    layers.Input(shape = (81141,)),\n",
    "    layers.Reshape((129, 629, 1)),\n",
    "    layers.Resizing(height = 129, width = 129),\n",
    "    layers.Normalization(mean = 126, variance = 165000), # Stdev ~= 406. Calculated from model 7's spectra csv.\n",
    "    layers.Conv2D(4, 3, activation='relu'),\n",
    "    layers.MaxPooling2D(),\n",
    "    layers.Conv2D(4, 3, activation='relu'),\n",
    "    layers.Flatten(),\n",
    "    layers.Dense(200, activation='relu'),\n",
    "    layers.Dense(160, activation='relu'),\n",
    "    layers.Dense(120, activation='relu'),\n",
    "    layers.Dense(80, activation='relu'),\n",
    "    layers.Dense(37, activation='relu')\n",
    "])\n",
    "\n",
    "model.summary()"
   ]
  },
  {
   "cell_type": "code",
   "execution_count": null,
   "id": "ff121d67",
   "metadata": {},
   "outputs": [],
   "source": []
  }
 ],
 "metadata": {
  "kernelspec": {
   "display_name": "Python 3 (ipykernel)",
   "language": "python",
   "name": "python3"
  },
  "language_info": {
   "codemirror_mode": {
    "name": "ipython",
    "version": 3
   },
   "file_extension": ".py",
   "mimetype": "text/x-python",
   "name": "python",
   "nbconvert_exporter": "python",
   "pygments_lexer": "ipython3",
   "version": "3.10.9"
  }
 },
 "nbformat": 4,
 "nbformat_minor": 5
}
