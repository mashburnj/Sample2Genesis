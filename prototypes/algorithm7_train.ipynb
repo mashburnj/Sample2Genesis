{
 "cells": [
  {
   "cell_type": "markdown",
   "metadata": {},
   "source": [
    "# Audio Sample to Sega Genesis Synth Path Estimator - Algorithm 7"
   ]
  },
  {
   "cell_type": "code",
   "execution_count": null,
   "metadata": {},
   "outputs": [],
   "source": [
    "import numpy as np\n",
    "import os\n",
    "import pandas as pd\n",
    "import pickle as pk\n",
    "from sklearn.decomposition import PCA\n",
    "from tensorflow.keras.models import Sequential, model_from_json # Will experiment with various architectures\n",
    "from tensorflow.keras.layers import Dense\n",
    "\n",
    "# Side note: don't actually run this in Jupyter. This is simply a whiteboard for the model design.\n",
    "# Transfer to a .py file, and run this on Linux with AMD GPU support."
   ]
  },
  {
   "cell_type": "markdown",
   "metadata": {},
   "source": [
    "SETUP"
   ]
  },
  {
   "cell_type": "code",
   "execution_count": null,
   "metadata": {},
   "outputs": [],
   "source": [
    "#open directory with the spectrograms, raw audio data (if I used it), and register data in it.\n",
    "used_raw_data = True\n",
    "\n",
    "os.chdir('..')\n",
    "os.chdir('./data/')\n",
    "\n",
    "RegisterTargets = pd.read_csv('SampleRegisters7.csv', index_col = 0)\n",
    "print(len(RegisterTargets),'patches created with algorithm 7 found.')\n",
    "\n",
    "SampleFeatures = pd.read_csv('SampleSpectra7.csv', index_col = 0).drop('Time') # No longer need the Time subcolumn names, as the main column labels incorporated this info just fine.\n",
    "SampleFeatures['116.204'] = SampleFeatures['116.204'].fillna(0) # For some reason, the last column had NaNs near the bottom.\n",
    "\n",
    "if used_raw_data:\n",
    "    SampleWav = pd.read_csv('SampleWav7.csv', index_col = 0)\n",
    "    SampleFeatures = pd.concat([SampleFeatures, SampleWav], axis = 1, join = 'inner')\n",
    "    del SampleWav\n",
    "\n",
    "os.chdir('..')\n",
    "os.chdir('./models/')\n",
    "pca = pk.load(open('pca7.pkl','rb'))\n",
    "ReducedFeatures = pca.transform(SampleFeatures)\n",
    "del SampleFeatures\n",
    "\n",
    "np.shape(ReducedFeatures)\n",
    "\n",
    "for DTcol in ['DT1', 'DT2', 'DT3', 'DT4']:\n",
    "    RegisterTargets[DTcol] = RegisterTargets[DTcol] + 8 # Make this non-zero for ReLU.\n",
    "\n",
    "RegisterTargets.head()"
   ]
  },
  {
   "cell_type": "markdown",
   "metadata": {},
   "source": [
    "TRAINING AN ESTIMATOR MODEL"
   ]
  },
  {
   "cell_type": "code",
   "execution_count": null,
   "metadata": {},
   "outputs": [],
   "source": [
    "model7 = Sequential()\n",
    "model7.add(Dense(220, input_shape = (200,), activation='relu'))\n",
    "model7.add(Dense(200, activation='relu'))\n",
    "model7.add(Dense(180, activation='relu'))\n",
    "model7.add(Dense(160, activation='relu'))\n",
    "model7.add(Dense(140, activation='relu'))\n",
    "model7.add(Dense(120, activation='relu'))\n",
    "model7.add(Dense(100, activation='relu'))\n",
    "model7.add(Dense(80, activation='relu'))\n",
    "model7.add(Dense(60, activation='relu'))\n",
    "model7.add(Dense(37, activation='relu')) # 41 numerical outputs, but only 37 if we exclude release.\n",
    "\n",
    "# To do: experiment with these options.\n",
    "model7.compile(loss = 'mean_squared_error', optimizer = 'adam', metrics = ['mean_squared_error'])\n",
    "\n",
    "model7.fit(ReducedFeatures,RegisterTargets,epochs = 150, batch_size = 20)\n",
    "\n",
    "# To do: determine more insightful metrics.\n",
    "_, accuracy = model.evaluate(X, y)\n",
    "print('Accuracy: %.2f' % (accuracy))"
   ]
  },
  {
   "cell_type": "markdown",
   "metadata": {},
   "source": [
    "SAVING THE MODEL TO JSON TO BE IMPORTED INTO MAIN PROGRAM"
   ]
  },
  {
   "cell_type": "code",
   "execution_count": null,
   "metadata": {},
   "outputs": [],
   "source": [
    "os.chdir('..')\n",
    "os.chdir('./models/')\n",
    "\n",
    "# serialize model to JSON\n",
    "model_json = model7.to_json()\n",
    "with open(\"model7.json\", \"w\") as json_file:\n",
    "    json_file.write(model_json)\n",
    "# serialize weights to HDF5\n",
    "model7.save_weights(\"model7.h5\")\n",
    "print(\"Saved model to disk\")"
   ]
  }
 ],
 "metadata": {
  "kernelspec": {
   "display_name": "Python 3 (ipykernel)",
   "language": "python",
   "name": "python3"
  },
  "language_info": {
   "codemirror_mode": {
    "name": "ipython",
    "version": 3
   },
   "file_extension": ".py",
   "mimetype": "text/x-python",
   "name": "python",
   "nbconvert_exporter": "python",
   "pygments_lexer": "ipython3",
   "version": "3.10.9"
  }
 },
 "nbformat": 4,
 "nbformat_minor": 4
}
