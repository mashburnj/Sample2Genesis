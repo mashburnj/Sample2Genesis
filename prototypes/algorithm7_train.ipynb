{
 "cells": [
  {
   "cell_type": "markdown",
   "metadata": {},
   "source": [
    "# Audio Sample to Sega Genesis Synth Path Estimator - Algorithm 7"
   ]
  },
  {
   "cell_type": "code",
   "execution_count": 1,
   "metadata": {},
   "outputs": [],
   "source": [
    "import os\n",
    "import numpy as np\n",
    "import pandas as pd\n",
    "import tensorflow as tf"
   ]
  },
  {
   "cell_type": "markdown",
   "metadata": {},
   "source": [
    "SETUP"
   ]
  },
  {
   "cell_type": "code",
   "execution_count": 3,
   "metadata": {},
   "outputs": [
    {
     "name": "stdout",
     "output_type": "stream",
     "text": [
      "232 patches created with algorithm 7 found.\n",
      "                         Feedback   TL1  Multiple1  DT1  RS1  AttackLv1  AM1  \\\n",
      "01 - Introduction_1.wav       6.0  34.0        0.0 -3.0  0.0       15.0  0.0   \n",
      "01 - Introduction_3.wav       6.0  38.0       15.0 -3.0  0.0       31.0  0.0   \n",
      "01 - Konami Music_0.wav       2.0  45.0       10.0 -3.0  0.0       31.0  1.0   \n",
      "01 - Konami Music_1.wav       6.0  59.0       10.0 -3.0  0.0       27.0  1.0   \n",
      "01 - Storyline_0.wav          2.0  45.0       10.0 -3.0  0.0       31.0  1.0   \n",
      "\n",
      "                         Decay1Lv1  SustainLv1  Decay2Lv1  ...   TL4  \\\n",
      "01 - Introduction_1.wav       10.0         1.0       10.0  ...  34.0   \n",
      "01 - Introduction_3.wav        1.0         1.0        1.0  ...  42.0   \n",
      "01 - Konami Music_0.wav       10.0         6.0        7.0  ...  15.0   \n",
      "01 - Konami Music_1.wav       10.0         1.0        7.0  ...  37.0   \n",
      "01 - Storyline_0.wav          10.0         6.0        7.0  ...  15.0   \n",
      "\n",
      "                         Multiple4  DT4  RS4  AttackLv4  AM4  Decay1Lv4  \\\n",
      "01 - Introduction_1.wav        0.0  7.0  0.0       15.0  0.0       10.0   \n",
      "01 - Introduction_3.wav        4.0  7.0  0.0       31.0  0.0        1.0   \n",
      "01 - Konami Music_0.wav        1.0  1.0  0.0       25.0  1.0       10.0   \n",
      "01 - Konami Music_1.wav        1.0  2.0  0.0       18.0  1.0       10.0   \n",
      "01 - Storyline_0.wav           1.0  1.0  0.0       25.0  1.0       10.0   \n",
      "\n",
      "                         SustainLv4  Decay2Lv4  ReleaseLv4  \n",
      "01 - Introduction_1.wav         1.0       10.0        10.0  \n",
      "01 - Introduction_3.wav         1.0        1.0         8.0  \n",
      "01 - Konami Music_0.wav         5.0        2.0         5.0  \n",
      "01 - Konami Music_1.wav         0.0        2.0         5.0  \n",
      "01 - Storyline_0.wav            5.0        2.0         5.0  \n",
      "\n",
      "[5 rows x 41 columns]\n"
     ]
    }
   ],
   "source": [
    "#open directory with the spectrograms, PCA-reduced audio data (if I used it), and register data in it.\n",
    "used_raw_data = False\n",
    "\n",
    "os.chdir('..')\n",
    "os.chdir('./data/')\n",
    "\n",
    "RegisterTargets = pd.read_csv('SampleRegisters.csv', index_col = 0).T\n",
    "RegisterTargets = RegisterTargets.loc[RegisterTargets.Algorithm == 7] # filter by algorithm\n",
    "RegisterTargets = RegisterTargets.drop(['Algorithm', 'Ratio1', 'Attack1', 'Decay1', 'Sustain1',\n",
    "                        'Ratio2', 'Attack2', 'Decay2', 'Sustain2',\n",
    "                        'Ratio3', 'Attack3', 'Decay3', 'Sustain3',\n",
    "                        'Ratio4', 'Attack4', 'Decay4', 'Sustain4'], axis = 'columns') # Not needed here.\n",
    "print(len(RegisterTargets),'patches created with algorithm 7 found.')\n",
    "\n",
    "#SpectrumFeatures = pd.read_csv('SampleSpectra.csv', index_col = 0).loc[RegisterTargets.index] # Trying dBs for now.\n",
    "#print(SpectrumFeatures.head())\n",
    "\n",
    "if used_raw_data:\n",
    "    WavFeatures = pd.read_csv('PcaReducedWav.csv', index_col = 0).loc[RegisterTargets.index]\n",
    "    #print(WavFeatures.head())\n",
    "    # Should combine SpectrumFeatures with WavFeatures to make one big feature array.\n",
    "    Features = SpectrumFeatures.join(WavFeatures)\n",
    "\n",
    "#print('Register data for patches:')\n",
    "#print(RegisterTargets.head())\n",
    "#print('Feature data (frequency multiple amplitudes and PCA-reduced data) for patches:')\n",
    "#print(Features.head())"
   ]
  },
  {
   "cell_type": "markdown",
   "metadata": {},
   "source": [
    "TRAINING AN ESTIMATOR MODEL"
   ]
  },
  {
   "cell_type": "code",
   "execution_count": 3,
   "metadata": {},
   "outputs": [
    {
     "name": "stdout",
     "output_type": "stream",
     "text": [
      "[-6.13680145e+00  2.12331397e+01  1.12052298e+01 -8.47762943e+00\n",
      " -1.60953251e+01 -2.72292366e+01 -3.07423799e+01 -3.15654074e+01\n",
      " -2.70938598e+01 -3.03187354e+01 -2.80391258e+01 -3.23866879e+01\n",
      " -3.57411729e+01 -3.78762370e+01 -3.92524898e+01 -4.10550396e+01\n",
      " -4.21225654e+01 -4.54594141e+01 -4.33877405e+01 -4.41984576e+01\n",
      "  4.61154619e+04  5.36191007e+04 -5.23138112e+02  2.29247090e+04\n",
      "  2.66074887e+04 -2.96259108e+03  1.98822613e+04 -8.13982487e+03\n",
      " -3.01927284e+03  1.61927192e+04 -1.97006031e+04 -8.22352835e+03\n",
      " -8.85503055e+03  4.11727483e+02  4.07796951e+03 -5.04914564e+03\n",
      "  1.77838870e+03 -1.48229187e+03 -2.04124798e+03  1.32328612e+03\n",
      " -8.99750566e+03 -1.80739857e+03  1.53847285e+03 -4.04891449e+03\n",
      " -3.23221750e+03 -5.75909638e+03  2.43062403e+03  3.30298931e+03\n",
      " -1.37364956e+03  1.91845194e+03 -4.75923948e+03  2.17952461e+03\n",
      "  1.65974853e+02 -1.20860465e+03  4.87163410e+02 -7.85418732e+03\n",
      " -4.67340720e+03  3.40457916e+03  4.39521629e+03  1.96409254e+03\n",
      "  4.87283897e+03  2.86040441e+03 -1.24162453e+03  5.51521026e+03\n",
      "  3.42338889e+03 -1.52597054e+03 -1.07521968e+03 -2.21405568e+03\n",
      "  2.41181592e+03 -6.82989497e+03 -5.95513910e+02 -9.11148655e+02\n",
      " -2.41196342e+03 -9.24533872e+02  3.71529187e+03  3.87216642e+02\n",
      " -1.62213186e+03 -1.66151543e+02 -2.00916646e+03  2.40273382e+03\n",
      "  1.70290192e+03  1.69948436e+03  6.96339440e+02  1.30863098e+03]\n",
      "[1.82016537e+01 1.47624815e+01 1.41260576e+01 1.80786076e+01\n",
      " 2.13796663e+01 1.79235035e+01 1.84555341e+01 1.87047359e+01\n",
      " 2.53159836e+01 1.95097140e+01 1.88623779e+01 1.89696127e+01\n",
      " 1.76793684e+01 1.67219906e+01 1.66022672e+01 1.66595766e+01\n",
      " 1.69640645e+01 1.97126259e+01 1.69031942e+01 1.70132128e+01\n",
      " 1.06785992e+05 6.79639761e+04 3.72103773e+04 4.02631957e+04\n",
      " 3.69709770e+04 5.32870891e+04 3.38930804e+04 2.62792246e+04\n",
      " 2.51437961e+04 2.93202560e+04 2.05697537e+04 8.81700868e+03\n",
      " 1.09625841e+04 9.88211741e+03 6.50115271e+03 9.15301337e+03\n",
      " 3.71928717e+03 8.29559444e+03 4.63819769e+03 7.30363306e+03\n",
      " 9.26783137e+03 3.74845623e+03 7.34366769e+03 4.56904355e+03\n",
      " 7.39329849e+03 8.61327956e+03 1.07363857e+04 1.02996088e+04\n",
      " 9.67603182e+03 4.36719746e+03 6.83345244e+03 6.79269669e+03\n",
      " 3.75332372e+03 4.70399396e+03 7.43405589e+03 9.65344865e+03\n",
      " 9.02644005e+03 4.00976252e+03 8.36812735e+03 6.44645778e+03\n",
      " 7.27843186e+03 6.63633595e+03 4.15753602e+03 5.88290000e+03\n",
      " 4.12842570e+03 4.76526179e+03 6.94665618e+03 4.15383884e+03\n",
      " 7.05215719e+03 5.49486329e+03 6.82795719e+03 6.04361724e+03\n",
      " 3.78256159e+03 7.14638297e+03 7.13531794e+03 6.98811523e+03\n",
      " 6.34926642e+03 5.83953906e+03 4.20858492e+03 1.89050905e+03\n",
      " 3.63849810e+03 5.80311549e+03 1.93164588e+03 3.14372763e+03]\n"
     ]
    },
    {
     "data": {
      "text/plain": [
       "MLPRegressor(alpha=1e-05, hidden_layer_sizes=(50, 50), max_iter=10000,\n",
       "             random_state=1, solver='lbfgs')"
      ]
     },
     "execution_count": 3,
     "metadata": {},
     "output_type": "execute_result"
    }
   ],
   "source": []
  }
 ],
 "metadata": {
  "kernelspec": {
   "display_name": "Python 3",
   "language": "python",
   "name": "python3"
  },
  "language_info": {
   "codemirror_mode": {
    "name": "ipython",
    "version": 3
   },
   "file_extension": ".py",
   "mimetype": "text/x-python",
   "name": "python",
   "nbconvert_exporter": "python",
   "pygments_lexer": "ipython3",
   "version": "3.6.13"
  }
 },
 "nbformat": 4,
 "nbformat_minor": 4
}
