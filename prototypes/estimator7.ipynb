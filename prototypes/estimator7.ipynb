{
 "cells": [
  {
   "cell_type": "code",
   "execution_count": 9,
   "id": "4a632a22",
   "metadata": {},
   "outputs": [],
   "source": [
    "%matplotlib inline\n",
    "import matplotlib.pyplot as plt\n",
    "import numpy as np\n",
    "import os\n",
    "import pandas as pd\n",
    "import pickle as pk\n",
    "from scipy import signal\n",
    "from scipy.fft import fft\n",
    "from scipy.io import wavfile\n",
    "from sklearn.decomposition import PCA\n",
    "from tensorflow.keras.models import Sequential, model_from_json\n",
    "from tensorflow.keras.layers import Dense"
   ]
  },
  {
   "cell_type": "code",
   "execution_count": 2,
   "id": "1b79b373",
   "metadata": {},
   "outputs": [
    {
     "name": "stdout",
     "output_type": "stream",
     "text": [
      "(129, 629)\n",
      "[[0.00000000e+00 1.55585244e-01 1.81718200e-01 ... 8.99606268e-04\n",
      "  8.02877173e-02 2.02669809e-03]\n",
      " [0.00000000e+00 8.00703144e+00 2.09357796e+01 ... 4.88406159e-02\n",
      "  8.58555734e-02 6.00516945e-02]\n",
      " [0.00000000e+00 2.85619259e+00 1.27686515e-01 ... 8.97714272e-02\n",
      "  1.25067025e-01 9.98934805e-02]\n",
      " ...\n",
      " [0.00000000e+00 2.53151283e-02 1.42200617e-02 ... 1.06383217e-02\n",
      "  9.96040367e-03 2.35173688e-03]\n",
      " [0.00000000e+00 3.11196735e-03 5.33555867e-03 ... 2.73474921e-02\n",
      "  5.46379723e-02 6.24794513e-04]\n",
      " [0.00000000e+00 2.56702118e-02 3.49003181e-04 ... 5.64306974e-03\n",
      "  1.42797595e-02 1.19449082e-03]]\n",
      "(1, 222261)\n"
     ]
    },
    {
     "data": {
      "text/plain": [
       "array([[0.0000000e+00, 1.5558524e-01, 1.8171820e-01, ..., 7.1500000e+02,\n",
       "        7.1500000e+02, 7.1500000e+02]], dtype=float32)"
      ]
     },
     "execution_count": 2,
     "metadata": {},
     "output_type": "execute_result"
    }
   ],
   "source": [
    "# Load sample\n",
    "SampleName = \"sample7.wav\" # Audio File\n",
    "SampleRate, Audiodata = wavfile.read(SampleName)\n",
    "\n",
    "Audiodata = Audiodata[0:141120] # Want to exactly match the length of the WAVs used to train."
   ]
  },
  {
   "cell_type": "code",
   "execution_count": 12,
   "id": "4232778a",
   "metadata": {},
   "outputs": [
    {
     "name": "stdout",
     "output_type": "stream",
     "text": [
      "(129, 629)\n",
      "[[0.00000000e+00 1.55585244e-01 1.81718200e-01 ... 8.99606268e-04\n",
      "  8.02877173e-02 2.02669809e-03]\n",
      " [0.00000000e+00 8.00703144e+00 2.09357796e+01 ... 4.88406159e-02\n",
      "  8.58555734e-02 6.00516945e-02]\n",
      " [0.00000000e+00 2.85619259e+00 1.27686515e-01 ... 8.97714272e-02\n",
      "  1.25067025e-01 9.98934805e-02]\n",
      " ...\n",
      " [0.00000000e+00 2.53151283e-02 1.42200617e-02 ... 1.06383217e-02\n",
      "  9.96040367e-03 2.35173688e-03]\n",
      " [0.00000000e+00 3.11196735e-03 5.33555867e-03 ... 2.73474921e-02\n",
      "  5.46379723e-02 6.24794513e-04]\n",
      " [0.00000000e+00 2.56702118e-02 3.49003181e-04 ... 5.64306974e-03\n",
      "  1.42797595e-02 1.19449082e-03]]\n",
      "-973\n",
      "(1, 222261)\n"
     ]
    },
    {
     "data": {
      "text/plain": [
       "array([[0.0000000e+00, 1.5558524e-01, 1.8171820e-01, ..., 7.1500000e+02,\n",
       "        7.1500000e+02, 7.1500000e+02]], dtype=float32)"
      ]
     },
     "execution_count": 12,
     "metadata": {},
     "output_type": "execute_result"
    },
    {
     "data": {
      "image/png": "[encoded data removed]",
      "text/plain": [
       "<Figure size 640x480 with 1 Axes>"
      ]
     },
     "metadata": {},
     "output_type": "display_data"
    }
   ],
   "source": [
    "# Run spectral analysis\n",
    "frequencies, times, spectrogram = signal.spectrogram(Audiodata, SampleRate)\n",
    "del frequencies\n",
    "del times\n",
    "print(np.shape(spectrogram))\n",
    "print(spectrogram)\n",
    "\n",
    "SampleFeatures = np.append(spectrogram.flatten(), Audiodata).reshape(1,-1)\n",
    "\n",
    "plt.plot(Audiodata)\n",
    "\n",
    "print(np.shape(SampleFeatures))\n",
    "SampleFeatures"
   ]
  },
  {
   "cell_type": "code",
   "execution_count": 3,
   "id": "6d255ea0",
   "metadata": {},
   "outputs": [
    {
     "name": "stdout",
     "output_type": "stream",
     "text": [
      "Loaded PCA from disk\n",
      "(1, 200)\n"
     ]
    },
    {
     "name": "stderr",
     "output_type": "stream",
     "text": [
      "/home/jacob/anaconda3/envs/tf-gpu/lib/python3.10/site-packages/sklearn/base.py:409: UserWarning: X does not have valid feature names, but PCA was fitted with feature names\n",
      "  warnings.warn(\n"
     ]
    },
    {
     "data": {
      "text/plain": [
       "array([[-1.87966661e+05, -1.60550317e+05, -1.00268160e+04,\n",
       "        -8.52193614e+04, -3.38568730e+04,  1.44953785e+04,\n",
       "         7.23717197e+03,  3.96211942e+02,  1.02899310e+04,\n",
       "         2.12462329e+04, -3.87659366e+04, -1.63944371e+04,\n",
       "        -3.32330634e+04, -1.11389671e+04, -4.95465803e+04,\n",
       "        -1.15522825e+04,  4.30491302e+04,  2.14096450e+04,\n",
       "        -1.86634735e+04,  2.77752980e+04,  2.85483961e+04,\n",
       "        -2.94110242e+04,  1.12822590e+04, -7.71017037e+02,\n",
       "        -2.23653671e+04,  9.31654542e+02, -2.18587908e+04,\n",
       "         3.02056069e+04, -2.63575878e+04,  2.47450586e+04,\n",
       "         2.33220860e+04,  1.65341127e+04,  2.37404479e+04,\n",
       "        -7.47432557e+03, -4.92494815e+04,  1.01416297e+04,\n",
       "         2.29770815e+03, -1.25598255e+04,  2.55310184e+04,\n",
       "         1.26169121e+04, -1.89891951e+04, -6.21428638e+03,\n",
       "         6.67281733e+03, -9.02545357e+03, -2.44280456e+04,\n",
       "        -1.23954884e+04, -1.91225859e+03,  3.60512865e+03,\n",
       "         1.65181543e+04, -1.92278342e+04, -1.76336104e+03,\n",
       "         3.67324212e+03, -7.52793468e+02,  2.34513291e+03,\n",
       "        -2.79943259e+04,  7.45590499e+03, -1.60709886e+04,\n",
       "         3.37183514e+04, -3.21102973e+04, -3.19618936e+03,\n",
       "         4.11961330e+03, -2.34886493e+04, -8.54049467e+03,\n",
       "         5.06641494e+03,  1.98793558e+03,  8.28148081e+03,\n",
       "         9.04711892e+03, -1.13893319e+04,  1.64757156e+04,\n",
       "         3.67957180e+03,  2.11795328e+04, -1.42154845e+03,\n",
       "        -6.41557298e+03,  2.25975755e+03,  2.21713644e+03,\n",
       "        -2.96274636e+04, -1.11900162e+04, -2.40986147e+04,\n",
       "         2.27417935e+04, -1.16367272e+04, -4.71907222e+03,\n",
       "        -1.83264558e+04,  4.34487619e+03,  5.06240428e+03,\n",
       "        -2.10605426e+04, -1.22655891e+04,  5.64498927e+03,\n",
       "        -5.45285229e+03,  4.26821027e+03, -4.16654098e+03,\n",
       "        -4.84690324e+02, -4.32704890e+03, -3.56722361e+03,\n",
       "         7.83092876e+02, -2.18141065e+03,  5.77877544e+03,\n",
       "        -1.83058412e+03,  3.17670535e+03, -7.39785730e+02,\n",
       "         8.06201026e+01, -1.42650369e+02, -2.27294942e+02,\n",
       "         1.02198637e+03,  1.74348435e+02,  6.75694239e+02,\n",
       "         1.66920178e+03,  1.25391987e+02,  1.90109910e+02,\n",
       "         4.39301344e+01, -4.87639207e+02,  9.58391130e+02,\n",
       "        -1.02075257e+03,  1.55077992e+02, -1.34994724e+03,\n",
       "         4.11935426e+02, -6.91293783e+02, -1.16550907e+03,\n",
       "         3.25373160e+02,  5.80942798e+02,  6.00840602e+02,\n",
       "         1.90844292e+02,  8.14264311e+02, -1.49100585e+02,\n",
       "        -2.94879127e+02,  3.49701899e+01,  3.31471859e+01,\n",
       "        -7.25425338e+01,  1.29000918e+02,  1.58308113e+02,\n",
       "         3.98457420e+02,  3.01516509e+01, -1.20970281e+02,\n",
       "         1.88685492e+02,  4.10265000e+02,  9.35532291e+01,\n",
       "        -2.07045978e+02,  3.49705745e+02, -2.72901556e+02,\n",
       "         1.70411867e+02,  3.39120344e+02, -1.05870072e+02,\n",
       "        -9.50323908e+02,  1.41767781e+02,  3.77002976e+02,\n",
       "        -1.42976019e+02,  2.26484928e+02,  2.00698117e+02,\n",
       "         1.07310697e+01, -1.02140982e+02,  3.51502102e+01,\n",
       "        -8.73569492e+01,  9.96067501e+01, -5.25249835e+01,\n",
       "        -1.72976938e+02,  3.63346387e+02,  2.29307836e+01,\n",
       "        -1.21967603e+02, -1.58186521e+02,  1.77136670e+02,\n",
       "        -2.66899229e+02, -8.92675588e+02, -3.33856670e+02,\n",
       "        -1.15449467e+03,  3.56197625e+03,  2.00167390e+02,\n",
       "         4.26503450e+02,  9.02769447e+01, -7.38880764e+01,\n",
       "        -1.66796411e+02,  3.18115705e+01,  1.32196061e+02,\n",
       "         3.88673217e+02,  4.37870527e+01,  8.57940227e+01,\n",
       "        -5.09433507e+01,  2.55984062e+01, -3.11647243e+00,\n",
       "         3.67603010e+00,  2.72620952e+01,  3.09455204e+01,\n",
       "         2.11592100e+01,  2.78449955e+00,  1.41514508e+00,\n",
       "         3.35213736e+01, -3.60144517e+00,  1.00288508e-01,\n",
       "        -8.17324745e+00,  2.26280874e+01,  8.97200083e+00,\n",
       "         9.32353004e+00, -2.90785400e+00, -2.59919361e+00,\n",
       "         7.77060244e+00,  1.18294327e+00,  2.65583341e+00,\n",
       "         2.47080558e+01, -3.11857067e+00,  8.41610684e-01,\n",
       "        -5.74507062e+00, -9.97173379e-01]])"
      ]
     },
     "execution_count": 3,
     "metadata": {},
     "output_type": "execute_result"
    }
   ],
   "source": [
    "# Insert scaler here.\n",
    "\n",
    "\n",
    "# Load PCA model.\n",
    "os.chdir('..')\n",
    "os.chdir('./models/')\n",
    "pca = pk.load(open('pca7.pkl','rb'))\n",
    "print(\"Loaded PCA from disk\")\n",
    "ReducedFeatures = pca.transform(SampleFeatures)\n",
    "del SampleFeatures\n",
    "del pca\n",
    "del spectrogram\n",
    "\n",
    "print(np.shape(ReducedFeatures))\n",
    "ReducedFeatures"
   ]
  },
  {
   "cell_type": "code",
   "execution_count": 4,
   "id": "335d948a",
   "metadata": {},
   "outputs": [
    {
     "name": "stderr",
     "output_type": "stream",
     "text": [
      "2023-02-17 18:29:46.660592: I tensorflow/compiler/xla/stream_executor/rocm/rocm_gpu_executor.cc:843] successful NUMA node read from SysFS had negative value (-1), but there must be at least one NUMA node, so returning NUMA node zero\n",
      "2023-02-17 18:29:46.722229: I tensorflow/compiler/xla/stream_executor/rocm/rocm_gpu_executor.cc:843] successful NUMA node read from SysFS had negative value (-1), but there must be at least one NUMA node, so returning NUMA node zero\n",
      "2023-02-17 18:29:46.722379: I tensorflow/compiler/xla/stream_executor/rocm/rocm_gpu_executor.cc:843] successful NUMA node read from SysFS had negative value (-1), but there must be at least one NUMA node, so returning NUMA node zero\n",
      "2023-02-17 18:29:46.722433: I tensorflow/core/common_runtime/gpu/gpu_device.cc:1990] Ignoring visible gpu device (device: 0, name: Radeon RX 570 Series, pci bus id: 0000:09:00.0) with AMDGPU version : gfx803. The supported AMDGPU versions are gfx1030, gfx900, gfx906, gfx908, gfx90a.\n",
      "2023-02-17 18:29:46.722909: I tensorflow/core/platform/cpu_feature_guard.cc:193] This TensorFlow binary is optimized with oneAPI Deep Neural Network Library (oneDNN) to use the following CPU instructions in performance-critical operations:  SSE3 SSE4.1 SSE4.2 AVX AVX2 FMA\n",
      "To enable them in other operations, rebuild TensorFlow with the appropriate compiler flags.\n",
      "2023-02-17 18:29:46.736755: I tensorflow/core/common_runtime/gpu_fusion_pass.cc:507] ROCm Fusion is enabled.\n",
      "2023-02-17 18:29:46.737939: I tensorflow/core/common_runtime/gpu_fusion_pass.cc:507] ROCm Fusion is enabled.\n",
      "2023-02-17 18:29:46.738584: I tensorflow/core/common_runtime/gpu_fusion_pass.cc:507] ROCm Fusion is enabled.\n",
      "2023-02-17 18:29:46.747251: I tensorflow/core/common_runtime/gpu_fusion_pass.cc:507] ROCm Fusion is enabled.\n",
      "2023-02-17 18:29:46.747842: I tensorflow/core/common_runtime/gpu_fusion_pass.cc:507] ROCm Fusion is enabled.\n",
      "2023-02-17 18:29:46.751451: I tensorflow/core/common_runtime/gpu_fusion_pass.cc:507] ROCm Fusion is enabled.\n",
      "2023-02-17 18:29:46.752133: I tensorflow/core/common_runtime/gpu_fusion_pass.cc:507] ROCm Fusion is enabled.\n",
      "2023-02-17 18:29:46.753204: I tensorflow/core/common_runtime/gpu_fusion_pass.cc:507] ROCm Fusion is enabled.\n",
      "2023-02-17 18:29:46.753799: I tensorflow/core/common_runtime/gpu_fusion_pass.cc:507] ROCm Fusion is enabled.\n",
      "2023-02-17 18:29:46.754368: I tensorflow/core/common_runtime/gpu_fusion_pass.cc:507] ROCm Fusion is enabled.\n",
      "2023-02-17 18:29:46.754930: I tensorflow/core/common_runtime/gpu_fusion_pass.cc:507] ROCm Fusion is enabled.\n",
      "2023-02-17 18:29:46.755500: I tensorflow/core/common_runtime/gpu_fusion_pass.cc:507] ROCm Fusion is enabled.\n",
      "2023-02-17 18:29:46.756709: I tensorflow/core/common_runtime/gpu_fusion_pass.cc:507] ROCm Fusion is enabled.\n",
      "2023-02-17 18:29:46.757238: I tensorflow/core/common_runtime/gpu_fusion_pass.cc:507] ROCm Fusion is enabled.\n",
      "2023-02-17 18:29:46.757763: I tensorflow/core/common_runtime/gpu_fusion_pass.cc:507] ROCm Fusion is enabled.\n",
      "2023-02-17 18:29:46.764455: I tensorflow/core/common_runtime/gpu_fusion_pass.cc:507] ROCm Fusion is enabled.\n",
      "2023-02-17 18:29:46.765148: I tensorflow/core/common_runtime/gpu_fusion_pass.cc:507] ROCm Fusion is enabled.\n",
      "2023-02-17 18:29:46.766239: I tensorflow/core/common_runtime/gpu_fusion_pass.cc:507] ROCm Fusion is enabled.\n",
      "2023-02-17 18:29:46.766850: I tensorflow/core/common_runtime/gpu_fusion_pass.cc:507] ROCm Fusion is enabled.\n",
      "2023-02-17 18:29:46.772865: I tensorflow/core/common_runtime/gpu_fusion_pass.cc:507] ROCm Fusion is enabled.\n",
      "2023-02-17 18:29:46.773486: I tensorflow/core/common_runtime/gpu_fusion_pass.cc:507] ROCm Fusion is enabled.\n",
      "2023-02-17 18:29:46.774374: I tensorflow/core/common_runtime/gpu_fusion_pass.cc:507] ROCm Fusion is enabled.\n",
      "2023-02-17 18:29:46.774896: I tensorflow/core/common_runtime/gpu_fusion_pass.cc:507] ROCm Fusion is enabled.\n",
      "2023-02-17 18:29:46.780881: I tensorflow/core/common_runtime/gpu_fusion_pass.cc:507] ROCm Fusion is enabled.\n",
      "2023-02-17 18:29:46.781499: I tensorflow/core/common_runtime/gpu_fusion_pass.cc:507] ROCm Fusion is enabled.\n",
      "2023-02-17 18:29:46.782383: I tensorflow/core/common_runtime/gpu_fusion_pass.cc:507] ROCm Fusion is enabled.\n",
      "2023-02-17 18:29:46.782907: I tensorflow/core/common_runtime/gpu_fusion_pass.cc:507] ROCm Fusion is enabled.\n",
      "2023-02-17 18:29:46.788656: I tensorflow/core/common_runtime/gpu_fusion_pass.cc:507] ROCm Fusion is enabled.\n",
      "2023-02-17 18:29:46.789251: I tensorflow/core/common_runtime/gpu_fusion_pass.cc:507] ROCm Fusion is enabled.\n",
      "2023-02-17 18:29:46.790143: I tensorflow/core/common_runtime/gpu_fusion_pass.cc:507] ROCm Fusion is enabled.\n",
      "2023-02-17 18:29:46.790677: I tensorflow/core/common_runtime/gpu_fusion_pass.cc:507] ROCm Fusion is enabled.\n",
      "2023-02-17 18:29:46.796559: I tensorflow/core/common_runtime/gpu_fusion_pass.cc:507] ROCm Fusion is enabled.\n",
      "2023-02-17 18:29:46.797241: I tensorflow/core/common_runtime/gpu_fusion_pass.cc:507] ROCm Fusion is enabled.\n",
      "2023-02-17 18:29:46.798248: I tensorflow/core/common_runtime/gpu_fusion_pass.cc:507] ROCm Fusion is enabled.\n",
      "2023-02-17 18:29:46.798785: I tensorflow/core/common_runtime/gpu_fusion_pass.cc:507] ROCm Fusion is enabled.\n",
      "2023-02-17 18:29:46.805116: I tensorflow/core/common_runtime/gpu_fusion_pass.cc:507] ROCm Fusion is enabled.\n",
      "2023-02-17 18:29:46.805733: I tensorflow/core/common_runtime/gpu_fusion_pass.cc:507] ROCm Fusion is enabled.\n",
      "2023-02-17 18:29:46.806602: I tensorflow/core/common_runtime/gpu_fusion_pass.cc:507] ROCm Fusion is enabled.\n",
      "2023-02-17 18:29:46.807122: I tensorflow/core/common_runtime/gpu_fusion_pass.cc:507] ROCm Fusion is enabled.\n",
      "2023-02-17 18:29:46.812925: I tensorflow/core/common_runtime/gpu_fusion_pass.cc:507] ROCm Fusion is enabled.\n",
      "2023-02-17 18:29:46.813533: I tensorflow/core/common_runtime/gpu_fusion_pass.cc:507] ROCm Fusion is enabled.\n",
      "2023-02-17 18:29:46.814401: I tensorflow/core/common_runtime/gpu_fusion_pass.cc:507] ROCm Fusion is enabled.\n",
      "2023-02-17 18:29:46.814927: I tensorflow/core/common_runtime/gpu_fusion_pass.cc:507] ROCm Fusion is enabled.\n",
      "2023-02-17 18:29:46.820732: I tensorflow/core/common_runtime/gpu_fusion_pass.cc:507] ROCm Fusion is enabled.\n",
      "2023-02-17 18:29:46.821330: I tensorflow/core/common_runtime/gpu_fusion_pass.cc:507] ROCm Fusion is enabled.\n",
      "2023-02-17 18:29:46.822220: I tensorflow/core/common_runtime/gpu_fusion_pass.cc:507] ROCm Fusion is enabled.\n",
      "2023-02-17 18:29:46.822754: I tensorflow/core/common_runtime/gpu_fusion_pass.cc:507] ROCm Fusion is enabled.\n",
      "2023-02-17 18:29:46.829041: I tensorflow/core/common_runtime/gpu_fusion_pass.cc:507] ROCm Fusion is enabled.\n",
      "2023-02-17 18:29:46.829669: I tensorflow/core/common_runtime/gpu_fusion_pass.cc:507] ROCm Fusion is enabled.\n",
      "2023-02-17 18:29:46.830565: I tensorflow/core/common_runtime/gpu_fusion_pass.cc:507] ROCm Fusion is enabled.\n",
      "2023-02-17 18:29:46.831095: I tensorflow/core/common_runtime/gpu_fusion_pass.cc:507] ROCm Fusion is enabled.\n",
      "2023-02-17 18:29:46.842427: I tensorflow/core/common_runtime/gpu_fusion_pass.cc:507] ROCm Fusion is enabled.\n",
      "2023-02-17 18:29:46.843162: I tensorflow/core/common_runtime/gpu_fusion_pass.cc:507] ROCm Fusion is enabled.\n",
      "2023-02-17 18:29:46.843814: I tensorflow/core/common_runtime/gpu_fusion_pass.cc:507] ROCm Fusion is enabled.\n",
      "2023-02-17 18:29:46.844395: I tensorflow/core/common_runtime/gpu_fusion_pass.cc:507] ROCm Fusion is enabled.\n",
      "2023-02-17 18:29:46.844987: I tensorflow/core/common_runtime/gpu_fusion_pass.cc:507] ROCm Fusion is enabled.\n",
      "2023-02-17 18:29:46.845619: I tensorflow/core/common_runtime/gpu_fusion_pass.cc:507] ROCm Fusion is enabled.\n",
      "2023-02-17 18:29:46.846282: I tensorflow/core/common_runtime/gpu_fusion_pass.cc:507] ROCm Fusion is enabled.\n",
      "2023-02-17 18:29:46.846898: I tensorflow/core/common_runtime/gpu_fusion_pass.cc:507] ROCm Fusion is enabled.\n",
      "2023-02-17 18:29:46.847572: I tensorflow/core/common_runtime/gpu_fusion_pass.cc:507] ROCm Fusion is enabled.\n",
      "2023-02-17 18:29:46.848208: I tensorflow/core/common_runtime/gpu_fusion_pass.cc:507] ROCm Fusion is enabled.\n",
      "2023-02-17 18:29:46.848833: I tensorflow/core/common_runtime/gpu_fusion_pass.cc:507] ROCm Fusion is enabled.\n",
      "2023-02-17 18:29:46.849460: I tensorflow/core/common_runtime/gpu_fusion_pass.cc:507] ROCm Fusion is enabled.\n",
      "2023-02-17 18:29:46.850080: I tensorflow/core/common_runtime/gpu_fusion_pass.cc:507] ROCm Fusion is enabled.\n",
      "2023-02-17 18:29:46.850691: I tensorflow/core/common_runtime/gpu_fusion_pass.cc:507] ROCm Fusion is enabled.\n",
      "2023-02-17 18:29:46.851304: I tensorflow/core/common_runtime/gpu_fusion_pass.cc:507] ROCm Fusion is enabled.\n",
      "2023-02-17 18:29:46.851911: I tensorflow/core/common_runtime/gpu_fusion_pass.cc:507] ROCm Fusion is enabled.\n",
      "2023-02-17 18:29:46.852530: I tensorflow/core/common_runtime/gpu_fusion_pass.cc:507] ROCm Fusion is enabled.\n",
      "2023-02-17 18:29:46.853143: I tensorflow/core/common_runtime/gpu_fusion_pass.cc:507] ROCm Fusion is enabled.\n",
      "2023-02-17 18:29:46.853772: I tensorflow/core/common_runtime/gpu_fusion_pass.cc:507] ROCm Fusion is enabled.\n",
      "2023-02-17 18:29:46.854390: I tensorflow/core/common_runtime/gpu_fusion_pass.cc:507] ROCm Fusion is enabled.\n",
      "2023-02-17 18:29:46.855705: I tensorflow/core/common_runtime/gpu_fusion_pass.cc:507] ROCm Fusion is enabled.\n",
      "2023-02-17 18:29:46.856301: I tensorflow/core/common_runtime/gpu_fusion_pass.cc:507] ROCm Fusion is enabled.\n",
      "2023-02-17 18:29:46.858449: I tensorflow/core/common_runtime/gpu_fusion_pass.cc:507] ROCm Fusion is enabled.\n",
      "2023-02-17 18:29:46.859774: I tensorflow/core/common_runtime/gpu_fusion_pass.cc:507] ROCm Fusion is enabled.\n",
      "2023-02-17 18:29:46.866524: I tensorflow/core/common_runtime/gpu_fusion_pass.cc:507] ROCm Fusion is enabled.\n",
      "2023-02-17 18:29:46.867551: I tensorflow/core/common_runtime/gpu_fusion_pass.cc:507] ROCm Fusion is enabled.\n",
      "2023-02-17 18:29:46.876291: I tensorflow/core/common_runtime/gpu_fusion_pass.cc:507] ROCm Fusion is enabled.\n",
      "2023-02-17 18:29:46.877467: I tensorflow/core/common_runtime/gpu_fusion_pass.cc:507] ROCm Fusion is enabled.\n",
      "2023-02-17 18:29:46.878096: I tensorflow/core/common_runtime/gpu_fusion_pass.cc:507] ROCm Fusion is enabled.\n",
      "2023-02-17 18:29:46.878971: I tensorflow/core/common_runtime/gpu_fusion_pass.cc:507] ROCm Fusion is enabled.\n",
      "2023-02-17 18:29:46.883729: I tensorflow/core/common_runtime/gpu_fusion_pass.cc:507] ROCm Fusion is enabled.\n",
      "2023-02-17 18:29:46.884786: I tensorflow/core/common_runtime/gpu_fusion_pass.cc:507] ROCm Fusion is enabled.\n",
      "2023-02-17 18:29:46.885568: I tensorflow/core/common_runtime/gpu_fusion_pass.cc:507] ROCm Fusion is enabled.\n",
      "2023-02-17 18:29:46.886333: I tensorflow/core/common_runtime/gpu_fusion_pass.cc:507] ROCm Fusion is enabled.\n",
      "2023-02-17 18:29:46.886861: I tensorflow/core/common_runtime/gpu_fusion_pass.cc:507] ROCm Fusion is enabled.\n",
      "2023-02-17 18:29:46.890107: I tensorflow/core/common_runtime/gpu_fusion_pass.cc:507] ROCm Fusion is enabled.\n",
      "2023-02-17 18:29:46.891127: I tensorflow/core/common_runtime/gpu_fusion_pass.cc:507] ROCm Fusion is enabled.\n",
      "2023-02-17 18:29:46.891624: I tensorflow/core/common_runtime/gpu_fusion_pass.cc:507] ROCm Fusion is enabled.\n",
      "2023-02-17 18:29:46.895530: I tensorflow/core/common_runtime/gpu_fusion_pass.cc:507] ROCm Fusion is enabled.\n",
      "2023-02-17 18:29:46.899984: I tensorflow/core/common_runtime/gpu_fusion_pass.cc:507] ROCm Fusion is enabled.\n",
      "2023-02-17 18:29:46.902967: I tensorflow/core/common_runtime/gpu_fusion_pass.cc:507] ROCm Fusion is enabled.\n"
     ]
    },
    {
     "name": "stdout",
     "output_type": "stream",
     "text": [
      "Loaded model from disk\n",
      "1/1 [==============================] - 0s 84ms/step\n",
      "Predicted registers: \n"
     ]
    },
    {
     "name": "stderr",
     "output_type": "stream",
     "text": [
      "2023-02-17 18:29:46.970916: I tensorflow/core/common_runtime/gpu_fusion_pass.cc:507] ROCm Fusion is enabled.\n"
     ]
    },
    {
     "data": {
      "text/plain": [
       "array([[0., 0., 0., 0., 0., 0., 0., 0., 0., 0., 0., 0., 0., 0., 0., 0.,\n",
       "        0., 0., 0., 0., 0., 0., 0., 0., 0., 0., 0., 0., 0., 0., 0., 0.,\n",
       "        0., 0., 0., 0., 0.]], dtype=float32)"
      ]
     },
     "execution_count": 4,
     "metadata": {},
     "output_type": "execute_result"
    }
   ],
   "source": [
    "# Load NN model.\n",
    "json_file = open('model7.json', 'r')\n",
    "loaded_model_json = json_file.read()\n",
    "json_file.close()\n",
    "model7 = model_from_json(loaded_model_json)\n",
    "# load weights into new model\n",
    "model7.load_weights(\"model7.h5\")\n",
    "print(\"Loaded model from disk\")\n",
    " \n",
    "#model7.compile(loss='mean_square_error', optimizer='adam', metrics=['mean_square_error'])\n",
    "\n",
    "predictions = model7.predict(ReducedFeatures)\n",
    "\n",
    "print('Predicted registers: ')\n",
    "predictions"
   ]
  }
 ],
 "metadata": {
  "kernelspec": {
   "display_name": "Python 3 (ipykernel)",
   "language": "python",
   "name": "python3"
  },
  "language_info": {
   "codemirror_mode": {
    "name": "ipython",
    "version": 3
   },
   "file_extension": ".py",
   "mimetype": "text/x-python",
   "name": "python",
   "nbconvert_exporter": "python",
   "pygments_lexer": "ipython3",
   "version": "3.10.9"
  }
 },
 "nbformat": 4,
 "nbformat_minor": 5
}
