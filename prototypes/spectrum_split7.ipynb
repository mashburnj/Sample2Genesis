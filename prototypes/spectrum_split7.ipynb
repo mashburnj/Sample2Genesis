{
 "cells": [
  {
   "cell_type": "markdown",
   "metadata": {},
   "source": [
    "# Spectral data splitter"
   ]
  },
  {
   "cell_type": "code",
   "execution_count": 1,
   "metadata": {},
   "outputs": [],
   "source": [
    "import os\n",
    "import numpy as np\n",
    "import pandas as pd"
   ]
  },
  {
   "cell_type": "markdown",
   "metadata": {},
   "source": [
    "SETUP"
   ]
  },
  {
   "cell_type": "code",
   "execution_count": 15,
   "metadata": {},
   "outputs": [
    {
     "name": "stdout",
     "output_type": "stream",
     "text": [
      "591 patches created with algorithm 0 found.\n"
     ]
    }
   ],
   "source": [
    "os.chdir('..')\n",
    "os.chdir('./data/')\n",
    "chunksize = 400 # rows\n",
    "\n",
    "RegisterTargets = pd.read_csv('SampleRegisters7.csv', index_col = 0)\n",
    "names = RegisterTargets.index\n",
    "del RegisterTargets\n",
    "print(len(names),'patches created with algorithm 7 found.')\n",
    "df = pd.DataFrame()\n",
    "for chunk in pd.read_csv('SampleSpectra.csv', index_col = 0, chunksize = chunksize):\n",
    "    indexset = set(chunk.index)\n",
    "    namestemp = [i for i in names if i in indexset]\n",
    "    temporary = chunk.loc[namestemp]\n",
    "    df = pd.concat([df,temporary])\n",
    "df.sort_index().to_csv('SampleSpectra7.csv')\n",
    "\n",
    "RegisterTargets = pd.read_csv('SampleRegisters6.csv', index_col = 0)\n",
    "names = RegisterTargets.index\n",
    "del RegisterTargets\n",
    "print(len(names),'patches created with algorithm 6 found.')\n",
    "df = pd.DataFrame()\n",
    "for chunk in pd.read_csv('SampleSpectra.csv', index_col = 0, chunksize = chunksize):\n",
    "    indexset = set(chunk.index)\n",
    "    namestemp = [i for i in names if i in indexset]\n",
    "    temporary = chunk.loc[namestemp]\n",
    "    df = pd.concat([df,temporary])\n",
    "df.sort_index().to_csv('SampleSpectra6.csv')\n",
    "\n",
    "RegisterTargets = pd.read_csv('SampleRegisters5.csv', index_col = 0)\n",
    "names = RegisterTargets.index\n",
    "del RegisterTargets\n",
    "print(len(names),'patches created with algorithm 5 found.')\n",
    "df = pd.DataFrame()\n",
    "for chunk in pd.read_csv('SampleSpectra.csv', index_col = 0, chunksize = chunksize):\n",
    "    indexset = set(chunk.index)\n",
    "    namestemp = [i for i in names if i in indexset]\n",
    "    temporary = chunk.loc[namestemp]\n",
    "    df = pd.concat([df,temporary])\n",
    "df.sort_index().to_csv('SampleSpectra5.csv')\n",
    "\n",
    "RegisterTargets = pd.read_csv('SampleRegisters4.csv', index_col = 0)\n",
    "names = RegisterTargets.index\n",
    "del RegisterTargets\n",
    "print(len(names),'patches created with algorithm 4 found.')\n",
    "df = pd.DataFrame()\n",
    "for chunk in pd.read_csv('SampleSpectra.csv', index_col = 0, chunksize = chunksize):\n",
    "    indexset = set(chunk.index)\n",
    "    namestemp = [i for i in names if i in indexset]\n",
    "    temporary = chunk.loc[namestemp]\n",
    "    df = pd.concat([df,temporary])\n",
    "df.sort_index().to_csv('SampleSpectra4.csv')\n",
    "\n",
    "RegisterTargets = pd.read_csv('SampleRegisters3.csv', index_col = 0)\n",
    "names = RegisterTargets.index\n",
    "del RegisterTargets\n",
    "print(len(names),'patches created with algorithm 3 found.')\n",
    "df = pd.DataFrame()\n",
    "for chunk in pd.read_csv('SampleSpectra.csv', index_col = 0, chunksize = chunksize):\n",
    "    indexset = set(chunk.index)\n",
    "    namestemp = [i for i in names if i in indexset]\n",
    "    temporary = chunk.loc[namestemp]\n",
    "    df = pd.concat([df,temporary])\n",
    "df.sort_index().to_csv('SampleSpectra3.csv')\n",
    "\n",
    "RegisterTargets = pd.read_csv('SampleRegisters2.csv', index_col = 0)\n",
    "names = RegisterTargets.index\n",
    "del RegisterTargets\n",
    "print(len(names),'patches created with algorithm 2 found.')\n",
    "df = pd.DataFrame()\n",
    "for chunk in pd.read_csv('SampleSpectra.csv', index_col = 0, chunksize = chunksize):\n",
    "    indexset = set(chunk.index)\n",
    "    namestemp = [i for i in names if i in indexset]\n",
    "    temporary = chunk.loc[namestemp]\n",
    "    df = pd.concat([df,temporary])\n",
    "df.sort_index().to_csv('SampleSpectra2.csv')\n",
    "\n",
    "RegisterTargets = pd.read_csv('SampleRegisters1.csv', index_col = 0)\n",
    "names = RegisterTargets.index\n",
    "del RegisterTargets\n",
    "print(len(names),'patches created with algorithm 1 found.')\n",
    "df = pd.DataFrame()\n",
    "for chunk in pd.read_csv('SampleSpectra.csv', index_col = 0, chunksize = chunksize):\n",
    "    indexset = set(chunk.index)\n",
    "    namestemp = [i for i in names if i in indexset]\n",
    "    temporary = chunk.loc[namestemp]\n",
    "    df = pd.concat([df,temporary])\n",
    "df.sort_index().to_csv('SampleSpectra1.csv')\n",
    "\n",
    "RegisterTargets = pd.read_csv('SampleRegisters0.csv', index_col = 0)\n",
    "names = RegisterTargets.index\n",
    "del RegisterTargets\n",
    "print(len(names),'patches created with algorithm 0 found.')\n",
    "df = pd.DataFrame()\n",
    "for chunk in pd.read_csv('SampleSpectra.csv', index_col = 0, chunksize = chunksize):\n",
    "    indexset = set(chunk.index)\n",
    "    namestemp = [i for i in names if i in indexset]\n",
    "    temporary = chunk.loc[namestemp]\n",
    "    df = pd.concat([df,temporary])\n",
    "df.sort_index().to_csv('SampleSpectra0.csv')"
   ]
  }
 ],
 "metadata": {
  "kernelspec": {
   "display_name": "Python 3 (ipykernel)",
   "language": "python",
   "name": "python3"
  },
  "language_info": {
   "codemirror_mode": {
    "name": "ipython",
    "version": 3
   },
   "file_extension": ".py",
   "mimetype": "text/x-python",
   "name": "python",
   "nbconvert_exporter": "python",
   "pygments_lexer": "ipython3",
   "version": "3.9.13"
  }
 },
 "nbformat": 4,
 "nbformat_minor": 4
}
