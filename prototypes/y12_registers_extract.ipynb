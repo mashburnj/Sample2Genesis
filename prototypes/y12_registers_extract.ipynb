{
 "cells": [
  {
   "cell_type": "code",
   "execution_count": 1,
   "metadata": {},
   "outputs": [],
   "source": [
    "import os\n",
    "import numpy as np\n",
    "import pandas as pd"
   ]
  },
  {
   "cell_type": "markdown",
   "metadata": {},
   "source": [
    "SETUP"
   ]
  },
  {
   "cell_type": "code",
   "execution_count": 2,
   "metadata": {},
   "outputs": [],
   "source": [
    "#open directory with the samples in it.\n",
    "os.chdir('./Training_data/')\n",
    "\n",
    "# next, make a NP array of every y12 file in the directory\n",
    "SampleList = np.array(os.listdir())\n",
    "SampleList = SampleList[ np.char.endswith(SampleList, '.y12') ] #ignore everything that's not a .y12 file.\n",
    "\n",
    "#make a fresh blank series.\n",
    "#SampleRegisters = pd.DataFrame(columns = ['Ratio1', 'TL1', 'Attack1', 'Decay1', 'Decay2_1', 'Sustain1', 'Ratio2', 'TL2', 'Attack2', 'Decay2', 'Decay2_2', 'Sustain2', 'Ratio3', 'TL3', 'Attack3', 'Decay3', 'Decay2_3', 'Sustain3', 'Ratio4', 'TL4', 'Attack4', 'Decay4', 'Decay2_4', 'Sustain4', 'Algorithm','Feedback'])\n",
    "                                          \n",
    "\n",
    "SampleRegisters = pd.DataFrame(columns = ['Algorithm','Feedback',\n",
    "                                          'TL1', 'Multiple1', 'DT1', 'RS1', 'AttackLv1', 'AM1', 'Decay1Lv1', 'SustainLv1', 'Decay2Lv1', 'ReleaseLv1',\n",
    "                                          'TL2', 'Multiple2', 'DT2', 'RS2', 'AttackLv2', 'AM2', 'Decay1Lv2', 'SustainLv2', 'Decay2Lv2', 'ReleaseLv2',\n",
    "                                          'TL3', 'Multiple3', 'DT3', 'RS3', 'AttackLv3', 'AM3', 'Decay1Lv3', 'SustainLv3', 'Decay2Lv3', 'ReleaseLv3',\n",
    "                                          'TL4', 'Multiple4', 'DT4', 'RS4', 'AttackLv4', 'AM4', 'Decay1Lv4', 'SustainLv4', 'Decay2Lv4', 'ReleaseLv4',\n",
    "                                          'Ratio1', 'Attack1', 'Decay1', 'Sustain1',\n",
    "                                          'Ratio2', 'Attack2', 'Decay2', 'Sustain2',\n",
    "                                          'Ratio3', 'Attack3', 'Decay3', 'Sustain3',\n",
    "                                          'Ratio4', 'Attack4', 'Decay4', 'Sustain4'])"
   ]
  },
  {
   "cell_type": "markdown",
   "metadata": {},
   "source": [
    ".Y12 INPUT LOOP"
   ]
  },
  {
   "cell_type": "code",
   "execution_count": 3,
   "metadata": {},
   "outputs": [],
   "source": [
    "for SampleName in SampleList:\n",
    "    with open(SampleName, 'rb') as y12File:\n",
    "        registers = y12File.read(66) #only first 66 bytes are used\n",
    "    #mask = np.array([1,1,1,1,1,1,0,0,0,0,0,0,0,0,0,0,\n",
    "    #        1,1,1,1,1,1,0,0,0,0,0,0,0,0,0,0,\n",
    "    #        1,1,1,1,1,1,0,0,0,0,0,0,0,0,0,0,\n",
    "    #        1,1,1,1,1,1,0,0,0,0,0,0,0,0,0,0,\n",
    "    #        1,1], dtype=bool)\n",
    "    #registersUsed = registers[mask]\n",
    "    #print(registersUsed)\n",
    "    #rough programming, I know, but NumPy doesn't seem to like converting byte arrays to int arrays.\n",
    "    registersUsed = np.zeros(58)\n",
    "    registersUsed[0] = registers[0] #Ratio1\n",
    "    registersUsed[1] = registers[1] #TL1\n",
    "    registersUsed[2] = registers[2] #Attack1\n",
    "    registersUsed[3] = registers[3] #Decay1_1\n",
    "    registersUsed[4] = registers[4] #Decay2_1\n",
    "    registersUsed[5] = registers[5] #Sustain1\n",
    "    registersUsed[6] = registers[16] #Ratio2\n",
    "    registersUsed[7] = registers[17] #TL2\n",
    "    registersUsed[8] = registers[18] #Attack2\n",
    "    registersUsed[9] = registers[19] #Decay1_2\n",
    "    registersUsed[10] = registers[20] #Decay2_2\n",
    "    registersUsed[11] = registers[21] #Sustain2\n",
    "    registersUsed[12] = registers[32] #Ratio3\n",
    "    registersUsed[13] = registers[33] #TL3\n",
    "    registersUsed[14] = registers[34] #Attack3\n",
    "    registersUsed[15] = registers[35] #Decay1_3\n",
    "    registersUsed[16] = registers[36] #Decay2_3\n",
    "    registersUsed[17] = registers[37] #Sustain3\n",
    "    registersUsed[18] = registers[48] #Ratio4\n",
    "    registersUsed[19] = registers[49] #TL4\n",
    "    registersUsed[20] = registers[50] #Attack4\n",
    "    registersUsed[21] = registers[51] #Decay1_4\n",
    "    registersUsed[22] = registers[52] #Decay2_4\n",
    "    registersUsed[23] = registers[53] #Sustain4\n",
    "    registersUsed[24] = registers[64] #Algorithm (0, full FM, through 8, just additive synth)\n",
    "    registersUsed[25] = registers[65] #Feedback for Operator 1\n",
    "    registersUsed[26] = registers[0] % 16 # Multiple1\n",
    "    registersUsed[27] = registers[0] // 16 # DT1\n",
    "    registersUsed[28] = registers[2] // 64 # RS1\n",
    "    registersUsed[29] = registers[2] % 64 # Attack1\n",
    "    registersUsed[30] = registers[3] // 128 # AM1 bit\n",
    "    registersUsed[31] = registers[3] % 128 # Decay1\n",
    "    registersUsed[32] = registers[5] // 16 # Sustain1\n",
    "    registersUsed[33] = registers[5] % 16 # Release1\n",
    "    registersUsed[34] = registers[16] % 16 # Multiple2\n",
    "    registersUsed[35] = registers[16] // 16 # DT2\n",
    "    registersUsed[36] = registers[18] // 64 # RS2\n",
    "    registersUsed[37] = registers[18] % 64 # Attack2\n",
    "    registersUsed[38] = registers[19] // 128 # AM2 bit\n",
    "    registersUsed[39] = registers[19] % 128 # Decay2\n",
    "    registersUsed[40] = registers[21] // 16 # Sustain2\n",
    "    registersUsed[41] = registers[21] % 16 # Release2\n",
    "    registersUsed[42] = registers[32] % 16 # Multiple3\n",
    "    registersUsed[43] = registers[32] // 16 # DT3\n",
    "    registersUsed[44] = registers[34] // 64 # RS3\n",
    "    registersUsed[45] = registers[34] % 64 # Attack3\n",
    "    registersUsed[46] = registers[35] // 128 # AM3 bit\n",
    "    registersUsed[47] = registers[35] % 128 # Decay3\n",
    "    registersUsed[48] = registers[37] // 16 # Sustain3\n",
    "    registersUsed[49] = registers[37] % 16 # Release3\n",
    "    registersUsed[50] = registers[48] % 16 # Multiple4\n",
    "    registersUsed[51] = registers[48] // 16 # DT4\n",
    "    registersUsed[52] = registers[50] // 64 # RS4\n",
    "    registersUsed[53] = registers[50] % 64 # Attack4\n",
    "    registersUsed[54] = registers[51] // 128 # AM4 bit\n",
    "    registersUsed[55] = registers[51] % 128 # Decay4\n",
    "    registersUsed[56] = registers[53] // 16 # Sustain4\n",
    "    registersUsed[57] = registers[53] % 16 # Release4\n",
    "    for i in np.arange(0,3): # DT is indexed 0, 1, 2, 3, -1, -2, -3, so have to convert.\n",
    "        if registersUsed[27 + 8*i] == 4:\n",
    "            registersUsed[27 + 8*i] = 0\n",
    "        if registersUsed[27 + 8*i] == 5:\n",
    "            registersUsed[27 + 8*i] = -1\n",
    "        if registersUsed[27 + 8*i] == 6:\n",
    "            registersUsed[27 + 8*i] = -2\n",
    "        if registersUsed[27 + 8*i] == 7:\n",
    "            registersUsed[27 + 8*i] = -3\n",
    "    RowIndex = SampleName.rstrip('2')\n",
    "    RowIndex = RowIndex.rstrip('1')\n",
    "    RowIndex = RowIndex.rstrip('y')\n",
    "    RowIndex = RowIndex.rstrip('.')\n",
    "    RowIndex = RowIndex + \".wav\" #This is so we don't have to fiddle with index labels in any of the estimators, where we'll import this CSV.\n",
    "    SampleRow = pd.DataFrame([registersUsed], index = [RowIndex], columns = ['Ratio1', 'TL1', 'Attack1', 'Decay1', 'Decay2Lv1', 'Sustain1', 'Ratio2', 'TL2', 'Attack2', 'Decay2', 'Decay2Lv2', 'Sustain2', 'Ratio3', 'TL3', 'Attack3', 'Decay3', 'Decay2Lv3', 'Sustain3', 'Ratio4', 'TL4', 'Attack4', 'Decay4', 'Decay2Lv4', 'Sustain4', 'Algorithm','Feedback', 'Multiple1', 'DT1', 'RS1', 'AttackLv1', 'AM1', 'Decay1Lv1', 'SustainLv1', 'ReleaseLv1', 'Multiple2', 'DT2', 'RS2', 'AttackLv2', 'AM2', 'Decay1Lv2', 'SustainLv2', 'ReleaseLv2', 'Multiple3', 'DT3', 'RS3', 'AttackLv3', 'AM3', 'Decay1Lv3', 'SustainLv3', 'ReleaseLv3', 'Multiple4', 'DT4', 'RS4', 'AttackLv4', 'AM4', 'Decay1Lv4', 'SustainLv4', 'ReleaseLv4'])\n",
    "    SampleRegisters = pd.concat([SampleRegisters, SampleRow])"
   ]
  },
  {
   "cell_type": "markdown",
   "metadata": {},
   "source": [
    "CSV FILE OUTPUT"
   ]
  },
  {
   "cell_type": "code",
   "execution_count": 4,
   "metadata": {},
   "outputs": [
    {
     "name": "stdout",
     "output_type": "stream",
     "text": [
      "The first few samples' registers for your viewing pleasure:\n",
      "Note that the last 16 columns are there for arithmetic checking, and will NOT be needed past this point.\n",
      "                           Algorithm  Feedback   TL1  Multiple1  DT1  RS1  \\\n",
      "01 - Circle of Life_0.wav        4.0       0.0  15.0        1.0 -3.0  0.0   \n",
      "01 - Circle of Life_1.wav        0.0       7.0  25.0        0.0  0.0  0.0   \n",
      "01 - Circle of Life_2.wav        0.0       0.0   0.0       15.0  0.0  0.0   \n",
      "01 - Circle of Life_3.wav        3.0       7.0  10.0        2.0 -3.0  0.0   \n",
      "01 - Circle of Life_4.wav        5.0       7.0  24.0        2.0 -3.0  0.0   \n",
      "\n",
      "                           AttackLv1  AM1  Decay1Lv1  SustainLv1  ...  Decay2  \\\n",
      "01 - Circle of Life_0.wav       31.0  0.0        0.0         0.0  ...     0.0   \n",
      "01 - Circle of Life_1.wav       31.0  1.0        0.0         0.0  ...     0.0   \n",
      "01 - Circle of Life_2.wav       31.0  0.0        0.0         0.0  ...     0.0   \n",
      "01 - Circle of Life_3.wav       16.0  1.0       18.0        10.0  ...     0.0   \n",
      "01 - Circle of Life_4.wav       18.0  1.0       10.0         1.0  ...   128.0   \n",
      "\n",
      "                           Sustain2  Ratio3  Attack3  Decay3  Sustain3  \\\n",
      "01 - Circle of Life_0.wav       0.0     2.0     31.0    11.0      48.0   \n",
      "01 - Circle of Life_1.wav       0.0    97.0     31.0   128.0       0.0   \n",
      "01 - Circle of Life_2.wav       0.0    15.0     31.0     0.0       0.0   \n",
      "01 - Circle of Life_3.wav       0.0     4.0     20.0     0.0       0.0   \n",
      "01 - Circle of Life_4.wav       0.0     6.0     20.0    11.0      48.0   \n",
      "\n",
      "                           Ratio4  Attack4  Decay4  Sustain4  \n",
      "01 - Circle of Life_0.wav   113.0     31.0    11.0      48.0  \n",
      "01 - Circle of Life_1.wav     0.0     21.0   128.0       0.0  \n",
      "01 - Circle of Life_2.wav     1.0    147.0   128.0       0.0  \n",
      "01 - Circle of Life_3.wav     2.0     17.0   138.0      32.0  \n",
      "01 - Circle of Life_4.wav    83.0     19.0   140.0      32.0  \n",
      "\n",
      "[5 rows x 58 columns]\n"
     ]
    }
   ],
   "source": [
    "SampleRegisters.to_csv('000SampleRegisters.csv')\n",
    "\n",
    "print('The first few samples\\' registers for your viewing pleasure:')\n",
    "print('Note that the last 16 columns are there for arithmetic checking, and will NOT be needed past this point.')\n",
    "print(SampleRegisters.head())"
   ]
  }
 ],
 "metadata": {
  "kernelspec": {
   "display_name": "Python 3 (ipykernel)",
   "language": "python",
   "name": "python3"
  },
  "language_info": {
   "codemirror_mode": {
    "name": "ipython",
    "version": 3
   },
   "file_extension": ".py",
   "mimetype": "text/x-python",
   "name": "python",
   "nbconvert_exporter": "python",
   "pygments_lexer": "ipython3",
   "version": "3.10.9"
  }
 },
 "nbformat": 4,
 "nbformat_minor": 2
}
