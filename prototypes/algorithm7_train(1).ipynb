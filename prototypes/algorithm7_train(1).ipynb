{
 "cells": [
  {
   "cell_type": "markdown",
   "metadata": {},
   "source": [
    "# Audio Sample to Sega Genesis Synth Path Estimator - Algorithm 7"
   ]
  },
  {
   "cell_type": "code",
   "execution_count": 2,
   "metadata": {},
   "outputs": [
    {
     "name": "stderr",
     "output_type": "stream",
     "text": [
      "2023-02-15 18:53:58.143941: I tensorflow/core/platform/cpu_feature_guard.cc:193] This TensorFlow binary is optimized with oneAPI Deep Neural Network Library (oneDNN) to use the following CPU instructions in performance-critical operations:  SSE3 SSE4.1 SSE4.2 AVX AVX2 FMA\n",
      "To enable them in other operations, rebuild TensorFlow with the appropriate compiler flags.\n"
     ]
    }
   ],
   "source": [
    "import os\n",
    "import numpy as np\n",
    "import pandas as pd\n",
    "from tensorflow.keras.models import Sequential # Will experiment with various architectures\n",
    "from tensorflow.keras.layers import Dense\n",
    "\n",
    "# Side note: don't actually run this in Jupyter. This is simply a whiteboard for the model design.\n",
    "# Transfer to a .py file, and run this on Linux with AMD GPU support."
   ]
  },
  {
   "cell_type": "markdown",
   "metadata": {},
   "source": [
    "SETUP"
   ]
  },
  {
   "cell_type": "code",
   "execution_count": 5,
   "metadata": {},
   "outputs": [
    {
     "name": "stdout",
     "output_type": "stream",
     "text": [
      "232 patches created with algorithm 7 found.\n"
     ]
    },
    {
     "ename": "KeyError",
     "evalue": "\"['07 - Marble Garden Zone Act 1_817.wav'] not in index\"",
     "output_type": "error",
     "traceback": [
      "\u001b[0;31m---------------------------------------------------------------------------\u001b[0m",
      "\u001b[0;31mKeyError\u001b[0m                                  Traceback (most recent call last)",
      "Cell \u001b[0;32mIn[5], line 16\u001b[0m\n\u001b[1;32m      9\u001b[0m RegisterTargets \u001b[38;5;241m=\u001b[39m RegisterTargets\u001b[38;5;241m.\u001b[39mdrop([\u001b[38;5;124m'\u001b[39m\u001b[38;5;124mAlgorithm\u001b[39m\u001b[38;5;124m'\u001b[39m, \u001b[38;5;124m'\u001b[39m\u001b[38;5;124mRatio1\u001b[39m\u001b[38;5;124m'\u001b[39m, \u001b[38;5;124m'\u001b[39m\u001b[38;5;124mAttack1\u001b[39m\u001b[38;5;124m'\u001b[39m, \u001b[38;5;124m'\u001b[39m\u001b[38;5;124mDecay1\u001b[39m\u001b[38;5;124m'\u001b[39m, \u001b[38;5;124m'\u001b[39m\u001b[38;5;124mSustain1\u001b[39m\u001b[38;5;124m'\u001b[39m,\n\u001b[1;32m     10\u001b[0m                         \u001b[38;5;124m'\u001b[39m\u001b[38;5;124mRatio2\u001b[39m\u001b[38;5;124m'\u001b[39m, \u001b[38;5;124m'\u001b[39m\u001b[38;5;124mAttack2\u001b[39m\u001b[38;5;124m'\u001b[39m, \u001b[38;5;124m'\u001b[39m\u001b[38;5;124mDecay2\u001b[39m\u001b[38;5;124m'\u001b[39m, \u001b[38;5;124m'\u001b[39m\u001b[38;5;124mSustain2\u001b[39m\u001b[38;5;124m'\u001b[39m,\n\u001b[1;32m     11\u001b[0m                         \u001b[38;5;124m'\u001b[39m\u001b[38;5;124mRatio3\u001b[39m\u001b[38;5;124m'\u001b[39m, \u001b[38;5;124m'\u001b[39m\u001b[38;5;124mAttack3\u001b[39m\u001b[38;5;124m'\u001b[39m, \u001b[38;5;124m'\u001b[39m\u001b[38;5;124mDecay3\u001b[39m\u001b[38;5;124m'\u001b[39m, \u001b[38;5;124m'\u001b[39m\u001b[38;5;124mSustain3\u001b[39m\u001b[38;5;124m'\u001b[39m,\n\u001b[1;32m     12\u001b[0m                         \u001b[38;5;124m'\u001b[39m\u001b[38;5;124mRatio4\u001b[39m\u001b[38;5;124m'\u001b[39m, \u001b[38;5;124m'\u001b[39m\u001b[38;5;124mAttack4\u001b[39m\u001b[38;5;124m'\u001b[39m, \u001b[38;5;124m'\u001b[39m\u001b[38;5;124mDecay4\u001b[39m\u001b[38;5;124m'\u001b[39m, \u001b[38;5;124m'\u001b[39m\u001b[38;5;124mSustain4\u001b[39m\u001b[38;5;124m'\u001b[39m,\n\u001b[1;32m     13\u001b[0m                         \u001b[38;5;124m'\u001b[39m\u001b[38;5;124mReleaseLv1\u001b[39m\u001b[38;5;124m'\u001b[39m, \u001b[38;5;124m'\u001b[39m\u001b[38;5;124mReleaseLv2\u001b[39m\u001b[38;5;124m'\u001b[39m, \u001b[38;5;124m'\u001b[39m\u001b[38;5;124mReleaseLv3\u001b[39m\u001b[38;5;124m'\u001b[39m, \u001b[38;5;124m'\u001b[39m\u001b[38;5;124mReleaseLv4\u001b[39m\u001b[38;5;124m'\u001b[39m, ], axis \u001b[38;5;241m=\u001b[39m \u001b[38;5;124m'\u001b[39m\u001b[38;5;124mcolumns\u001b[39m\u001b[38;5;124m'\u001b[39m) \u001b[38;5;66;03m# Not needed here.\u001b[39;00m\n\u001b[1;32m     14\u001b[0m \u001b[38;5;28mprint\u001b[39m(\u001b[38;5;28mlen\u001b[39m(RegisterTargets),\u001b[38;5;124m'\u001b[39m\u001b[38;5;124mpatches created with algorithm 7 found.\u001b[39m\u001b[38;5;124m'\u001b[39m)\n\u001b[0;32m---> 16\u001b[0m SpectrumFeatures \u001b[38;5;241m=\u001b[39m \u001b[43mpd\u001b[49m\u001b[38;5;241;43m.\u001b[39;49m\u001b[43mread_csv\u001b[49m\u001b[43m(\u001b[49m\u001b[38;5;124;43m'\u001b[39;49m\u001b[38;5;124;43mSampleSpectra.csv\u001b[39;49m\u001b[38;5;124;43m'\u001b[39;49m\u001b[43m,\u001b[49m\u001b[43m \u001b[49m\u001b[43mindex_col\u001b[49m\u001b[43m \u001b[49m\u001b[38;5;241;43m=\u001b[39;49m\u001b[43m \u001b[49m\u001b[38;5;241;43m0\u001b[39;49m\u001b[43m)\u001b[49m\u001b[38;5;241;43m.\u001b[39;49m\u001b[43mT\u001b[49m\u001b[38;5;241;43m.\u001b[39;49m\u001b[43mloc\u001b[49m\u001b[43m[\u001b[49m\u001b[43mRegisterTargets\u001b[49m\u001b[38;5;241;43m.\u001b[39;49m\u001b[43mindex\u001b[49m\u001b[43m]\u001b[49m \u001b[38;5;66;03m# Trying dBs for now.\u001b[39;00m\n\u001b[1;32m     17\u001b[0m \u001b[38;5;28mprint\u001b[39m(SpectrumFeatures\u001b[38;5;241m.\u001b[39mhead())\n\u001b[1;32m     19\u001b[0m \u001b[38;5;28;01mif\u001b[39;00m used_raw_data:\n",
      "File \u001b[0;32m~/anaconda3/envs/tf-gpu/lib/python3.10/site-packages/pandas/core/indexing.py:1073\u001b[0m, in \u001b[0;36m_LocationIndexer.__getitem__\u001b[0;34m(self, key)\u001b[0m\n\u001b[1;32m   1070\u001b[0m axis \u001b[38;5;241m=\u001b[39m \u001b[38;5;28mself\u001b[39m\u001b[38;5;241m.\u001b[39maxis \u001b[38;5;129;01mor\u001b[39;00m \u001b[38;5;241m0\u001b[39m\n\u001b[1;32m   1072\u001b[0m maybe_callable \u001b[38;5;241m=\u001b[39m com\u001b[38;5;241m.\u001b[39mapply_if_callable(key, \u001b[38;5;28mself\u001b[39m\u001b[38;5;241m.\u001b[39mobj)\n\u001b[0;32m-> 1073\u001b[0m \u001b[38;5;28;01mreturn\u001b[39;00m \u001b[38;5;28;43mself\u001b[39;49m\u001b[38;5;241;43m.\u001b[39;49m\u001b[43m_getitem_axis\u001b[49m\u001b[43m(\u001b[49m\u001b[43mmaybe_callable\u001b[49m\u001b[43m,\u001b[49m\u001b[43m \u001b[49m\u001b[43maxis\u001b[49m\u001b[38;5;241;43m=\u001b[39;49m\u001b[43maxis\u001b[49m\u001b[43m)\u001b[49m\n",
      "File \u001b[0;32m~/anaconda3/envs/tf-gpu/lib/python3.10/site-packages/pandas/core/indexing.py:1301\u001b[0m, in \u001b[0;36m_LocIndexer._getitem_axis\u001b[0;34m(self, key, axis)\u001b[0m\n\u001b[1;32m   1298\u001b[0m     \u001b[38;5;28;01mif\u001b[39;00m \u001b[38;5;28mhasattr\u001b[39m(key, \u001b[38;5;124m\"\u001b[39m\u001b[38;5;124mndim\u001b[39m\u001b[38;5;124m\"\u001b[39m) \u001b[38;5;129;01mand\u001b[39;00m key\u001b[38;5;241m.\u001b[39mndim \u001b[38;5;241m>\u001b[39m \u001b[38;5;241m1\u001b[39m:\n\u001b[1;32m   1299\u001b[0m         \u001b[38;5;28;01mraise\u001b[39;00m \u001b[38;5;167;01mValueError\u001b[39;00m(\u001b[38;5;124m\"\u001b[39m\u001b[38;5;124mCannot index with multidimensional key\u001b[39m\u001b[38;5;124m\"\u001b[39m)\n\u001b[0;32m-> 1301\u001b[0m     \u001b[38;5;28;01mreturn\u001b[39;00m \u001b[38;5;28;43mself\u001b[39;49m\u001b[38;5;241;43m.\u001b[39;49m\u001b[43m_getitem_iterable\u001b[49m\u001b[43m(\u001b[49m\u001b[43mkey\u001b[49m\u001b[43m,\u001b[49m\u001b[43m \u001b[49m\u001b[43maxis\u001b[49m\u001b[38;5;241;43m=\u001b[39;49m\u001b[43maxis\u001b[49m\u001b[43m)\u001b[49m\n\u001b[1;32m   1303\u001b[0m \u001b[38;5;66;03m# nested tuple slicing\u001b[39;00m\n\u001b[1;32m   1304\u001b[0m \u001b[38;5;28;01mif\u001b[39;00m is_nested_tuple(key, labels):\n",
      "File \u001b[0;32m~/anaconda3/envs/tf-gpu/lib/python3.10/site-packages/pandas/core/indexing.py:1239\u001b[0m, in \u001b[0;36m_LocIndexer._getitem_iterable\u001b[0;34m(self, key, axis)\u001b[0m\n\u001b[1;32m   1236\u001b[0m \u001b[38;5;28mself\u001b[39m\u001b[38;5;241m.\u001b[39m_validate_key(key, axis)\n\u001b[1;32m   1238\u001b[0m \u001b[38;5;66;03m# A collection of keys\u001b[39;00m\n\u001b[0;32m-> 1239\u001b[0m keyarr, indexer \u001b[38;5;241m=\u001b[39m \u001b[38;5;28;43mself\u001b[39;49m\u001b[38;5;241;43m.\u001b[39;49m\u001b[43m_get_listlike_indexer\u001b[49m\u001b[43m(\u001b[49m\u001b[43mkey\u001b[49m\u001b[43m,\u001b[49m\u001b[43m \u001b[49m\u001b[43maxis\u001b[49m\u001b[43m)\u001b[49m\n\u001b[1;32m   1240\u001b[0m \u001b[38;5;28;01mreturn\u001b[39;00m \u001b[38;5;28mself\u001b[39m\u001b[38;5;241m.\u001b[39mobj\u001b[38;5;241m.\u001b[39m_reindex_with_indexers(\n\u001b[1;32m   1241\u001b[0m     {axis: [keyarr, indexer]}, copy\u001b[38;5;241m=\u001b[39m\u001b[38;5;28;01mTrue\u001b[39;00m, allow_dups\u001b[38;5;241m=\u001b[39m\u001b[38;5;28;01mTrue\u001b[39;00m\n\u001b[1;32m   1242\u001b[0m )\n",
      "File \u001b[0;32m~/anaconda3/envs/tf-gpu/lib/python3.10/site-packages/pandas/core/indexing.py:1432\u001b[0m, in \u001b[0;36m_LocIndexer._get_listlike_indexer\u001b[0;34m(self, key, axis)\u001b[0m\n\u001b[1;32m   1429\u001b[0m ax \u001b[38;5;241m=\u001b[39m \u001b[38;5;28mself\u001b[39m\u001b[38;5;241m.\u001b[39mobj\u001b[38;5;241m.\u001b[39m_get_axis(axis)\n\u001b[1;32m   1430\u001b[0m axis_name \u001b[38;5;241m=\u001b[39m \u001b[38;5;28mself\u001b[39m\u001b[38;5;241m.\u001b[39mobj\u001b[38;5;241m.\u001b[39m_get_axis_name(axis)\n\u001b[0;32m-> 1432\u001b[0m keyarr, indexer \u001b[38;5;241m=\u001b[39m \u001b[43max\u001b[49m\u001b[38;5;241;43m.\u001b[39;49m\u001b[43m_get_indexer_strict\u001b[49m\u001b[43m(\u001b[49m\u001b[43mkey\u001b[49m\u001b[43m,\u001b[49m\u001b[43m \u001b[49m\u001b[43maxis_name\u001b[49m\u001b[43m)\u001b[49m\n\u001b[1;32m   1434\u001b[0m \u001b[38;5;28;01mreturn\u001b[39;00m keyarr, indexer\n",
      "File \u001b[0;32m~/anaconda3/envs/tf-gpu/lib/python3.10/site-packages/pandas/core/indexes/base.py:6113\u001b[0m, in \u001b[0;36mIndex._get_indexer_strict\u001b[0;34m(self, key, axis_name)\u001b[0m\n\u001b[1;32m   6110\u001b[0m \u001b[38;5;28;01melse\u001b[39;00m:\n\u001b[1;32m   6111\u001b[0m     keyarr, indexer, new_indexer \u001b[38;5;241m=\u001b[39m \u001b[38;5;28mself\u001b[39m\u001b[38;5;241m.\u001b[39m_reindex_non_unique(keyarr)\n\u001b[0;32m-> 6113\u001b[0m \u001b[38;5;28;43mself\u001b[39;49m\u001b[38;5;241;43m.\u001b[39;49m\u001b[43m_raise_if_missing\u001b[49m\u001b[43m(\u001b[49m\u001b[43mkeyarr\u001b[49m\u001b[43m,\u001b[49m\u001b[43m \u001b[49m\u001b[43mindexer\u001b[49m\u001b[43m,\u001b[49m\u001b[43m \u001b[49m\u001b[43maxis_name\u001b[49m\u001b[43m)\u001b[49m\n\u001b[1;32m   6115\u001b[0m keyarr \u001b[38;5;241m=\u001b[39m \u001b[38;5;28mself\u001b[39m\u001b[38;5;241m.\u001b[39mtake(indexer)\n\u001b[1;32m   6116\u001b[0m \u001b[38;5;28;01mif\u001b[39;00m \u001b[38;5;28misinstance\u001b[39m(key, Index):\n\u001b[1;32m   6117\u001b[0m     \u001b[38;5;66;03m# GH 42790 - Preserve name from an Index\u001b[39;00m\n",
      "File \u001b[0;32m~/anaconda3/envs/tf-gpu/lib/python3.10/site-packages/pandas/core/indexes/base.py:6176\u001b[0m, in \u001b[0;36mIndex._raise_if_missing\u001b[0;34m(self, key, indexer, axis_name)\u001b[0m\n\u001b[1;32m   6173\u001b[0m     \u001b[38;5;28;01mraise\u001b[39;00m \u001b[38;5;167;01mKeyError\u001b[39;00m(\u001b[38;5;124mf\u001b[39m\u001b[38;5;124m\"\u001b[39m\u001b[38;5;124mNone of [\u001b[39m\u001b[38;5;132;01m{\u001b[39;00mkey\u001b[38;5;132;01m}\u001b[39;00m\u001b[38;5;124m] are in the [\u001b[39m\u001b[38;5;132;01m{\u001b[39;00maxis_name\u001b[38;5;132;01m}\u001b[39;00m\u001b[38;5;124m]\u001b[39m\u001b[38;5;124m\"\u001b[39m)\n\u001b[1;32m   6175\u001b[0m not_found \u001b[38;5;241m=\u001b[39m \u001b[38;5;28mlist\u001b[39m(ensure_index(key)[missing_mask\u001b[38;5;241m.\u001b[39mnonzero()[\u001b[38;5;241m0\u001b[39m]]\u001b[38;5;241m.\u001b[39munique())\n\u001b[0;32m-> 6176\u001b[0m \u001b[38;5;28;01mraise\u001b[39;00m \u001b[38;5;167;01mKeyError\u001b[39;00m(\u001b[38;5;124mf\u001b[39m\u001b[38;5;124m\"\u001b[39m\u001b[38;5;132;01m{\u001b[39;00mnot_found\u001b[38;5;132;01m}\u001b[39;00m\u001b[38;5;124m not in index\u001b[39m\u001b[38;5;124m\"\u001b[39m)\n",
      "\u001b[0;31mKeyError\u001b[0m: \"['07 - Marble Garden Zone Act 1_817.wav'] not in index\""
     ]
    }
   ],
   "source": [
    "#open directory with the spectrograms, PCA-reduced audio data (if I used it), and register data in it.\n",
    "used_raw_data = False\n",
    "\n",
    "os.chdir('..')\n",
    "os.chdir('./data/')\n",
    "\n",
    "RegisterTargets = pd.read_csv('SampleRegisters.csv', index_col = 0).T\n",
    "RegisterTargets = RegisterTargets.loc[RegisterTargets.Algorithm == 7] # filter by algorithm\n",
    "RegisterTargets = RegisterTargets.drop(['Algorithm', 'Ratio1', 'Attack1', 'Decay1', 'Sustain1',\n",
    "                        'Ratio2', 'Attack2', 'Decay2', 'Sustain2',\n",
    "                        'Ratio3', 'Attack3', 'Decay3', 'Sustain3',\n",
    "                        'Ratio4', 'Attack4', 'Decay4', 'Sustain4',\n",
    "                        'ReleaseLv1', 'ReleaseLv2', 'ReleaseLv3', 'ReleaseLv4', ], axis = 'columns') # Not needed here.\n",
    "print(len(RegisterTargets),'patches created with algorithm 7 found.')\n",
    "\n",
    "SpectrumFeatures = pd.read_csv('SampleSpectra.csv', index_col = [0,1]).T.loc[RegisterTargets.index]\n",
    "print(SpectrumFeatures.head())\n",
    "\n",
    "print('Register data for patches:')\n",
    "print(RegisterTargets.head())\n",
    "\n",
    "if used_raw_data:\n",
    "    WavFeatures = pd.read_csv('SampleWav.csv', index_col = 0).loc[RegisterTargets.index]\n",
    "    SpectrumFeatures = SpectrumFeatures.join(WavFeatures)\n",
    "\n",
    "pca_spect = PCA(n_components = numComponents)\n",
    "pca_spect.fit(SpectrumFeatures)\n",
    "reduced = pca_spect.fit_transform(SpectrumFeatures)\n",
    "print('Original shape ', np.shape(SpectrumFeatures))\n",
    "print('Transformed shape ', np.shape(reduced))\n",
    "print('Components')\n",
    "print(pca_spect.components_)\n",
    "print('Explained variance')\n",
    "print(pca_spect.explained_variance_)\n",
    "\n",
    "plt.plot(np.cumsum(pca_spect.explained_variance_ratio_))\n",
    "plt.xlabel('number of components')\n",
    "plt.ylabel('cumulative explained variance');\n",
    "\n",
    "\n",
    "\n"
   ]
  },
  {
   "cell_type": "markdown",
   "metadata": {},
   "source": [
    "TRAINING AN ESTIMATOR MODEL"
   ]
  },
  {
   "cell_type": "code",
   "execution_count": 3,
   "metadata": {},
   "outputs": [
    {
     "name": "stdout",
     "output_type": "stream",
     "text": [
      "[-6.13680145e+00  2.12331397e+01  1.12052298e+01 -8.47762943e+00\n",
      " -1.60953251e+01 -2.72292366e+01 -3.07423799e+01 -3.15654074e+01\n",
      " -2.70938598e+01 -3.03187354e+01 -2.80391258e+01 -3.23866879e+01\n",
      " -3.57411729e+01 -3.78762370e+01 -3.92524898e+01 -4.10550396e+01\n",
      " -4.21225654e+01 -4.54594141e+01 -4.33877405e+01 -4.41984576e+01\n",
      "  4.61154619e+04  5.36191007e+04 -5.23138112e+02  2.29247090e+04\n",
      "  2.66074887e+04 -2.96259108e+03  1.98822613e+04 -8.13982487e+03\n",
      " -3.01927284e+03  1.61927192e+04 -1.97006031e+04 -8.22352835e+03\n",
      " -8.85503055e+03  4.11727483e+02  4.07796951e+03 -5.04914564e+03\n",
      "  1.77838870e+03 -1.48229187e+03 -2.04124798e+03  1.32328612e+03\n",
      " -8.99750566e+03 -1.80739857e+03  1.53847285e+03 -4.04891449e+03\n",
      " -3.23221750e+03 -5.75909638e+03  2.43062403e+03  3.30298931e+03\n",
      " -1.37364956e+03  1.91845194e+03 -4.75923948e+03  2.17952461e+03\n",
      "  1.65974853e+02 -1.20860465e+03  4.87163410e+02 -7.85418732e+03\n",
      " -4.67340720e+03  3.40457916e+03  4.39521629e+03  1.96409254e+03\n",
      "  4.87283897e+03  2.86040441e+03 -1.24162453e+03  5.51521026e+03\n",
      "  3.42338889e+03 -1.52597054e+03 -1.07521968e+03 -2.21405568e+03\n",
      "  2.41181592e+03 -6.82989497e+03 -5.95513910e+02 -9.11148655e+02\n",
      " -2.41196342e+03 -9.24533872e+02  3.71529187e+03  3.87216642e+02\n",
      " -1.62213186e+03 -1.66151543e+02 -2.00916646e+03  2.40273382e+03\n",
      "  1.70290192e+03  1.69948436e+03  6.96339440e+02  1.30863098e+03]\n",
      "[1.82016537e+01 1.47624815e+01 1.41260576e+01 1.80786076e+01\n",
      " 2.13796663e+01 1.79235035e+01 1.84555341e+01 1.87047359e+01\n",
      " 2.53159836e+01 1.95097140e+01 1.88623779e+01 1.89696127e+01\n",
      " 1.76793684e+01 1.67219906e+01 1.66022672e+01 1.66595766e+01\n",
      " 1.69640645e+01 1.97126259e+01 1.69031942e+01 1.70132128e+01\n",
      " 1.06785992e+05 6.79639761e+04 3.72103773e+04 4.02631957e+04\n",
      " 3.69709770e+04 5.32870891e+04 3.38930804e+04 2.62792246e+04\n",
      " 2.51437961e+04 2.93202560e+04 2.05697537e+04 8.81700868e+03\n",
      " 1.09625841e+04 9.88211741e+03 6.50115271e+03 9.15301337e+03\n",
      " 3.71928717e+03 8.29559444e+03 4.63819769e+03 7.30363306e+03\n",
      " 9.26783137e+03 3.74845623e+03 7.34366769e+03 4.56904355e+03\n",
      " 7.39329849e+03 8.61327956e+03 1.07363857e+04 1.02996088e+04\n",
      " 9.67603182e+03 4.36719746e+03 6.83345244e+03 6.79269669e+03\n",
      " 3.75332372e+03 4.70399396e+03 7.43405589e+03 9.65344865e+03\n",
      " 9.02644005e+03 4.00976252e+03 8.36812735e+03 6.44645778e+03\n",
      " 7.27843186e+03 6.63633595e+03 4.15753602e+03 5.88290000e+03\n",
      " 4.12842570e+03 4.76526179e+03 6.94665618e+03 4.15383884e+03\n",
      " 7.05215719e+03 5.49486329e+03 6.82795719e+03 6.04361724e+03\n",
      " 3.78256159e+03 7.14638297e+03 7.13531794e+03 6.98811523e+03\n",
      " 6.34926642e+03 5.83953906e+03 4.20858492e+03 1.89050905e+03\n",
      " 3.63849810e+03 5.80311549e+03 1.93164588e+03 3.14372763e+03]\n"
     ]
    },
    {
     "data": {
      "text/plain": [
       "MLPRegressor(alpha=1e-05, hidden_layer_sizes=(50, 50), max_iter=10000,\n",
       "             random_state=1, solver='lbfgs')"
      ]
     },
     "execution_count": 3,
     "metadata": {},
     "output_type": "execute_result"
    }
   ],
   "source": [
    "model7 = Sequential()\n",
    "model7.add(Dense(250, input_shape = (129,629), activation='relu'))\n",
    "model7.add(Dense(200, activation='relu'))\n",
    "model7.add(Dense(160, activation='relu'))\n",
    "model7.add(Dense(140, activation='relu'))\n",
    "model7.add(Dense(120, activation='relu'))\n",
    "model7.add(Dense(100, activation='relu'))\n",
    "model7.add(Dense(80, activation='relu'))\n",
    "model7.add(Dense(60, activation='relu'))\n",
    "model7.add(Dense(37, activation='relu')) # 41 numerical outputs, but only 37 if we exclude release.\n",
    "\n",
    "# To do: to decide on these options.\n",
    "model7.compile(loss = '?', optimizer = 'adam', metrics = ['?'])\n",
    "\n",
    "# To do: to wrangle the data to fit into X, y format.\n",
    "model7.fit(X,y,epochs = 150, batch_size = 10)\n",
    "\n",
    "_, accuracy = model.evaluate(X, y)\n",
    "print('Accuracy: %.2f' % (accuracy*100))"
   ]
  },
  {
   "cell_type": "markdown",
   "metadata": {},
   "source": [
    "SAVING THE MODEL TO JSON TO BE IMPORTED INTO MAIN PROGRAM"
   ]
  },
  {
   "cell_type": "code",
   "execution_count": 5,
   "metadata": {},
   "outputs": [
    {
     "name": "stdout",
     "output_type": "stream",
     "text": [
      "Frequency                         0                                       \\\n",
      "Time                              0           1          2           3     \n",
      "01 - Circle of Life_0.wav  479.603330  286.281700  16.643503  389.145400   \n",
      "01 - Circle of Life_1.wav    3.184877    8.141680  22.113195   36.346890   \n",
      "01 - Circle of Life_2.wav    0.572485    0.018849   0.020290    0.771428   \n",
      "01 - Circle of Life_3.wav    0.108402    2.121624  12.437200    0.001558   \n",
      "01 - Circle of Life_4.wav    0.284686   23.930990  11.773583    5.364444   \n",
      "\n",
      "Frequency                                                                \\\n",
      "Time                             4           5           6          7     \n",
      "01 - Circle of Life_0.wav  20.132044   56.910778  208.063220   3.752028   \n",
      "01 - Circle of Life_1.wav   9.413405   25.061806   38.335815   5.365879   \n",
      "01 - Circle of Life_2.wav   0.946703    0.007717    0.037849   0.038244   \n",
      "01 - Circle of Life_3.wav  54.423275  128.358140    5.108642  77.306520   \n",
      "01 - Circle of Life_4.wav   0.489262    3.616123    0.175440   1.850379   \n",
      "\n",
      "Frequency                                          ...       128            \\\n",
      "Time                              8           9    ...       619       620   \n",
      "01 - Circle of Life_0.wav   46.661550  107.242714  ...  0.001749  0.000424   \n",
      "01 - Circle of Life_1.wav   27.117666   39.113580  ...  0.004111  0.000962   \n",
      "01 - Circle of Life_2.wav    0.089604    0.030738  ...  0.000000  0.000000   \n",
      "01 - Circle of Life_3.wav  167.893630   21.682750  ...  0.000000  0.000000   \n",
      "01 - Circle of Life_4.wav    4.254775    2.780308  ...  0.010780  0.008208   \n",
      "\n",
      "Frequency                                                          \\\n",
      "Time                            621       622       623       624   \n",
      "01 - Circle of Life_0.wav  0.000088  0.000389  0.007817  0.000917   \n",
      "01 - Circle of Life_1.wav  0.009342  0.017800  0.000120  0.006350   \n",
      "01 - Circle of Life_2.wav  0.000000  0.000000  0.000000  0.000000   \n",
      "01 - Circle of Life_3.wav  0.000000  0.000000  0.000000  0.000000   \n",
      "01 - Circle of Life_4.wav  0.000052  0.003507  0.001547  0.036532   \n",
      "\n",
      "Frequency                                                              \n",
      "Time                                625       626       627       628  \n",
      "01 - Circle of Life_0.wav  2.996180e-03  0.000212  0.002706  0.001151  \n",
      "01 - Circle of Life_1.wav  5.407087e-04  0.000051  0.004847  0.001693  \n",
      "01 - Circle of Life_2.wav  0.000000e+00  0.000000  0.000000  0.000000  \n",
      "01 - Circle of Life_3.wav  0.000000e+00  0.000000  0.000000  0.000000  \n",
      "01 - Circle of Life_4.wav  6.407039e-07  0.006670  0.043423  0.002499  \n",
      "\n",
      "[5 rows x 81141 columns]\n"
     ]
    }
   ],
   "source": [
    "os.chdir('..')\n",
    "os.chdir('./data/')\n",
    "SpectrumFeatures = pd.read_csv('SampleSpectra.csv', index_col = [0,1]).T#.loc[RegisterTargets.index]\n",
    "print(SpectrumFeatures.head())"
   ]
  },
  {
   "cell_type": "code",
   "execution_count": null,
   "metadata": {},
   "outputs": [],
   "source": []
  },
  {
   "cell_type": "code",
   "execution_count": null,
   "metadata": {},
   "outputs": [],
   "source": []
  }
 ],
 "metadata": {
  "kernelspec": {
   "display_name": "Python 3 (ipykernel)",
   "language": "python",
   "name": "python3"
  },
  "language_info": {
   "codemirror_mode": {
    "name": "ipython",
    "version": 3
   },
   "file_extension": ".py",
   "mimetype": "text/x-python",
   "name": "python",
   "nbconvert_exporter": "python",
   "pygments_lexer": "ipython3",
   "version": "3.10.9"
  }
 },
 "nbformat": 4,
 "nbformat_minor": 4
}
