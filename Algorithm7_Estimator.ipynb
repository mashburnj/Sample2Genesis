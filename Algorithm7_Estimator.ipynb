{
 "cells": [
  {
   "cell_type": "code",
   "execution_count": 1,
   "metadata": {},
   "outputs": [],
   "source": [
    "import os\n",
    "import numpy as np\n",
    "import pandas as pd\n",
    "from sklearn.neural_network import MLPRegressor # Try a multi-layer perceptron algorithm."
   ]
  },
  {
   "cell_type": "markdown",
   "metadata": {},
   "source": [
    "SETUP"
   ]
  },
  {
   "cell_type": "code",
   "execution_count": 2,
   "metadata": {},
   "outputs": [
    {
     "name": "stdout",
     "output_type": "stream",
     "text": [
      "                              HalfFF        1FF        2FF        3FF  \\\n",
      "01 - Circle of Life_0.wav  27.345405  30.462234 -19.134841 -25.059827   \n",
      "01 - Circle of Life_1.wav -10.175424  20.070666  10.026839  11.563651   \n",
      "01 - Circle of Life_2.wav -57.000795 -39.625398 -61.329705 -53.079755   \n",
      "01 - Circle of Life_3.wav -13.490103  31.465241 -11.517152  -8.075195   \n",
      "01 - Circle of Life_4.wav -13.608143  26.469035  17.800095   6.472096   \n",
      "\n",
      "                                 4FF        5FF        6FF        7FF  \\\n",
      "01 - Circle of Life_0.wav -27.301782 -28.422371 -29.965447 -31.425729   \n",
      "01 - Circle of Life_1.wav   5.924881  -0.834964  -4.774746  -6.389716   \n",
      "01 - Circle of Life_2.wav -53.079755 -53.079755 -53.079755 -53.079755   \n",
      "01 - Circle of Life_3.wav -13.541514 -23.127384 -28.912905 -30.748610   \n",
      "01 - Circle of Life_4.wav   9.908368  -0.080632 -15.172361  -4.412612   \n",
      "\n",
      "                                 8FF        9FF  ...            54  \\\n",
      "01 - Circle of Life_0.wav -33.067284 -33.085120  ...  26243.623649   \n",
      "01 - Circle of Life_1.wav -17.504418 -14.421382  ...   6136.844136   \n",
      "01 - Circle of Life_2.wav -53.079755 -53.079755  ...    -76.649481   \n",
      "01 - Circle of Life_3.wav -27.849467 -34.539612  ...   -103.105712   \n",
      "01 - Circle of Life_4.wav -24.986496  -7.832176  ...   4861.735039   \n",
      "\n",
      "                                    55            56            57  \\\n",
      "01 - Circle of Life_0.wav -3058.595292  14267.556188 -13291.191995   \n",
      "01 - Circle of Life_1.wav -3076.844142   2361.478502  -4939.599395   \n",
      "01 - Circle of Life_2.wav    17.372739  -3339.984045  -3135.834931   \n",
      "01 - Circle of Life_3.wav -1950.275232  -3500.537031  -2672.831269   \n",
      "01 - Circle of Life_4.wav  4240.195601  -5972.532470  -1409.720740   \n",
      "\n",
      "                                    58           59            60  \\\n",
      "01 - Circle of Life_0.wav   187.619903 -2541.221599  11712.477644   \n",
      "01 - Circle of Life_1.wav   589.577968  3486.196776   -292.994677   \n",
      "01 - Circle of Life_2.wav -1016.589186  -401.690891    256.299059   \n",
      "01 - Circle of Life_3.wav  1713.199227 -2196.487653   1724.027204   \n",
      "01 - Circle of Life_4.wav -3760.712425  3184.106333  -1633.223336   \n",
      "\n",
      "                                    61           62           63  \n",
      "01 - Circle of Life_0.wav -7708.263305 -3567.294580  4101.579125  \n",
      "01 - Circle of Life_1.wav  2895.499113  6100.082894 -3037.000314  \n",
      "01 - Circle of Life_2.wav   145.407019  -130.054318 -1046.723738  \n",
      "01 - Circle of Life_3.wav  4182.590424   343.594705  -563.026832  \n",
      "01 - Circle of Life_4.wav   455.224398  -634.943440 -2079.716263  \n",
      "\n",
      "[5 rows x 84 columns]\n",
      "                           Algorithm  Feedback   TL1  Multiple1  DT1  RS1  \\\n",
      "01 - Circle of Life_0.wav        4.0       0.0  15.0        1.0 -3.0  0.0   \n",
      "01 - Circle of Life_1.wav        0.0       7.0  25.0        0.0  0.0  0.0   \n",
      "01 - Circle of Life_2.wav        0.0       0.0   0.0       15.0  0.0  0.0   \n",
      "01 - Circle of Life_3.wav        3.0       7.0  10.0        2.0 -3.0  0.0   \n",
      "01 - Circle of Life_4.wav        5.0       7.0  24.0        2.0 -3.0  0.0   \n",
      "\n",
      "                           AttackLv1  AM1  Decay1Lv1  SustainLv1  ...   TL4  \\\n",
      "01 - Circle of Life_0.wav       31.0  0.0        0.0         0.0  ...  12.0   \n",
      "01 - Circle of Life_1.wav       31.0  1.0        0.0         0.0  ...  27.0   \n",
      "01 - Circle of Life_2.wav       31.0  0.0        0.0         0.0  ...  21.0   \n",
      "01 - Circle of Life_3.wav       16.0  1.0       18.0        10.0  ...  17.0   \n",
      "01 - Circle of Life_4.wav       18.0  1.0       10.0         1.0  ...  19.0   \n",
      "\n",
      "                           Multiple4  DT4  RS4  AttackLv4  AM4  Decay1Lv4  \\\n",
      "01 - Circle of Life_0.wav        1.0  7.0  0.0       31.0  0.0       11.0   \n",
      "01 - Circle of Life_1.wav        0.0  0.0  0.0       21.0  1.0        0.0   \n",
      "01 - Circle of Life_2.wav        1.0  0.0  2.0       19.0  1.0        0.0   \n",
      "01 - Circle of Life_3.wav        2.0  0.0  0.0       17.0  1.0       10.0   \n",
      "01 - Circle of Life_4.wav        3.0  5.0  0.0       19.0  1.0       12.0   \n",
      "\n",
      "                           SustainLv4  Decay2Lv4  ReleaseLv4  \n",
      "01 - Circle of Life_0.wav         3.0        2.0         0.0  \n",
      "01 - Circle of Life_1.wav         0.0        4.0         0.0  \n",
      "01 - Circle of Life_2.wav         0.0       17.0         0.0  \n",
      "01 - Circle of Life_3.wav         2.0       13.0         0.0  \n",
      "01 - Circle of Life_4.wav         2.0        0.0         0.0  \n",
      "\n",
      "[5 rows x 42 columns]\n"
     ]
    }
   ],
   "source": [
    "#open directory with the spectra, PCA-reduced audio data, and register data in it.\n",
    "os.chdir('./Training_data/')\n",
    "\n",
    "SpectrumFeatures = pd.read_csv('000SampleSpectra.csv', index_col = 0) # Trying dBs for now.\n",
    "#print(SpectrumFeatures.head())\n",
    "\n",
    "WavFeatures = pd.read_csv('000PcaReducedWav.csv', index_col = 0)\n",
    "#print(WavFeatures.head())\n",
    "\n",
    "# Should combine SpectrumFeatures with WavFeatures to make one big feature array.\n",
    "Features = SpectrumFeatures.join(WavFeatures)\n",
    "print(Features.head())\n",
    "\n",
    "RegisterTargets = pd.read_csv('000SampleRegisters.csv', index_col = 0)\n",
    "RegisterTargets = RegisterTargets.drop(['Ratio1', 'Attack1', 'Decay1', 'Sustain1',\n",
    "                        'Ratio2', 'Attack2', 'Decay2', 'Sustain2',\n",
    "                        'Ratio3', 'Attack3', 'Decay3', 'Sustain3',\n",
    "                        'Ratio4', 'Attack4', 'Decay4', 'Sustain4'], axis = 'columns') # Not needed here.\n",
    "print(RegisterTargets.head())\n",
    "\n",
    "# Below, we see the feature and target arrays."
   ]
  },
  {
   "cell_type": "markdown",
   "metadata": {},
   "source": [
    "TRAINING AN ESTIMATOR MODEL"
   ]
  },
  {
   "cell_type": "code",
   "execution_count": 3,
   "metadata": {},
   "outputs": [
    {
     "data": {
      "text/plain": [
       "MLPRegressor(hidden_layer_sizes=(100, 100, 100, 100), random_state=1,\n",
       "             solver='lbfgs')"
      ]
     },
     "execution_count": 3,
     "metadata": {},
     "output_type": "execute_result"
    }
   ],
   "source": [
    "# random state is a seed for reproducibility.\n",
    "# can also try 'sgd' (stochastic gradient descent) or 'adam' (also SG-based)\n",
    "# will try 'lbfgs' (a quasi-Newton method) for now.\n",
    "\n",
    "RegressorMLP = MLPRegressor(solver='lbfgs', alpha=1e-4, hidden_layer_sizes=(100, 100, 100, 100), random_state=1)\n",
    "RegressorMLP.fit(Features,RegisterTargets)"
   ]
  },
  {
   "cell_type": "markdown",
   "metadata": {},
   "source": [
    "ANALYSIS"
   ]
  },
  {
   "cell_type": "code",
   "execution_count": 4,
   "metadata": {},
   "outputs": [
    {
     "name": "stdout",
     "output_type": "stream",
     "text": [
      "6.132660516977055e-16\n",
      "{'activation': 'relu', 'alpha': 0.0001, 'batch_size': 'auto', 'beta_1': 0.9, 'beta_2': 0.999, 'early_stopping': False, 'epsilon': 1e-08, 'hidden_layer_sizes': (100, 100, 100, 100), 'learning_rate': 'constant', 'learning_rate_init': 0.001, 'max_fun': 15000, 'max_iter': 200, 'momentum': 0.9, 'n_iter_no_change': 10, 'nesterovs_momentum': True, 'power_t': 0.5, 'random_state': 1, 'shuffle': True, 'solver': 'lbfgs', 'tol': 0.0001, 'validation_fraction': 0.1, 'verbose': False, 'warm_start': False}\n"
     ]
    }
   ],
   "source": [
    "print(RegressorMLP.score(Features,RegisterTargets)) # 1.0 is best, 0 is on par with a constant model (predicts E[y]), and negative is bad.\n",
    "print(RegressorMLP.get_params())"
   ]
  },
  {
   "cell_type": "markdown",
   "metadata": {},
   "source": [
    "TESTING WITH A SAMPLE"
   ]
  },
  {
   "cell_type": "code",
   "execution_count": 5,
   "metadata": {},
   "outputs": [],
   "source": [
    "# Need an audio sample; need to preprocess it with the PCA components already obtained.\n",
    "# Then get its spectrum. Combine to get X.\n",
    "\n",
    "# predict(X)\n"
   ]
  }
 ],
 "metadata": {
  "kernelspec": {
   "display_name": "Python 3",
   "language": "python",
   "name": "python3"
  },
  "language_info": {
   "codemirror_mode": {
    "name": "ipython",
    "version": 3
   },
   "file_extension": ".py",
   "mimetype": "text/x-python",
   "name": "python",
   "nbconvert_exporter": "python",
   "pygments_lexer": "ipython3",
   "version": "3.8.3"
  }
 },
 "nbformat": 4,
 "nbformat_minor": 4
}
